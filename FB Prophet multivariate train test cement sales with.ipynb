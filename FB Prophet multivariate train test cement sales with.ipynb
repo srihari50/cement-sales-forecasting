{
 "cells": [
  {
   "cell_type": "markdown",
   "metadata": {},
   "source": [
    "#                                 Cement Sales Forecasting"
   ]
  },
  {
   "cell_type": "markdown",
   "metadata": {},
   "source": [
    "Import required libraries"
   ]
  },
  {
   "cell_type": "code",
   "execution_count": 178,
   "metadata": {},
   "outputs": [],
   "source": [
    "import pandas as pd\n",
    "import matplotlib.pyplot as plt\n",
    "import seaborn as sns\n",
    "from statsmodels.tsa.stattools import adfuller\n",
    "from prophet import Prophet\n",
    "from prophet.plot import plot_plotly\n",
    "from sklearn.metrics import mean_squared_error, mean_absolute_error, mean_absolute_percentage_error\n",
    "import math"
   ]
  },
  {
   "cell_type": "markdown",
   "metadata": {},
   "source": [
    "Importing dataset"
   ]
  },
  {
   "cell_type": "code",
   "execution_count": 179,
   "metadata": {},
   "outputs": [
    {
     "data": {
      "text/html": [
       "<div>\n",
       "<style scoped>\n",
       "    .dataframe tbody tr th:only-of-type {\n",
       "        vertical-align: middle;\n",
       "    }\n",
       "\n",
       "    .dataframe tbody tr th {\n",
       "        vertical-align: top;\n",
       "    }\n",
       "\n",
       "    .dataframe thead th {\n",
       "        text-align: right;\n",
       "    }\n",
       "</style>\n",
       "<table border=\"1\" class=\"dataframe\">\n",
       "  <thead>\n",
       "    <tr style=\"text-align: right;\">\n",
       "      <th></th>\n",
       "      <th>Date</th>\n",
       "      <th>GDP_Construction_Rs_Crs</th>\n",
       "      <th>GDP_Realestate_Rs_Crs</th>\n",
       "      <th>Oveall_GDP_Growth%</th>\n",
       "      <th>Water_Source</th>\n",
       "      <th>Limestone</th>\n",
       "      <th>Coal_Milliontonne</th>\n",
       "      <th>Home_Interest_Rate</th>\n",
       "      <th>Trasportation_Cost</th>\n",
       "      <th>Order_Quantity_Milliontonnes</th>\n",
       "      <th>Sales_Quantity_Milliontonnes</th>\n",
       "      <th>Unit_Price</th>\n",
       "    </tr>\n",
       "  </thead>\n",
       "  <tbody>\n",
       "    <tr>\n",
       "      <th>0</th>\n",
       "      <td>2015-01-31</td>\n",
       "      <td>214180</td>\n",
       "      <td>481401</td>\n",
       "      <td>7.5</td>\n",
       "      <td>178.06</td>\n",
       "      <td>169.76</td>\n",
       "      <td>0.0944</td>\n",
       "      <td>10.15</td>\n",
       "      <td>322.070000</td>\n",
       "      <td>4.798</td>\n",
       "      <td>4.598</td>\n",
       "      <td>350.23</td>\n",
       "    </tr>\n",
       "    <tr>\n",
       "      <th>1</th>\n",
       "      <td>2015-02-28</td>\n",
       "      <td>214180</td>\n",
       "      <td>481401</td>\n",
       "      <td>8.0</td>\n",
       "      <td>169.09</td>\n",
       "      <td>238.44</td>\n",
       "      <td>0.0745</td>\n",
       "      <td>10.00</td>\n",
       "      <td>316.918451</td>\n",
       "      <td>4.318</td>\n",
       "      <td>4.308</td>\n",
       "      <td>350.31</td>\n",
       "    </tr>\n",
       "    <tr>\n",
       "      <th>2</th>\n",
       "      <td>2015-03-31</td>\n",
       "      <td>214180</td>\n",
       "      <td>481401</td>\n",
       "      <td>8.5</td>\n",
       "      <td>170.73</td>\n",
       "      <td>176.68</td>\n",
       "      <td>0.0721</td>\n",
       "      <td>9.10</td>\n",
       "      <td>286.484332</td>\n",
       "      <td>3.719</td>\n",
       "      <td>3.659</td>\n",
       "      <td>355.89</td>\n",
       "    </tr>\n",
       "    <tr>\n",
       "      <th>3</th>\n",
       "      <td>2015-04-30</td>\n",
       "      <td>218253</td>\n",
       "      <td>594978</td>\n",
       "      <td>8.6</td>\n",
       "      <td>266.73</td>\n",
       "      <td>234.24</td>\n",
       "      <td>0.0733</td>\n",
       "      <td>10.20</td>\n",
       "      <td>286.292799</td>\n",
       "      <td>3.583</td>\n",
       "      <td>3.510</td>\n",
       "      <td>354.63</td>\n",
       "    </tr>\n",
       "    <tr>\n",
       "      <th>4</th>\n",
       "      <td>2015-05-31</td>\n",
       "      <td>218253</td>\n",
       "      <td>594978</td>\n",
       "      <td>8.5</td>\n",
       "      <td>243.53</td>\n",
       "      <td>220.01</td>\n",
       "      <td>0.0734</td>\n",
       "      <td>9.90</td>\n",
       "      <td>300.299462</td>\n",
       "      <td>3.581</td>\n",
       "      <td>3.541</td>\n",
       "      <td>353.36</td>\n",
       "    </tr>\n",
       "    <tr>\n",
       "      <th>...</th>\n",
       "      <td>...</td>\n",
       "      <td>...</td>\n",
       "      <td>...</td>\n",
       "      <td>...</td>\n",
       "      <td>...</td>\n",
       "      <td>...</td>\n",
       "      <td>...</td>\n",
       "      <td>...</td>\n",
       "      <td>...</td>\n",
       "      <td>...</td>\n",
       "      <td>...</td>\n",
       "      <td>...</td>\n",
       "    </tr>\n",
       "    <tr>\n",
       "      <th>91</th>\n",
       "      <td>2022-08-31</td>\n",
       "      <td>273487</td>\n",
       "      <td>816470</td>\n",
       "      <td>8.5</td>\n",
       "      <td>121.56</td>\n",
       "      <td>141.74</td>\n",
       "      <td>0.0734</td>\n",
       "      <td>7.35</td>\n",
       "      <td>494.928740</td>\n",
       "      <td>6.317</td>\n",
       "      <td>6.245</td>\n",
       "      <td>396.26</td>\n",
       "    </tr>\n",
       "    <tr>\n",
       "      <th>92</th>\n",
       "      <td>2022-09-30</td>\n",
       "      <td>273487</td>\n",
       "      <td>816470</td>\n",
       "      <td>8.3</td>\n",
       "      <td>247.73</td>\n",
       "      <td>168.44</td>\n",
       "      <td>0.0893</td>\n",
       "      <td>7.35</td>\n",
       "      <td>520.414790</td>\n",
       "      <td>7.126</td>\n",
       "      <td>7.015</td>\n",
       "      <td>370.93</td>\n",
       "    </tr>\n",
       "    <tr>\n",
       "      <th>93</th>\n",
       "      <td>2022-10-31</td>\n",
       "      <td>324378</td>\n",
       "      <td>843219</td>\n",
       "      <td>7.6</td>\n",
       "      <td>262.48</td>\n",
       "      <td>146.56</td>\n",
       "      <td>0.1277</td>\n",
       "      <td>7.60</td>\n",
       "      <td>517.847712</td>\n",
       "      <td>7.223</td>\n",
       "      <td>7.152</td>\n",
       "      <td>362.03</td>\n",
       "    </tr>\n",
       "    <tr>\n",
       "      <th>94</th>\n",
       "      <td>2022-11-30</td>\n",
       "      <td>324378</td>\n",
       "      <td>843219</td>\n",
       "      <td>8.9</td>\n",
       "      <td>150.98</td>\n",
       "      <td>159.77</td>\n",
       "      <td>0.1245</td>\n",
       "      <td>7.75</td>\n",
       "      <td>581.142216</td>\n",
       "      <td>8.229</td>\n",
       "      <td>8.124</td>\n",
       "      <td>357.67</td>\n",
       "    </tr>\n",
       "    <tr>\n",
       "      <th>95</th>\n",
       "      <td>2022-12-31</td>\n",
       "      <td>324378</td>\n",
       "      <td>843219</td>\n",
       "      <td>7.8</td>\n",
       "      <td>151.63</td>\n",
       "      <td>195.44</td>\n",
       "      <td>0.1349</td>\n",
       "      <td>8.00</td>\n",
       "      <td>690.657836</td>\n",
       "      <td>8.701</td>\n",
       "      <td>8.954</td>\n",
       "      <td>385.67</td>\n",
       "    </tr>\n",
       "  </tbody>\n",
       "</table>\n",
       "<p>96 rows × 12 columns</p>\n",
       "</div>"
      ],
      "text/plain": [
       "         Date  GDP_Construction_Rs_Crs  GDP_Realestate_Rs_Crs  \\\n",
       "0  2015-01-31                   214180                 481401   \n",
       "1  2015-02-28                   214180                 481401   \n",
       "2  2015-03-31                   214180                 481401   \n",
       "3  2015-04-30                   218253                 594978   \n",
       "4  2015-05-31                   218253                 594978   \n",
       "..        ...                      ...                    ...   \n",
       "91 2022-08-31                   273487                 816470   \n",
       "92 2022-09-30                   273487                 816470   \n",
       "93 2022-10-31                   324378                 843219   \n",
       "94 2022-11-30                   324378                 843219   \n",
       "95 2022-12-31                   324378                 843219   \n",
       "\n",
       "    Oveall_GDP_Growth%  Water_Source  Limestone  Coal_Milliontonne  \\\n",
       "0                  7.5        178.06     169.76             0.0944   \n",
       "1                  8.0        169.09     238.44             0.0745   \n",
       "2                  8.5        170.73     176.68             0.0721   \n",
       "3                  8.6        266.73     234.24             0.0733   \n",
       "4                  8.5        243.53     220.01             0.0734   \n",
       "..                 ...           ...        ...                ...   \n",
       "91                 8.5        121.56     141.74             0.0734   \n",
       "92                 8.3        247.73     168.44             0.0893   \n",
       "93                 7.6        262.48     146.56             0.1277   \n",
       "94                 8.9        150.98     159.77             0.1245   \n",
       "95                 7.8        151.63     195.44             0.1349   \n",
       "\n",
       "    Home_Interest_Rate  Trasportation_Cost  Order_Quantity_Milliontonnes  \\\n",
       "0                10.15          322.070000                         4.798   \n",
       "1                10.00          316.918451                         4.318   \n",
       "2                 9.10          286.484332                         3.719   \n",
       "3                10.20          286.292799                         3.583   \n",
       "4                 9.90          300.299462                         3.581   \n",
       "..                 ...                 ...                           ...   \n",
       "91                7.35          494.928740                         6.317   \n",
       "92                7.35          520.414790                         7.126   \n",
       "93                7.60          517.847712                         7.223   \n",
       "94                7.75          581.142216                         8.229   \n",
       "95                8.00          690.657836                         8.701   \n",
       "\n",
       "    Sales_Quantity_Milliontonnes  Unit_Price  \n",
       "0                          4.598      350.23  \n",
       "1                          4.308      350.31  \n",
       "2                          3.659      355.89  \n",
       "3                          3.510      354.63  \n",
       "4                          3.541      353.36  \n",
       "..                           ...         ...  \n",
       "91                         6.245      396.26  \n",
       "92                         7.015      370.93  \n",
       "93                         7.152      362.03  \n",
       "94                         8.124      357.67  \n",
       "95                         8.954      385.67  \n",
       "\n",
       "[96 rows x 12 columns]"
      ]
     },
     "execution_count": 179,
     "metadata": {},
     "output_type": "execute_result"
    }
   ],
   "source": [
    "df = pd.read_excel(r\"C:\\Users\\sriha\\Desktop\\cement project\\All India_Features.xlsx\")\n",
    "df"
   ]
  },
  {
   "cell_type": "code",
   "execution_count": 180,
   "metadata": {},
   "outputs": [
    {
     "data": {
      "text/html": [
       "<div>\n",
       "<style scoped>\n",
       "    .dataframe tbody tr th:only-of-type {\n",
       "        vertical-align: middle;\n",
       "    }\n",
       "\n",
       "    .dataframe tbody tr th {\n",
       "        vertical-align: top;\n",
       "    }\n",
       "\n",
       "    .dataframe thead th {\n",
       "        text-align: right;\n",
       "    }\n",
       "</style>\n",
       "<table border=\"1\" class=\"dataframe\">\n",
       "  <thead>\n",
       "    <tr style=\"text-align: right;\">\n",
       "      <th></th>\n",
       "      <th>Date</th>\n",
       "      <th>Sales_Quantity_Milliontonnes</th>\n",
       "    </tr>\n",
       "  </thead>\n",
       "  <tbody>\n",
       "    <tr>\n",
       "      <th>0</th>\n",
       "      <td>2015-01-31</td>\n",
       "      <td>4.598</td>\n",
       "    </tr>\n",
       "    <tr>\n",
       "      <th>1</th>\n",
       "      <td>2015-02-28</td>\n",
       "      <td>4.308</td>\n",
       "    </tr>\n",
       "    <tr>\n",
       "      <th>2</th>\n",
       "      <td>2015-03-31</td>\n",
       "      <td>3.659</td>\n",
       "    </tr>\n",
       "    <tr>\n",
       "      <th>3</th>\n",
       "      <td>2015-04-30</td>\n",
       "      <td>3.510</td>\n",
       "    </tr>\n",
       "    <tr>\n",
       "      <th>4</th>\n",
       "      <td>2015-05-31</td>\n",
       "      <td>3.541</td>\n",
       "    </tr>\n",
       "    <tr>\n",
       "      <th>...</th>\n",
       "      <td>...</td>\n",
       "      <td>...</td>\n",
       "    </tr>\n",
       "    <tr>\n",
       "      <th>91</th>\n",
       "      <td>2022-08-31</td>\n",
       "      <td>6.245</td>\n",
       "    </tr>\n",
       "    <tr>\n",
       "      <th>92</th>\n",
       "      <td>2022-09-30</td>\n",
       "      <td>7.015</td>\n",
       "    </tr>\n",
       "    <tr>\n",
       "      <th>93</th>\n",
       "      <td>2022-10-31</td>\n",
       "      <td>7.152</td>\n",
       "    </tr>\n",
       "    <tr>\n",
       "      <th>94</th>\n",
       "      <td>2022-11-30</td>\n",
       "      <td>8.124</td>\n",
       "    </tr>\n",
       "    <tr>\n",
       "      <th>95</th>\n",
       "      <td>2022-12-31</td>\n",
       "      <td>8.954</td>\n",
       "    </tr>\n",
       "  </tbody>\n",
       "</table>\n",
       "<p>96 rows × 2 columns</p>\n",
       "</div>"
      ],
      "text/plain": [
       "         Date  Sales_Quantity_Milliontonnes\n",
       "0  2015-01-31                         4.598\n",
       "1  2015-02-28                         4.308\n",
       "2  2015-03-31                         3.659\n",
       "3  2015-04-30                         3.510\n",
       "4  2015-05-31                         3.541\n",
       "..        ...                           ...\n",
       "91 2022-08-31                         6.245\n",
       "92 2022-09-30                         7.015\n",
       "93 2022-10-31                         7.152\n",
       "94 2022-11-30                         8.124\n",
       "95 2022-12-31                         8.954\n",
       "\n",
       "[96 rows x 2 columns]"
      ]
     },
     "execution_count": 180,
     "metadata": {},
     "output_type": "execute_result"
    }
   ],
   "source": [
    "sub = df[['Date', 'Sales_Quantity_Milliontonnes']]\n",
    "sub"
   ]
  },
  {
   "cell_type": "code",
   "execution_count": 181,
   "metadata": {},
   "outputs": [
    {
     "data": {
      "text/html": [
       "<div>\n",
       "<style scoped>\n",
       "    .dataframe tbody tr th:only-of-type {\n",
       "        vertical-align: middle;\n",
       "    }\n",
       "\n",
       "    .dataframe tbody tr th {\n",
       "        vertical-align: top;\n",
       "    }\n",
       "\n",
       "    .dataframe thead th {\n",
       "        text-align: right;\n",
       "    }\n",
       "</style>\n",
       "<table border=\"1\" class=\"dataframe\">\n",
       "  <thead>\n",
       "    <tr style=\"text-align: right;\">\n",
       "      <th></th>\n",
       "      <th>GDP_Construction_Rs_Crs</th>\n",
       "      <th>GDP_Realestate_Rs_Crs</th>\n",
       "      <th>Oveall_GDP_Growth%</th>\n",
       "      <th>Water_Source</th>\n",
       "      <th>Limestone</th>\n",
       "      <th>Coal_Milliontonne</th>\n",
       "      <th>Home_Interest_Rate</th>\n",
       "      <th>Trasportation_Cost</th>\n",
       "      <th>Order_Quantity_Milliontonnes</th>\n",
       "      <th>Sales_Quantity_Milliontonnes</th>\n",
       "      <th>Unit_Price</th>\n",
       "    </tr>\n",
       "  </thead>\n",
       "  <tbody>\n",
       "    <tr>\n",
       "      <th>count</th>\n",
       "      <td>96.000000</td>\n",
       "      <td>96.00000</td>\n",
       "      <td>96.000000</td>\n",
       "      <td>96.000000</td>\n",
       "      <td>96.000000</td>\n",
       "      <td>96.000000</td>\n",
       "      <td>96.000000</td>\n",
       "      <td>96.000000</td>\n",
       "      <td>96.000000</td>\n",
       "      <td>96.000000</td>\n",
       "      <td>96.000000</td>\n",
       "    </tr>\n",
       "    <tr>\n",
       "      <th>mean</th>\n",
       "      <td>240150.187500</td>\n",
       "      <td>699625.31250</td>\n",
       "      <td>5.460417</td>\n",
       "      <td>202.713229</td>\n",
       "      <td>168.941667</td>\n",
       "      <td>0.089729</td>\n",
       "      <td>7.966146</td>\n",
       "      <td>436.675698</td>\n",
       "      <td>5.621927</td>\n",
       "      <td>5.568677</td>\n",
       "      <td>376.462917</td>\n",
       "    </tr>\n",
       "    <tr>\n",
       "      <th>std</th>\n",
       "      <td>54762.487549</td>\n",
       "      <td>119928.39492</td>\n",
       "      <td>6.850685</td>\n",
       "      <td>52.629867</td>\n",
       "      <td>39.720864</td>\n",
       "      <td>0.023971</td>\n",
       "      <td>1.139910</td>\n",
       "      <td>116.204055</td>\n",
       "      <td>1.674881</td>\n",
       "      <td>1.643412</td>\n",
       "      <td>15.064145</td>\n",
       "    </tr>\n",
       "    <tr>\n",
       "      <th>min</th>\n",
       "      <td>24071.000000</td>\n",
       "      <td>481401.00000</td>\n",
       "      <td>-28.300000</td>\n",
       "      <td>103.250000</td>\n",
       "      <td>100.430000</td>\n",
       "      <td>0.059800</td>\n",
       "      <td>6.650000</td>\n",
       "      <td>248.878362</td>\n",
       "      <td>3.039000</td>\n",
       "      <td>3.021000</td>\n",
       "      <td>350.150000</td>\n",
       "    </tr>\n",
       "    <tr>\n",
       "      <th>25%</th>\n",
       "      <td>224883.500000</td>\n",
       "      <td>611022.00000</td>\n",
       "      <td>5.200000</td>\n",
       "      <td>164.052500</td>\n",
       "      <td>139.740000</td>\n",
       "      <td>0.073000</td>\n",
       "      <td>6.925000</td>\n",
       "      <td>335.536787</td>\n",
       "      <td>4.122000</td>\n",
       "      <td>4.103500</td>\n",
       "      <td>363.760000</td>\n",
       "    </tr>\n",
       "    <tr>\n",
       "      <th>50%</th>\n",
       "      <td>240005.500000</td>\n",
       "      <td>701130.50000</td>\n",
       "      <td>6.800000</td>\n",
       "      <td>199.145000</td>\n",
       "      <td>168.765000</td>\n",
       "      <td>0.082200</td>\n",
       "      <td>7.850000</td>\n",
       "      <td>433.109541</td>\n",
       "      <td>5.670500</td>\n",
       "      <td>5.646500</td>\n",
       "      <td>377.300000</td>\n",
       "    </tr>\n",
       "    <tr>\n",
       "      <th>75%</th>\n",
       "      <td>261470.500000</td>\n",
       "      <td>799100.00000</td>\n",
       "      <td>8.100000</td>\n",
       "      <td>243.707500</td>\n",
       "      <td>202.352500</td>\n",
       "      <td>0.098425</td>\n",
       "      <td>8.337500</td>\n",
       "      <td>519.000843</td>\n",
       "      <td>6.914250</td>\n",
       "      <td>6.897000</td>\n",
       "      <td>389.380000</td>\n",
       "    </tr>\n",
       "    <tr>\n",
       "      <th>max</th>\n",
       "      <td>338283.000000</td>\n",
       "      <td>924137.00000</td>\n",
       "      <td>24.500000</td>\n",
       "      <td>298.670000</td>\n",
       "      <td>247.280000</td>\n",
       "      <td>0.150100</td>\n",
       "      <td>10.750000</td>\n",
       "      <td>715.424600</td>\n",
       "      <td>9.047000</td>\n",
       "      <td>8.954000</td>\n",
       "      <td>399.830000</td>\n",
       "    </tr>\n",
       "  </tbody>\n",
       "</table>\n",
       "</div>"
      ],
      "text/plain": [
       "       GDP_Construction_Rs_Crs  GDP_Realestate_Rs_Crs  Oveall_GDP_Growth%  \\\n",
       "count                96.000000               96.00000           96.000000   \n",
       "mean             240150.187500           699625.31250            5.460417   \n",
       "std               54762.487549           119928.39492            6.850685   \n",
       "min               24071.000000           481401.00000          -28.300000   \n",
       "25%              224883.500000           611022.00000            5.200000   \n",
       "50%              240005.500000           701130.50000            6.800000   \n",
       "75%              261470.500000           799100.00000            8.100000   \n",
       "max              338283.000000           924137.00000           24.500000   \n",
       "\n",
       "       Water_Source   Limestone  Coal_Milliontonne  Home_Interest_Rate  \\\n",
       "count     96.000000   96.000000          96.000000           96.000000   \n",
       "mean     202.713229  168.941667           0.089729            7.966146   \n",
       "std       52.629867   39.720864           0.023971            1.139910   \n",
       "min      103.250000  100.430000           0.059800            6.650000   \n",
       "25%      164.052500  139.740000           0.073000            6.925000   \n",
       "50%      199.145000  168.765000           0.082200            7.850000   \n",
       "75%      243.707500  202.352500           0.098425            8.337500   \n",
       "max      298.670000  247.280000           0.150100           10.750000   \n",
       "\n",
       "       Trasportation_Cost  Order_Quantity_Milliontonnes  \\\n",
       "count           96.000000                     96.000000   \n",
       "mean           436.675698                      5.621927   \n",
       "std            116.204055                      1.674881   \n",
       "min            248.878362                      3.039000   \n",
       "25%            335.536787                      4.122000   \n",
       "50%            433.109541                      5.670500   \n",
       "75%            519.000843                      6.914250   \n",
       "max            715.424600                      9.047000   \n",
       "\n",
       "       Sales_Quantity_Milliontonnes  Unit_Price  \n",
       "count                     96.000000   96.000000  \n",
       "mean                       5.568677  376.462917  \n",
       "std                        1.643412   15.064145  \n",
       "min                        3.021000  350.150000  \n",
       "25%                        4.103500  363.760000  \n",
       "50%                        5.646500  377.300000  \n",
       "75%                        6.897000  389.380000  \n",
       "max                        8.954000  399.830000  "
      ]
     },
     "execution_count": 181,
     "metadata": {},
     "output_type": "execute_result"
    }
   ],
   "source": [
    "df.describe()"
   ]
  },
  {
   "cell_type": "code",
   "execution_count": 182,
   "metadata": {},
   "outputs": [
    {
     "data": {
      "text/plain": [
       "Date                            0\n",
       "GDP_Construction_Rs_Crs         0\n",
       "GDP_Realestate_Rs_Crs           0\n",
       "Oveall_GDP_Growth%              0\n",
       "Water_Source                    0\n",
       "Limestone                       0\n",
       "Coal_Milliontonne               0\n",
       "Home_Interest_Rate              0\n",
       "Trasportation_Cost              0\n",
       "Order_Quantity_Milliontonnes    0\n",
       "Sales_Quantity_Milliontonnes    0\n",
       "Unit_Price                      0\n",
       "dtype: int64"
      ]
     },
     "execution_count": 182,
     "metadata": {},
     "output_type": "execute_result"
    }
   ],
   "source": [
    "df.isna().sum()"
   ]
  },
  {
   "cell_type": "code",
   "execution_count": 183,
   "metadata": {},
   "outputs": [
    {
     "data": {
      "text/plain": [
       "0"
      ]
     },
     "execution_count": 183,
     "metadata": {},
     "output_type": "execute_result"
    }
   ],
   "source": [
    "df.duplicated().sum()"
   ]
  },
  {
   "cell_type": "code",
   "execution_count": 184,
   "metadata": {},
   "outputs": [
    {
     "name": "stdout",
     "output_type": "stream",
     "text": [
      "<class 'pandas.core.frame.DataFrame'>\n",
      "RangeIndex: 96 entries, 0 to 95\n",
      "Data columns (total 12 columns):\n",
      " #   Column                        Non-Null Count  Dtype         \n",
      "---  ------                        --------------  -----         \n",
      " 0   Date                          96 non-null     datetime64[ns]\n",
      " 1   GDP_Construction_Rs_Crs       96 non-null     int64         \n",
      " 2   GDP_Realestate_Rs_Crs         96 non-null     int64         \n",
      " 3   Oveall_GDP_Growth%            96 non-null     float64       \n",
      " 4   Water_Source                  96 non-null     float64       \n",
      " 5   Limestone                     96 non-null     float64       \n",
      " 6   Coal_Milliontonne             96 non-null     float64       \n",
      " 7   Home_Interest_Rate            96 non-null     float64       \n",
      " 8   Trasportation_Cost            96 non-null     float64       \n",
      " 9   Order_Quantity_Milliontonnes  96 non-null     float64       \n",
      " 10  Sales_Quantity_Milliontonnes  96 non-null     float64       \n",
      " 11  Unit_Price                    96 non-null     float64       \n",
      "dtypes: datetime64[ns](1), float64(9), int64(2)\n",
      "memory usage: 9.1 KB\n"
     ]
    }
   ],
   "source": [
    "df.info()"
   ]
  },
  {
   "cell_type": "markdown",
   "metadata": {},
   "source": [
    "Typecasting"
   ]
  },
  {
   "cell_type": "code",
   "execution_count": 185,
   "metadata": {},
   "outputs": [],
   "source": [
    "df[['GDP_Realestate_Rs_Crs', 'GDP_Construction_Rs_Crs']] = df[['GDP_Realestate_Rs_Crs', 'GDP_Construction_Rs_Crs']].astype(float)"
   ]
  },
  {
   "cell_type": "code",
   "execution_count": 186,
   "metadata": {},
   "outputs": [
    {
     "name": "stdout",
     "output_type": "stream",
     "text": [
      "<class 'pandas.core.frame.DataFrame'>\n",
      "RangeIndex: 96 entries, 0 to 95\n",
      "Data columns (total 12 columns):\n",
      " #   Column                        Non-Null Count  Dtype         \n",
      "---  ------                        --------------  -----         \n",
      " 0   Date                          96 non-null     datetime64[ns]\n",
      " 1   GDP_Construction_Rs_Crs       96 non-null     float64       \n",
      " 2   GDP_Realestate_Rs_Crs         96 non-null     float64       \n",
      " 3   Oveall_GDP_Growth%            96 non-null     float64       \n",
      " 4   Water_Source                  96 non-null     float64       \n",
      " 5   Limestone                     96 non-null     float64       \n",
      " 6   Coal_Milliontonne             96 non-null     float64       \n",
      " 7   Home_Interest_Rate            96 non-null     float64       \n",
      " 8   Trasportation_Cost            96 non-null     float64       \n",
      " 9   Order_Quantity_Milliontonnes  96 non-null     float64       \n",
      " 10  Sales_Quantity_Milliontonnes  96 non-null     float64       \n",
      " 11  Unit_Price                    96 non-null     float64       \n",
      "dtypes: datetime64[ns](1), float64(11)\n",
      "memory usage: 9.1 KB\n"
     ]
    }
   ],
   "source": [
    "df.info()"
   ]
  },
  {
   "cell_type": "code",
   "execution_count": 187,
   "metadata": {},
   "outputs": [
    {
     "data": {
      "text/plain": [
       "(array([14., 15.,  9.,  7., 12., 10., 11.,  7.,  8.,  3.]),\n",
       " array([3.021 , 3.6143, 4.2076, 4.8009, 5.3942, 5.9875, 6.5808, 7.1741,\n",
       "        7.7674, 8.3607, 8.954 ]),\n",
       " <BarContainer object of 10 artists>)"
      ]
     },
     "execution_count": 187,
     "metadata": {},
     "output_type": "execute_result"
    },
    {
     "data": {
      "image/png": "[encoded data removed]",
      "text/plain": [
       "<Figure size 640x480 with 1 Axes>"
      ]
     },
     "metadata": {},
     "output_type": "display_data"
    }
   ],
   "source": [
    "plt.hist(df['Sales_Quantity_Milliontonnes'])"
   ]
  },
  {
   "cell_type": "markdown",
   "metadata": {},
   "source": [
    "Checking outliers"
   ]
  },
  {
   "cell_type": "code",
   "execution_count": 188,
   "metadata": {},
   "outputs": [
    {
     "name": "stderr",
     "output_type": "stream",
     "text": [
      "C:\\Users\\sriha\\anaconda3\\lib\\site-packages\\seaborn\\_decorators.py:36: FutureWarning:\n",
      "\n",
      "Pass the following variable as a keyword arg: x. From version 0.12, the only valid positional argument will be `data`, and passing other arguments without an explicit keyword will result in an error or misinterpretation.\n",
      "\n"
     ]
    },
    {
     "data": {
      "text/plain": [
       "<AxesSubplot: xlabel='GDP_Construction_Rs_Crs'>"
      ]
     },
     "execution_count": 188,
     "metadata": {},
     "output_type": "execute_result"
    },
    {
     "data": {
      "image/png": "[encoded data removed]",
      "text/plain": [
       "<Figure size 640x480 with 1 Axes>"
      ]
     },
     "metadata": {},
     "output_type": "display_data"
    }
   ],
   "source": [
    "sns.boxplot(df['GDP_Construction_Rs_Crs'])"
   ]
  },
  {
   "cell_type": "code",
   "execution_count": 189,
   "metadata": {},
   "outputs": [
    {
     "name": "stderr",
     "output_type": "stream",
     "text": [
      "C:\\Users\\sriha\\anaconda3\\lib\\site-packages\\seaborn\\_decorators.py:36: FutureWarning:\n",
      "\n",
      "Pass the following variable as a keyword arg: x. From version 0.12, the only valid positional argument will be `data`, and passing other arguments without an explicit keyword will result in an error or misinterpretation.\n",
      "\n"
     ]
    },
    {
     "data": {
      "text/plain": [
       "<AxesSubplot: xlabel='Oveall_GDP_Growth%'>"
      ]
     },
     "execution_count": 189,
     "metadata": {},
     "output_type": "execute_result"
    },
    {
     "data": {
      "image/png": "[encoded data removed]",
      "text/plain": [
       "<Figure size 640x480 with 1 Axes>"
      ]
     },
     "metadata": {},
     "output_type": "display_data"
    }
   ],
   "source": [
    "sns.boxplot(df['Oveall_GDP_Growth%'])"
   ]
  },
  {
   "cell_type": "code",
   "execution_count": 190,
   "metadata": {},
   "outputs": [
    {
     "name": "stderr",
     "output_type": "stream",
     "text": [
      "C:\\Users\\sriha\\anaconda3\\lib\\site-packages\\seaborn\\_decorators.py:36: FutureWarning:\n",
      "\n",
      "Pass the following variable as a keyword arg: x. From version 0.12, the only valid positional argument will be `data`, and passing other arguments without an explicit keyword will result in an error or misinterpretation.\n",
      "\n"
     ]
    },
    {
     "data": {
      "text/plain": [
       "<AxesSubplot: xlabel='Coal_Milliontonne'>"
      ]
     },
     "execution_count": 190,
     "metadata": {},
     "output_type": "execute_result"
    },
    {
     "data": {
      "image/png": "[encoded data removed]",
      "text/plain": [
       "<Figure size 640x480 with 1 Axes>"
      ]
     },
     "metadata": {},
     "output_type": "display_data"
    }
   ],
   "source": [
    "sns.boxplot(df['Coal_Milliontonne'])"
   ]
  },
  {
   "cell_type": "code",
   "execution_count": 191,
   "metadata": {},
   "outputs": [
    {
     "name": "stderr",
     "output_type": "stream",
     "text": [
      "C:\\Users\\sriha\\anaconda3\\lib\\site-packages\\seaborn\\_decorators.py:36: FutureWarning:\n",
      "\n",
      "Pass the following variable as a keyword arg: x. From version 0.12, the only valid positional argument will be `data`, and passing other arguments without an explicit keyword will result in an error or misinterpretation.\n",
      "\n"
     ]
    },
    {
     "data": {
      "text/plain": [
       "<AxesSubplot: xlabel='Home_Interest_Rate'>"
      ]
     },
     "execution_count": 191,
     "metadata": {},
     "output_type": "execute_result"
    },
    {
     "data": {
      "image/png": "[encoded data removed]",
      "text/plain": [
       "<Figure size 640x480 with 1 Axes>"
      ]
     },
     "metadata": {},
     "output_type": "display_data"
    }
   ],
   "source": [
    "sns.boxplot(df['Home_Interest_Rate'])"
   ]
  },
  {
   "cell_type": "markdown",
   "metadata": {},
   "source": [
    "Winsorization to remove outliers"
   ]
  },
  {
   "cell_type": "code",
   "execution_count": 192,
   "metadata": {},
   "outputs": [
    {
     "data": {
      "text/html": [
       "<div>\n",
       "<style scoped>\n",
       "    .dataframe tbody tr th:only-of-type {\n",
       "        vertical-align: middle;\n",
       "    }\n",
       "\n",
       "    .dataframe tbody tr th {\n",
       "        vertical-align: top;\n",
       "    }\n",
       "\n",
       "    .dataframe thead th {\n",
       "        text-align: right;\n",
       "    }\n",
       "</style>\n",
       "<table border=\"1\" class=\"dataframe\">\n",
       "  <thead>\n",
       "    <tr style=\"text-align: right;\">\n",
       "      <th></th>\n",
       "      <th>Date</th>\n",
       "      <th>GDP_Construction_Rs_Crs</th>\n",
       "      <th>GDP_Realestate_Rs_Crs</th>\n",
       "      <th>Oveall_GDP_Growth%</th>\n",
       "      <th>Water_Source</th>\n",
       "      <th>Limestone</th>\n",
       "      <th>Coal_Milliontonne</th>\n",
       "      <th>Home_Interest_Rate</th>\n",
       "      <th>Trasportation_Cost</th>\n",
       "      <th>Order_Quantity_Milliontonnes</th>\n",
       "      <th>Sales_Quantity_Milliontonnes</th>\n",
       "      <th>Unit_Price</th>\n",
       "    </tr>\n",
       "  </thead>\n",
       "  <tbody>\n",
       "    <tr>\n",
       "      <th>0</th>\n",
       "      <td>2015-01-31</td>\n",
       "      <td>214180.0</td>\n",
       "      <td>481401.0</td>\n",
       "      <td>7.5</td>\n",
       "      <td>178.06</td>\n",
       "      <td>169.76</td>\n",
       "      <td>0.0944</td>\n",
       "      <td>10.15</td>\n",
       "      <td>322.070000</td>\n",
       "      <td>4.798</td>\n",
       "      <td>4.598</td>\n",
       "      <td>350.23</td>\n",
       "    </tr>\n",
       "    <tr>\n",
       "      <th>1</th>\n",
       "      <td>2015-02-28</td>\n",
       "      <td>214180.0</td>\n",
       "      <td>481401.0</td>\n",
       "      <td>8.0</td>\n",
       "      <td>169.09</td>\n",
       "      <td>238.44</td>\n",
       "      <td>0.0745</td>\n",
       "      <td>10.00</td>\n",
       "      <td>316.918451</td>\n",
       "      <td>4.318</td>\n",
       "      <td>4.308</td>\n",
       "      <td>350.31</td>\n",
       "    </tr>\n",
       "    <tr>\n",
       "      <th>2</th>\n",
       "      <td>2015-03-31</td>\n",
       "      <td>214180.0</td>\n",
       "      <td>481401.0</td>\n",
       "      <td>8.5</td>\n",
       "      <td>170.73</td>\n",
       "      <td>176.68</td>\n",
       "      <td>0.0721</td>\n",
       "      <td>9.10</td>\n",
       "      <td>286.484332</td>\n",
       "      <td>3.719</td>\n",
       "      <td>3.659</td>\n",
       "      <td>355.89</td>\n",
       "    </tr>\n",
       "    <tr>\n",
       "      <th>3</th>\n",
       "      <td>2015-04-30</td>\n",
       "      <td>218253.0</td>\n",
       "      <td>594978.0</td>\n",
       "      <td>8.6</td>\n",
       "      <td>266.73</td>\n",
       "      <td>234.24</td>\n",
       "      <td>0.0733</td>\n",
       "      <td>10.20</td>\n",
       "      <td>286.292799</td>\n",
       "      <td>3.583</td>\n",
       "      <td>3.510</td>\n",
       "      <td>354.63</td>\n",
       "    </tr>\n",
       "    <tr>\n",
       "      <th>4</th>\n",
       "      <td>2015-05-31</td>\n",
       "      <td>218253.0</td>\n",
       "      <td>594978.0</td>\n",
       "      <td>8.5</td>\n",
       "      <td>243.53</td>\n",
       "      <td>220.01</td>\n",
       "      <td>0.0734</td>\n",
       "      <td>9.90</td>\n",
       "      <td>300.299462</td>\n",
       "      <td>3.581</td>\n",
       "      <td>3.541</td>\n",
       "      <td>353.36</td>\n",
       "    </tr>\n",
       "    <tr>\n",
       "      <th>...</th>\n",
       "      <td>...</td>\n",
       "      <td>...</td>\n",
       "      <td>...</td>\n",
       "      <td>...</td>\n",
       "      <td>...</td>\n",
       "      <td>...</td>\n",
       "      <td>...</td>\n",
       "      <td>...</td>\n",
       "      <td>...</td>\n",
       "      <td>...</td>\n",
       "      <td>...</td>\n",
       "      <td>...</td>\n",
       "    </tr>\n",
       "    <tr>\n",
       "      <th>91</th>\n",
       "      <td>2022-08-31</td>\n",
       "      <td>273487.0</td>\n",
       "      <td>816470.0</td>\n",
       "      <td>8.5</td>\n",
       "      <td>121.56</td>\n",
       "      <td>141.74</td>\n",
       "      <td>0.0734</td>\n",
       "      <td>7.35</td>\n",
       "      <td>494.928740</td>\n",
       "      <td>6.317</td>\n",
       "      <td>6.245</td>\n",
       "      <td>396.26</td>\n",
       "    </tr>\n",
       "    <tr>\n",
       "      <th>92</th>\n",
       "      <td>2022-09-30</td>\n",
       "      <td>273487.0</td>\n",
       "      <td>816470.0</td>\n",
       "      <td>8.3</td>\n",
       "      <td>247.73</td>\n",
       "      <td>168.44</td>\n",
       "      <td>0.0893</td>\n",
       "      <td>7.35</td>\n",
       "      <td>520.414790</td>\n",
       "      <td>7.126</td>\n",
       "      <td>7.015</td>\n",
       "      <td>370.93</td>\n",
       "    </tr>\n",
       "    <tr>\n",
       "      <th>93</th>\n",
       "      <td>2022-10-31</td>\n",
       "      <td>316351.0</td>\n",
       "      <td>843219.0</td>\n",
       "      <td>7.6</td>\n",
       "      <td>262.48</td>\n",
       "      <td>146.56</td>\n",
       "      <td>0.1277</td>\n",
       "      <td>7.60</td>\n",
       "      <td>517.847712</td>\n",
       "      <td>7.223</td>\n",
       "      <td>7.152</td>\n",
       "      <td>362.03</td>\n",
       "    </tr>\n",
       "    <tr>\n",
       "      <th>94</th>\n",
       "      <td>2022-11-30</td>\n",
       "      <td>316351.0</td>\n",
       "      <td>843219.0</td>\n",
       "      <td>8.9</td>\n",
       "      <td>150.98</td>\n",
       "      <td>159.77</td>\n",
       "      <td>0.1245</td>\n",
       "      <td>7.75</td>\n",
       "      <td>581.142216</td>\n",
       "      <td>8.229</td>\n",
       "      <td>8.124</td>\n",
       "      <td>357.67</td>\n",
       "    </tr>\n",
       "    <tr>\n",
       "      <th>95</th>\n",
       "      <td>2022-12-31</td>\n",
       "      <td>316351.0</td>\n",
       "      <td>843219.0</td>\n",
       "      <td>7.8</td>\n",
       "      <td>151.63</td>\n",
       "      <td>195.44</td>\n",
       "      <td>0.1349</td>\n",
       "      <td>8.00</td>\n",
       "      <td>690.657836</td>\n",
       "      <td>8.701</td>\n",
       "      <td>8.954</td>\n",
       "      <td>385.67</td>\n",
       "    </tr>\n",
       "  </tbody>\n",
       "</table>\n",
       "<p>96 rows × 12 columns</p>\n",
       "</div>"
      ],
      "text/plain": [
       "         Date  GDP_Construction_Rs_Crs  GDP_Realestate_Rs_Crs  \\\n",
       "0  2015-01-31                 214180.0               481401.0   \n",
       "1  2015-02-28                 214180.0               481401.0   \n",
       "2  2015-03-31                 214180.0               481401.0   \n",
       "3  2015-04-30                 218253.0               594978.0   \n",
       "4  2015-05-31                 218253.0               594978.0   \n",
       "..        ...                      ...                    ...   \n",
       "91 2022-08-31                 273487.0               816470.0   \n",
       "92 2022-09-30                 273487.0               816470.0   \n",
       "93 2022-10-31                 316351.0               843219.0   \n",
       "94 2022-11-30                 316351.0               843219.0   \n",
       "95 2022-12-31                 316351.0               843219.0   \n",
       "\n",
       "    Oveall_GDP_Growth%  Water_Source  Limestone  Coal_Milliontonne  \\\n",
       "0                  7.5        178.06     169.76             0.0944   \n",
       "1                  8.0        169.09     238.44             0.0745   \n",
       "2                  8.5        170.73     176.68             0.0721   \n",
       "3                  8.6        266.73     234.24             0.0733   \n",
       "4                  8.5        243.53     220.01             0.0734   \n",
       "..                 ...           ...        ...                ...   \n",
       "91                 8.5        121.56     141.74             0.0734   \n",
       "92                 8.3        247.73     168.44             0.0893   \n",
       "93                 7.6        262.48     146.56             0.1277   \n",
       "94                 8.9        150.98     159.77             0.1245   \n",
       "95                 7.8        151.63     195.44             0.1349   \n",
       "\n",
       "    Home_Interest_Rate  Trasportation_Cost  Order_Quantity_Milliontonnes  \\\n",
       "0                10.15          322.070000                         4.798   \n",
       "1                10.00          316.918451                         4.318   \n",
       "2                 9.10          286.484332                         3.719   \n",
       "3                10.20          286.292799                         3.583   \n",
       "4                 9.90          300.299462                         3.581   \n",
       "..                 ...                 ...                           ...   \n",
       "91                7.35          494.928740                         6.317   \n",
       "92                7.35          520.414790                         7.126   \n",
       "93                7.60          517.847712                         7.223   \n",
       "94                7.75          581.142216                         8.229   \n",
       "95                8.00          690.657836                         8.701   \n",
       "\n",
       "    Sales_Quantity_Milliontonnes  Unit_Price  \n",
       "0                          4.598      350.23  \n",
       "1                          4.308      350.31  \n",
       "2                          3.659      355.89  \n",
       "3                          3.510      354.63  \n",
       "4                          3.541      353.36  \n",
       "..                           ...         ...  \n",
       "91                         6.245      396.26  \n",
       "92                         7.015      370.93  \n",
       "93                         7.152      362.03  \n",
       "94                         8.124      357.67  \n",
       "95                         8.954      385.67  \n",
       "\n",
       "[96 rows x 12 columns]"
      ]
     },
     "execution_count": 192,
     "metadata": {},
     "output_type": "execute_result"
    }
   ],
   "source": [
    "from feature_engine.outliers import Winsorizer\n",
    "winsor = Winsorizer(capping_method='iqr', tail='both', fold=1.5, variables=['GDP_Construction_Rs_Crs', 'Oveall_GDP_Growth%',\n",
    "                    'Coal_Milliontonne', 'Home_Interest_Rate'])\n",
    "\n",
    "df[['GDP_Construction_Rs_Crs', 'Oveall_GDP_Growth%', 'Coal_Milliontonne', 'Home_Interest_Rate']] = winsor.fit_transform(df[['GDP_Construction_Rs_Crs',\n",
    "                                                                          'Oveall_GDP_Growth%', 'Coal_Milliontonne', 'Home_Interest_Rate']])\n",
    "df"
   ]
  },
  {
   "cell_type": "markdown",
   "metadata": {},
   "source": [
    "visualizing sales performance of historic data"
   ]
  },
  {
   "cell_type": "code",
   "execution_count": 193,
   "metadata": {},
   "outputs": [
    {
     "data": {
      "text/plain": [
       "[<matplotlib.lines.Line2D at 0x1cba2346b80>]"
      ]
     },
     "execution_count": 193,
     "metadata": {},
     "output_type": "execute_result"
    },
    {
     "data": {
      "image/png": "[encoded data removed]",
      "text/plain": [
       "<Figure size 640x480 with 1 Axes>"
      ]
     },
     "metadata": {},
     "output_type": "display_data"
    }
   ],
   "source": [
    "plt.plot(df['Sales_Quantity_Milliontonnes'])"
   ]
  },
  {
   "cell_type": "markdown",
   "metadata": {},
   "source": [
    "adfuller test to check stationarity"
   ]
  },
  {
   "cell_type": "code",
   "execution_count": 194,
   "metadata": {},
   "outputs": [
    {
     "name": "stdout",
     "output_type": "stream",
     "text": [
      "Date - series is not stationary\n",
      "GDP_Construction_Rs_Crs - series is not stationary\n",
      "GDP_Realestate_Rs_Crs - series is not stationary\n",
      "Oveall_GDP_Growth% - series is not stationary\n",
      "Water_Source - series is stationary\n",
      "Limestone - series is stationary\n",
      "Coal_Milliontonne - series is not stationary\n",
      "Home_Interest_Rate - series is not stationary\n",
      "Trasportation_Cost - series is not stationary\n",
      "Order_Quantity_Milliontonnes - series is not stationary\n",
      "Sales_Quantity_Milliontonnes - series is not stationary\n",
      "Unit_Price - series is stationary\n"
     ]
    }
   ],
   "source": [
    "for i in range(len(df.columns)):\n",
    "    result = adfuller(df[df.columns[i]])\n",
    "    \n",
    "    if result[1] > 0.05 :\n",
    "        print('{} - series is not stationary'.format(df.columns[i]))\n",
    "    else:\n",
    "        print('{} - series is stationary'.format(df.columns[i]))"
   ]
  },
  {
   "cell_type": "markdown",
   "metadata": {},
   "source": [
    "standardizing the data"
   ]
  },
  {
   "cell_type": "code",
   "execution_count": 195,
   "metadata": {},
   "outputs": [],
   "source": [
    "from sklearn import preprocessing"
   ]
  },
  {
   "cell_type": "code",
   "execution_count": 196,
   "metadata": {},
   "outputs": [
    {
     "data": {
      "text/html": [
       "<div>\n",
       "<style scoped>\n",
       "    .dataframe tbody tr th:only-of-type {\n",
       "        vertical-align: middle;\n",
       "    }\n",
       "\n",
       "    .dataframe tbody tr th {\n",
       "        vertical-align: top;\n",
       "    }\n",
       "\n",
       "    .dataframe thead th {\n",
       "        text-align: right;\n",
       "    }\n",
       "</style>\n",
       "<table border=\"1\" class=\"dataframe\">\n",
       "  <thead>\n",
       "    <tr style=\"text-align: right;\">\n",
       "      <th></th>\n",
       "      <th>GDP_Construction_Rs_Crs</th>\n",
       "      <th>GDP_Realestate_Rs_Crs</th>\n",
       "      <th>Oveall_GDP_Growth%</th>\n",
       "      <th>Water_Source</th>\n",
       "      <th>Limestone</th>\n",
       "      <th>Coal_Milliontonne</th>\n",
       "      <th>Home_Interest_Rate</th>\n",
       "      <th>Trasportation_Cost</th>\n",
       "      <th>Order_Quantity_Milliontonnes</th>\n",
       "      <th>Unit_Price</th>\n",
       "    </tr>\n",
       "  </thead>\n",
       "  <tbody>\n",
       "    <tr>\n",
       "      <th>0</th>\n",
       "      <td>0.301863</td>\n",
       "      <td>0.000000</td>\n",
       "      <td>0.573276</td>\n",
       "      <td>0.382816</td>\n",
       "      <td>0.472114</td>\n",
       "      <td>0.450741</td>\n",
       "      <td>0.919540</td>\n",
       "      <td>0.156880</td>\n",
       "      <td>0.292776</td>\n",
       "      <td>0.001610</td>\n",
       "    </tr>\n",
       "    <tr>\n",
       "      <th>1</th>\n",
       "      <td>0.301863</td>\n",
       "      <td>0.000000</td>\n",
       "      <td>0.616379</td>\n",
       "      <td>0.336915</td>\n",
       "      <td>0.939803</td>\n",
       "      <td>0.191500</td>\n",
       "      <td>0.880131</td>\n",
       "      <td>0.145838</td>\n",
       "      <td>0.212883</td>\n",
       "      <td>0.003221</td>\n",
       "    </tr>\n",
       "    <tr>\n",
       "      <th>2</th>\n",
       "      <td>0.301863</td>\n",
       "      <td>0.000000</td>\n",
       "      <td>0.659483</td>\n",
       "      <td>0.345308</td>\n",
       "      <td>0.519237</td>\n",
       "      <td>0.160234</td>\n",
       "      <td>0.643678</td>\n",
       "      <td>0.080605</td>\n",
       "      <td>0.113182</td>\n",
       "      <td>0.115539</td>\n",
       "    </tr>\n",
       "    <tr>\n",
       "      <th>3</th>\n",
       "      <td>0.329694</td>\n",
       "      <td>0.256534</td>\n",
       "      <td>0.668103</td>\n",
       "      <td>0.836557</td>\n",
       "      <td>0.911202</td>\n",
       "      <td>0.175867</td>\n",
       "      <td>0.932677</td>\n",
       "      <td>0.080194</td>\n",
       "      <td>0.090546</td>\n",
       "      <td>0.090177</td>\n",
       "    </tr>\n",
       "    <tr>\n",
       "      <th>4</th>\n",
       "      <td>0.329694</td>\n",
       "      <td>0.256534</td>\n",
       "      <td>0.659483</td>\n",
       "      <td>0.717839</td>\n",
       "      <td>0.814300</td>\n",
       "      <td>0.177170</td>\n",
       "      <td>0.853859</td>\n",
       "      <td>0.110217</td>\n",
       "      <td>0.090213</td>\n",
       "      <td>0.064614</td>\n",
       "    </tr>\n",
       "    <tr>\n",
       "      <th>...</th>\n",
       "      <td>...</td>\n",
       "      <td>...</td>\n",
       "      <td>...</td>\n",
       "      <td>...</td>\n",
       "      <td>...</td>\n",
       "      <td>...</td>\n",
       "      <td>...</td>\n",
       "      <td>...</td>\n",
       "      <td>...</td>\n",
       "      <td>...</td>\n",
       "    </tr>\n",
       "    <tr>\n",
       "      <th>91</th>\n",
       "      <td>0.707109</td>\n",
       "      <td>0.756814</td>\n",
       "      <td>0.659483</td>\n",
       "      <td>0.093696</td>\n",
       "      <td>0.281307</td>\n",
       "      <td>0.177170</td>\n",
       "      <td>0.183908</td>\n",
       "      <td>0.527387</td>\n",
       "      <td>0.545606</td>\n",
       "      <td>0.928140</td>\n",
       "    </tr>\n",
       "    <tr>\n",
       "      <th>92</th>\n",
       "      <td>0.707109</td>\n",
       "      <td>0.756814</td>\n",
       "      <td>0.642241</td>\n",
       "      <td>0.739331</td>\n",
       "      <td>0.463126</td>\n",
       "      <td>0.384302</td>\n",
       "      <td>0.183908</td>\n",
       "      <td>0.582014</td>\n",
       "      <td>0.680260</td>\n",
       "      <td>0.418277</td>\n",
       "    </tr>\n",
       "    <tr>\n",
       "      <th>93</th>\n",
       "      <td>1.000000</td>\n",
       "      <td>0.817232</td>\n",
       "      <td>0.581897</td>\n",
       "      <td>0.814809</td>\n",
       "      <td>0.314130</td>\n",
       "      <td>0.884546</td>\n",
       "      <td>0.249589</td>\n",
       "      <td>0.576512</td>\n",
       "      <td>0.696405</td>\n",
       "      <td>0.239130</td>\n",
       "    </tr>\n",
       "    <tr>\n",
       "      <th>94</th>\n",
       "      <td>1.000000</td>\n",
       "      <td>0.817232</td>\n",
       "      <td>0.693966</td>\n",
       "      <td>0.244243</td>\n",
       "      <td>0.404086</td>\n",
       "      <td>0.842859</td>\n",
       "      <td>0.288998</td>\n",
       "      <td>0.712178</td>\n",
       "      <td>0.863848</td>\n",
       "      <td>0.151369</td>\n",
       "    </tr>\n",
       "    <tr>\n",
       "      <th>95</th>\n",
       "      <td>1.000000</td>\n",
       "      <td>0.817232</td>\n",
       "      <td>0.599138</td>\n",
       "      <td>0.247569</td>\n",
       "      <td>0.646987</td>\n",
       "      <td>0.978342</td>\n",
       "      <td>0.354680</td>\n",
       "      <td>0.946915</td>\n",
       "      <td>0.942410</td>\n",
       "      <td>0.714976</td>\n",
       "    </tr>\n",
       "  </tbody>\n",
       "</table>\n",
       "<p>96 rows × 10 columns</p>\n",
       "</div>"
      ],
      "text/plain": [
       "    GDP_Construction_Rs_Crs  GDP_Realestate_Rs_Crs  Oveall_GDP_Growth%  \\\n",
       "0                  0.301863               0.000000            0.573276   \n",
       "1                  0.301863               0.000000            0.616379   \n",
       "2                  0.301863               0.000000            0.659483   \n",
       "3                  0.329694               0.256534            0.668103   \n",
       "4                  0.329694               0.256534            0.659483   \n",
       "..                      ...                    ...                 ...   \n",
       "91                 0.707109               0.756814            0.659483   \n",
       "92                 0.707109               0.756814            0.642241   \n",
       "93                 1.000000               0.817232            0.581897   \n",
       "94                 1.000000               0.817232            0.693966   \n",
       "95                 1.000000               0.817232            0.599138   \n",
       "\n",
       "    Water_Source  Limestone  Coal_Milliontonne  Home_Interest_Rate  \\\n",
       "0       0.382816   0.472114           0.450741            0.919540   \n",
       "1       0.336915   0.939803           0.191500            0.880131   \n",
       "2       0.345308   0.519237           0.160234            0.643678   \n",
       "3       0.836557   0.911202           0.175867            0.932677   \n",
       "4       0.717839   0.814300           0.177170            0.853859   \n",
       "..           ...        ...                ...                 ...   \n",
       "91      0.093696   0.281307           0.177170            0.183908   \n",
       "92      0.739331   0.463126           0.384302            0.183908   \n",
       "93      0.814809   0.314130           0.884546            0.249589   \n",
       "94      0.244243   0.404086           0.842859            0.288998   \n",
       "95      0.247569   0.646987           0.978342            0.354680   \n",
       "\n",
       "    Trasportation_Cost  Order_Quantity_Milliontonnes  Unit_Price  \n",
       "0             0.156880                      0.292776    0.001610  \n",
       "1             0.145838                      0.212883    0.003221  \n",
       "2             0.080605                      0.113182    0.115539  \n",
       "3             0.080194                      0.090546    0.090177  \n",
       "4             0.110217                      0.090213    0.064614  \n",
       "..                 ...                           ...         ...  \n",
       "91            0.527387                      0.545606    0.928140  \n",
       "92            0.582014                      0.680260    0.418277  \n",
       "93            0.576512                      0.696405    0.239130  \n",
       "94            0.712178                      0.863848    0.151369  \n",
       "95            0.946915                      0.942410    0.714976  \n",
       "\n",
       "[96 rows x 10 columns]"
      ]
     },
     "execution_count": 196,
     "metadata": {},
     "output_type": "execute_result"
    }
   ],
   "source": [
    "scaled = df.drop(['Date', 'Sales_Quantity_Milliontonnes'], axis = 1)\n",
    "min_max_scaler = preprocessing.MinMaxScaler()\n",
    "scaled_df = min_max_scaler.fit_transform(scaled)\n",
    "df_scaled = pd.DataFrame(scaled_df, columns=scaled.columns)\n",
    "df_scaled"
   ]
  },
  {
   "cell_type": "code",
   "execution_count": 197,
   "metadata": {},
   "outputs": [
    {
     "data": {
      "text/html": [
       "<div>\n",
       "<style scoped>\n",
       "    .dataframe tbody tr th:only-of-type {\n",
       "        vertical-align: middle;\n",
       "    }\n",
       "\n",
       "    .dataframe tbody tr th {\n",
       "        vertical-align: top;\n",
       "    }\n",
       "\n",
       "    .dataframe thead th {\n",
       "        text-align: right;\n",
       "    }\n",
       "</style>\n",
       "<table border=\"1\" class=\"dataframe\">\n",
       "  <thead>\n",
       "    <tr style=\"text-align: right;\">\n",
       "      <th></th>\n",
       "      <th>Date</th>\n",
       "      <th>Sales_Quantity_Milliontonnes</th>\n",
       "      <th>GDP_Construction_Rs_Crs</th>\n",
       "      <th>GDP_Realestate_Rs_Crs</th>\n",
       "      <th>Oveall_GDP_Growth%</th>\n",
       "      <th>Water_Source</th>\n",
       "      <th>Limestone</th>\n",
       "      <th>Coal_Milliontonne</th>\n",
       "      <th>Home_Interest_Rate</th>\n",
       "      <th>Trasportation_Cost</th>\n",
       "      <th>Order_Quantity_Milliontonnes</th>\n",
       "      <th>Unit_Price</th>\n",
       "    </tr>\n",
       "  </thead>\n",
       "  <tbody>\n",
       "    <tr>\n",
       "      <th>0</th>\n",
       "      <td>2015-01-31</td>\n",
       "      <td>4.598</td>\n",
       "      <td>0.301863</td>\n",
       "      <td>0.000000</td>\n",
       "      <td>0.573276</td>\n",
       "      <td>0.382816</td>\n",
       "      <td>0.472114</td>\n",
       "      <td>0.450741</td>\n",
       "      <td>0.919540</td>\n",
       "      <td>0.156880</td>\n",
       "      <td>0.292776</td>\n",
       "      <td>0.001610</td>\n",
       "    </tr>\n",
       "    <tr>\n",
       "      <th>1</th>\n",
       "      <td>2015-02-28</td>\n",
       "      <td>4.308</td>\n",
       "      <td>0.301863</td>\n",
       "      <td>0.000000</td>\n",
       "      <td>0.616379</td>\n",
       "      <td>0.336915</td>\n",
       "      <td>0.939803</td>\n",
       "      <td>0.191500</td>\n",
       "      <td>0.880131</td>\n",
       "      <td>0.145838</td>\n",
       "      <td>0.212883</td>\n",
       "      <td>0.003221</td>\n",
       "    </tr>\n",
       "    <tr>\n",
       "      <th>2</th>\n",
       "      <td>2015-03-31</td>\n",
       "      <td>3.659</td>\n",
       "      <td>0.301863</td>\n",
       "      <td>0.000000</td>\n",
       "      <td>0.659483</td>\n",
       "      <td>0.345308</td>\n",
       "      <td>0.519237</td>\n",
       "      <td>0.160234</td>\n",
       "      <td>0.643678</td>\n",
       "      <td>0.080605</td>\n",
       "      <td>0.113182</td>\n",
       "      <td>0.115539</td>\n",
       "    </tr>\n",
       "    <tr>\n",
       "      <th>3</th>\n",
       "      <td>2015-04-30</td>\n",
       "      <td>3.510</td>\n",
       "      <td>0.329694</td>\n",
       "      <td>0.256534</td>\n",
       "      <td>0.668103</td>\n",
       "      <td>0.836557</td>\n",
       "      <td>0.911202</td>\n",
       "      <td>0.175867</td>\n",
       "      <td>0.932677</td>\n",
       "      <td>0.080194</td>\n",
       "      <td>0.090546</td>\n",
       "      <td>0.090177</td>\n",
       "    </tr>\n",
       "    <tr>\n",
       "      <th>4</th>\n",
       "      <td>2015-05-31</td>\n",
       "      <td>3.541</td>\n",
       "      <td>0.329694</td>\n",
       "      <td>0.256534</td>\n",
       "      <td>0.659483</td>\n",
       "      <td>0.717839</td>\n",
       "      <td>0.814300</td>\n",
       "      <td>0.177170</td>\n",
       "      <td>0.853859</td>\n",
       "      <td>0.110217</td>\n",
       "      <td>0.090213</td>\n",
       "      <td>0.064614</td>\n",
       "    </tr>\n",
       "    <tr>\n",
       "      <th>...</th>\n",
       "      <td>...</td>\n",
       "      <td>...</td>\n",
       "      <td>...</td>\n",
       "      <td>...</td>\n",
       "      <td>...</td>\n",
       "      <td>...</td>\n",
       "      <td>...</td>\n",
       "      <td>...</td>\n",
       "      <td>...</td>\n",
       "      <td>...</td>\n",
       "      <td>...</td>\n",
       "      <td>...</td>\n",
       "    </tr>\n",
       "    <tr>\n",
       "      <th>91</th>\n",
       "      <td>2022-08-31</td>\n",
       "      <td>6.245</td>\n",
       "      <td>0.707109</td>\n",
       "      <td>0.756814</td>\n",
       "      <td>0.659483</td>\n",
       "      <td>0.093696</td>\n",
       "      <td>0.281307</td>\n",
       "      <td>0.177170</td>\n",
       "      <td>0.183908</td>\n",
       "      <td>0.527387</td>\n",
       "      <td>0.545606</td>\n",
       "      <td>0.928140</td>\n",
       "    </tr>\n",
       "    <tr>\n",
       "      <th>92</th>\n",
       "      <td>2022-09-30</td>\n",
       "      <td>7.015</td>\n",
       "      <td>0.707109</td>\n",
       "      <td>0.756814</td>\n",
       "      <td>0.642241</td>\n",
       "      <td>0.739331</td>\n",
       "      <td>0.463126</td>\n",
       "      <td>0.384302</td>\n",
       "      <td>0.183908</td>\n",
       "      <td>0.582014</td>\n",
       "      <td>0.680260</td>\n",
       "      <td>0.418277</td>\n",
       "    </tr>\n",
       "    <tr>\n",
       "      <th>93</th>\n",
       "      <td>2022-10-31</td>\n",
       "      <td>7.152</td>\n",
       "      <td>1.000000</td>\n",
       "      <td>0.817232</td>\n",
       "      <td>0.581897</td>\n",
       "      <td>0.814809</td>\n",
       "      <td>0.314130</td>\n",
       "      <td>0.884546</td>\n",
       "      <td>0.249589</td>\n",
       "      <td>0.576512</td>\n",
       "      <td>0.696405</td>\n",
       "      <td>0.239130</td>\n",
       "    </tr>\n",
       "    <tr>\n",
       "      <th>94</th>\n",
       "      <td>2022-11-30</td>\n",
       "      <td>8.124</td>\n",
       "      <td>1.000000</td>\n",
       "      <td>0.817232</td>\n",
       "      <td>0.693966</td>\n",
       "      <td>0.244243</td>\n",
       "      <td>0.404086</td>\n",
       "      <td>0.842859</td>\n",
       "      <td>0.288998</td>\n",
       "      <td>0.712178</td>\n",
       "      <td>0.863848</td>\n",
       "      <td>0.151369</td>\n",
       "    </tr>\n",
       "    <tr>\n",
       "      <th>95</th>\n",
       "      <td>2022-12-31</td>\n",
       "      <td>8.954</td>\n",
       "      <td>1.000000</td>\n",
       "      <td>0.817232</td>\n",
       "      <td>0.599138</td>\n",
       "      <td>0.247569</td>\n",
       "      <td>0.646987</td>\n",
       "      <td>0.978342</td>\n",
       "      <td>0.354680</td>\n",
       "      <td>0.946915</td>\n",
       "      <td>0.942410</td>\n",
       "      <td>0.714976</td>\n",
       "    </tr>\n",
       "  </tbody>\n",
       "</table>\n",
       "<p>96 rows × 12 columns</p>\n",
       "</div>"
      ],
      "text/plain": [
       "         Date  Sales_Quantity_Milliontonnes  GDP_Construction_Rs_Crs  \\\n",
       "0  2015-01-31                         4.598                 0.301863   \n",
       "1  2015-02-28                         4.308                 0.301863   \n",
       "2  2015-03-31                         3.659                 0.301863   \n",
       "3  2015-04-30                         3.510                 0.329694   \n",
       "4  2015-05-31                         3.541                 0.329694   \n",
       "..        ...                           ...                      ...   \n",
       "91 2022-08-31                         6.245                 0.707109   \n",
       "92 2022-09-30                         7.015                 0.707109   \n",
       "93 2022-10-31                         7.152                 1.000000   \n",
       "94 2022-11-30                         8.124                 1.000000   \n",
       "95 2022-12-31                         8.954                 1.000000   \n",
       "\n",
       "    GDP_Realestate_Rs_Crs  Oveall_GDP_Growth%  Water_Source  Limestone  \\\n",
       "0                0.000000            0.573276      0.382816   0.472114   \n",
       "1                0.000000            0.616379      0.336915   0.939803   \n",
       "2                0.000000            0.659483      0.345308   0.519237   \n",
       "3                0.256534            0.668103      0.836557   0.911202   \n",
       "4                0.256534            0.659483      0.717839   0.814300   \n",
       "..                    ...                 ...           ...        ...   \n",
       "91               0.756814            0.659483      0.093696   0.281307   \n",
       "92               0.756814            0.642241      0.739331   0.463126   \n",
       "93               0.817232            0.581897      0.814809   0.314130   \n",
       "94               0.817232            0.693966      0.244243   0.404086   \n",
       "95               0.817232            0.599138      0.247569   0.646987   \n",
       "\n",
       "    Coal_Milliontonne  Home_Interest_Rate  Trasportation_Cost  \\\n",
       "0            0.450741            0.919540            0.156880   \n",
       "1            0.191500            0.880131            0.145838   \n",
       "2            0.160234            0.643678            0.080605   \n",
       "3            0.175867            0.932677            0.080194   \n",
       "4            0.177170            0.853859            0.110217   \n",
       "..                ...                 ...                 ...   \n",
       "91           0.177170            0.183908            0.527387   \n",
       "92           0.384302            0.183908            0.582014   \n",
       "93           0.884546            0.249589            0.576512   \n",
       "94           0.842859            0.288998            0.712178   \n",
       "95           0.978342            0.354680            0.946915   \n",
       "\n",
       "    Order_Quantity_Milliontonnes  Unit_Price  \n",
       "0                       0.292776    0.001610  \n",
       "1                       0.212883    0.003221  \n",
       "2                       0.113182    0.115539  \n",
       "3                       0.090546    0.090177  \n",
       "4                       0.090213    0.064614  \n",
       "..                           ...         ...  \n",
       "91                      0.545606    0.928140  \n",
       "92                      0.680260    0.418277  \n",
       "93                      0.696405    0.239130  \n",
       "94                      0.863848    0.151369  \n",
       "95                      0.942410    0.714976  \n",
       "\n",
       "[96 rows x 12 columns]"
      ]
     },
     "execution_count": 197,
     "metadata": {},
     "output_type": "execute_result"
    }
   ],
   "source": [
    "df = pd.concat([sub, df_scaled], axis = 1)\n",
    "df"
   ]
  },
  {
   "cell_type": "code",
   "execution_count": 198,
   "metadata": {},
   "outputs": [
    {
     "data": {
      "text/plain": [
       "(         Date  Sales_Quantity_Milliontonnes  GDP_Construction_Rs_Crs  \\\n",
       " 0  2015-01-31                         4.598                 0.301863   \n",
       " 1  2015-02-28                         4.308                 0.301863   \n",
       " 2  2015-03-31                         3.659                 0.301863   \n",
       " 3  2015-04-30                         3.510                 0.329694   \n",
       " 4  2015-05-31                         3.541                 0.329694   \n",
       " ..        ...                           ...                      ...   \n",
       " 79 2021-08-31                         5.915                 0.642790   \n",
       " 80 2021-09-30                         6.542                 0.642790   \n",
       " 81 2021-10-31                         6.781                 1.000000   \n",
       " 82 2021-11-30                         6.872                 1.000000   \n",
       " 83 2021-12-31                         8.011                 1.000000   \n",
       " \n",
       "     GDP_Realestate_Rs_Crs  Oveall_GDP_Growth%  Water_Source  Limestone  \\\n",
       " 0                0.000000            0.573276      0.382816   0.472114   \n",
       " 1                0.000000            0.616379      0.336915   0.939803   \n",
       " 2                0.000000            0.659483      0.345308   0.519237   \n",
       " 3                0.256534            0.668103      0.836557   0.911202   \n",
       " 4                0.256534            0.659483      0.717839   0.814300   \n",
       " ..                    ...                 ...           ...        ...   \n",
       " 79               0.512188            0.000000      0.535871   0.761253   \n",
       " 80               0.512188            0.000000      0.314911   0.131971   \n",
       " 81               0.519438            0.012931      0.081619   0.492884   \n",
       " 82               0.519438            0.047414      0.323048   0.039224   \n",
       " 83               0.519438            0.133621      0.089448   0.724140   \n",
       " \n",
       "     Coal_Milliontonne  Home_Interest_Rate  Trasportation_Cost  \\\n",
       " 0            0.450741            0.919540            0.156880   \n",
       " 1            0.191500            0.880131            0.145838   \n",
       " 2            0.160234            0.643678            0.080605   \n",
       " 3            0.175867            0.932677            0.080194   \n",
       " 4            0.177170            0.853859            0.110217   \n",
       " ..                ...                 ...                 ...   \n",
       " 79           0.100309            0.000000            0.447977   \n",
       " 80           0.295717            0.000000            0.534818   \n",
       " 81           0.488520            0.000000            0.628815   \n",
       " 82           0.737339            0.000000            0.587350   \n",
       " 83           0.973131            0.000000            0.772292   \n",
       " \n",
       "     Order_Quantity_Milliontonnes  Unit_Price  \n",
       " 0                       0.292776    0.001610  \n",
       " 1                       0.212883    0.003221  \n",
       " 2                       0.113182    0.115539  \n",
       " 3                       0.090546    0.090177  \n",
       " 4                       0.090213    0.064614  \n",
       " ..                           ...         ...  \n",
       " 79                      0.492011    0.742754  \n",
       " 80                      0.596372    0.619364  \n",
       " 81                      0.639481    1.000000  \n",
       " 82                      0.644640    0.610105  \n",
       " 83                      0.877497    0.605274  \n",
       " \n",
       " [84 rows x 12 columns],\n",
       "          Date  Sales_Quantity_Milliontonnes  GDP_Construction_Rs_Crs  \\\n",
       " 84 2022-01-31                         8.921                 0.634891   \n",
       " 85 2022-02-28                         8.345                 0.634891   \n",
       " 86 2022-03-31                         7.985                 0.634891   \n",
       " 87 2022-04-30                         7.456                 0.608789   \n",
       " 88 2022-05-31                         7.762                 0.608789   \n",
       " 89 2022-06-30                         8.216                 0.608789   \n",
       " 90 2022-07-31                         5.912                 0.707109   \n",
       " 91 2022-08-31                         6.245                 0.707109   \n",
       " 92 2022-09-30                         7.015                 0.707109   \n",
       " 93 2022-10-31                         7.152                 1.000000   \n",
       " 94 2022-11-30                         8.124                 1.000000   \n",
       " 95 2022-12-31                         8.954                 1.000000   \n",
       " \n",
       "     GDP_Realestate_Rs_Crs  Oveall_GDP_Growth%  Water_Source  Limestone  \\\n",
       " 84               0.901016            1.000000      0.876267   0.626013   \n",
       " 85               0.901016            1.000000      0.189694   0.671638   \n",
       " 86               0.901016            1.000000      0.892693   0.160708   \n",
       " 87               1.000000            0.737069      0.805803   0.321961   \n",
       " 88               1.000000            0.564655      0.556340   0.104528   \n",
       " 89               1.000000            0.650862      0.953485   0.808989   \n",
       " 90               0.756814            0.581897      0.172961   0.221859   \n",
       " 91               0.756814            0.659483      0.093696   0.281307   \n",
       " 92               0.756814            0.642241      0.739331   0.463126   \n",
       " 93               0.817232            0.581897      0.814809   0.314130   \n",
       " 94               0.817232            0.693966      0.244243   0.404086   \n",
       " 95               0.817232            0.599138      0.247569   0.646987   \n",
       " \n",
       "     Coal_Milliontonne  Home_Interest_Rate  Trasportation_Cost  \\\n",
       " 84           0.844162            0.000000            0.908302   \n",
       " 85           0.737339            0.000000            0.818004   \n",
       " 86           0.607067            0.000000            0.689291   \n",
       " 87           0.488520            0.026273            0.710374   \n",
       " 88           0.412571            0.052545            0.660733   \n",
       " 89           0.347826            0.105090            0.867589   \n",
       " 90           0.057320            0.131363            0.392432   \n",
       " 91           0.177170            0.183908            0.527387   \n",
       " 92           0.384302            0.183908            0.582014   \n",
       " 93           0.884546            0.249589            0.576512   \n",
       " 94           0.842859            0.288998            0.712178   \n",
       " 95           0.978342            0.354680            0.946915   \n",
       " \n",
       "     Order_Quantity_Milliontonnes  Unit_Price  \n",
       " 84                      0.979028    0.540459  \n",
       " 85                      0.899800    0.556159  \n",
       " 86                      0.832057    0.142110  \n",
       " 87                      0.747170    0.785024  \n",
       " 88                      0.797603    0.175926  \n",
       " 89                      0.890979    0.958937  \n",
       " 90                      0.507989    0.305556  \n",
       " 91                      0.545606    0.928140  \n",
       " 92                      0.680260    0.418277  \n",
       " 93                      0.696405    0.239130  \n",
       " 94                      0.863848    0.151369  \n",
       " 95                      0.942410    0.714976  )"
      ]
     },
     "execution_count": 198,
     "metadata": {},
     "output_type": "execute_result"
    }
   ],
   "source": [
    "train = df.iloc[:84]\n",
    "test = df.iloc[84:]\n",
    "train, test"
   ]
  },
  {
   "cell_type": "markdown",
   "metadata": {},
   "source": [
    "Rename date and sales columns\n",
    "\n",
    "Prophet expect date column and output column names to be ds and y"
   ]
  },
  {
   "cell_type": "code",
   "execution_count": 199,
   "metadata": {},
   "outputs": [
    {
     "data": {
      "text/html": [
       "<div>\n",
       "<style scoped>\n",
       "    .dataframe tbody tr th:only-of-type {\n",
       "        vertical-align: middle;\n",
       "    }\n",
       "\n",
       "    .dataframe tbody tr th {\n",
       "        vertical-align: top;\n",
       "    }\n",
       "\n",
       "    .dataframe thead th {\n",
       "        text-align: right;\n",
       "    }\n",
       "</style>\n",
       "<table border=\"1\" class=\"dataframe\">\n",
       "  <thead>\n",
       "    <tr style=\"text-align: right;\">\n",
       "      <th></th>\n",
       "      <th>ds</th>\n",
       "      <th>y</th>\n",
       "      <th>GDP_Construction_Rs_Crs</th>\n",
       "      <th>GDP_Realestate_Rs_Crs</th>\n",
       "      <th>Oveall_GDP_Growth%</th>\n",
       "      <th>Water_Source</th>\n",
       "      <th>Limestone</th>\n",
       "      <th>Coal_Milliontonne</th>\n",
       "      <th>Home_Interest_Rate</th>\n",
       "      <th>Trasportation_Cost</th>\n",
       "      <th>Order_Quantity_Milliontonnes</th>\n",
       "      <th>Unit_Price</th>\n",
       "    </tr>\n",
       "  </thead>\n",
       "  <tbody>\n",
       "    <tr>\n",
       "      <th>0</th>\n",
       "      <td>2015-01-31</td>\n",
       "      <td>4.598</td>\n",
       "      <td>0.301863</td>\n",
       "      <td>0.000000</td>\n",
       "      <td>0.573276</td>\n",
       "      <td>0.382816</td>\n",
       "      <td>0.472114</td>\n",
       "      <td>0.450741</td>\n",
       "      <td>0.919540</td>\n",
       "      <td>0.156880</td>\n",
       "      <td>0.292776</td>\n",
       "      <td>0.001610</td>\n",
       "    </tr>\n",
       "    <tr>\n",
       "      <th>1</th>\n",
       "      <td>2015-02-28</td>\n",
       "      <td>4.308</td>\n",
       "      <td>0.301863</td>\n",
       "      <td>0.000000</td>\n",
       "      <td>0.616379</td>\n",
       "      <td>0.336915</td>\n",
       "      <td>0.939803</td>\n",
       "      <td>0.191500</td>\n",
       "      <td>0.880131</td>\n",
       "      <td>0.145838</td>\n",
       "      <td>0.212883</td>\n",
       "      <td>0.003221</td>\n",
       "    </tr>\n",
       "    <tr>\n",
       "      <th>2</th>\n",
       "      <td>2015-03-31</td>\n",
       "      <td>3.659</td>\n",
       "      <td>0.301863</td>\n",
       "      <td>0.000000</td>\n",
       "      <td>0.659483</td>\n",
       "      <td>0.345308</td>\n",
       "      <td>0.519237</td>\n",
       "      <td>0.160234</td>\n",
       "      <td>0.643678</td>\n",
       "      <td>0.080605</td>\n",
       "      <td>0.113182</td>\n",
       "      <td>0.115539</td>\n",
       "    </tr>\n",
       "    <tr>\n",
       "      <th>3</th>\n",
       "      <td>2015-04-30</td>\n",
       "      <td>3.510</td>\n",
       "      <td>0.329694</td>\n",
       "      <td>0.256534</td>\n",
       "      <td>0.668103</td>\n",
       "      <td>0.836557</td>\n",
       "      <td>0.911202</td>\n",
       "      <td>0.175867</td>\n",
       "      <td>0.932677</td>\n",
       "      <td>0.080194</td>\n",
       "      <td>0.090546</td>\n",
       "      <td>0.090177</td>\n",
       "    </tr>\n",
       "    <tr>\n",
       "      <th>4</th>\n",
       "      <td>2015-05-31</td>\n",
       "      <td>3.541</td>\n",
       "      <td>0.329694</td>\n",
       "      <td>0.256534</td>\n",
       "      <td>0.659483</td>\n",
       "      <td>0.717839</td>\n",
       "      <td>0.814300</td>\n",
       "      <td>0.177170</td>\n",
       "      <td>0.853859</td>\n",
       "      <td>0.110217</td>\n",
       "      <td>0.090213</td>\n",
       "      <td>0.064614</td>\n",
       "    </tr>\n",
       "    <tr>\n",
       "      <th>...</th>\n",
       "      <td>...</td>\n",
       "      <td>...</td>\n",
       "      <td>...</td>\n",
       "      <td>...</td>\n",
       "      <td>...</td>\n",
       "      <td>...</td>\n",
       "      <td>...</td>\n",
       "      <td>...</td>\n",
       "      <td>...</td>\n",
       "      <td>...</td>\n",
       "      <td>...</td>\n",
       "      <td>...</td>\n",
       "    </tr>\n",
       "    <tr>\n",
       "      <th>79</th>\n",
       "      <td>2021-08-31</td>\n",
       "      <td>5.915</td>\n",
       "      <td>0.642790</td>\n",
       "      <td>0.512188</td>\n",
       "      <td>0.000000</td>\n",
       "      <td>0.535871</td>\n",
       "      <td>0.761253</td>\n",
       "      <td>0.100309</td>\n",
       "      <td>0.000000</td>\n",
       "      <td>0.447977</td>\n",
       "      <td>0.492011</td>\n",
       "      <td>0.742754</td>\n",
       "    </tr>\n",
       "    <tr>\n",
       "      <th>80</th>\n",
       "      <td>2021-09-30</td>\n",
       "      <td>6.542</td>\n",
       "      <td>0.642790</td>\n",
       "      <td>0.512188</td>\n",
       "      <td>0.000000</td>\n",
       "      <td>0.314911</td>\n",
       "      <td>0.131971</td>\n",
       "      <td>0.295717</td>\n",
       "      <td>0.000000</td>\n",
       "      <td>0.534818</td>\n",
       "      <td>0.596372</td>\n",
       "      <td>0.619364</td>\n",
       "    </tr>\n",
       "    <tr>\n",
       "      <th>81</th>\n",
       "      <td>2021-10-31</td>\n",
       "      <td>6.781</td>\n",
       "      <td>1.000000</td>\n",
       "      <td>0.519438</td>\n",
       "      <td>0.012931</td>\n",
       "      <td>0.081619</td>\n",
       "      <td>0.492884</td>\n",
       "      <td>0.488520</td>\n",
       "      <td>0.000000</td>\n",
       "      <td>0.628815</td>\n",
       "      <td>0.639481</td>\n",
       "      <td>1.000000</td>\n",
       "    </tr>\n",
       "    <tr>\n",
       "      <th>82</th>\n",
       "      <td>2021-11-30</td>\n",
       "      <td>6.872</td>\n",
       "      <td>1.000000</td>\n",
       "      <td>0.519438</td>\n",
       "      <td>0.047414</td>\n",
       "      <td>0.323048</td>\n",
       "      <td>0.039224</td>\n",
       "      <td>0.737339</td>\n",
       "      <td>0.000000</td>\n",
       "      <td>0.587350</td>\n",
       "      <td>0.644640</td>\n",
       "      <td>0.610105</td>\n",
       "    </tr>\n",
       "    <tr>\n",
       "      <th>83</th>\n",
       "      <td>2021-12-31</td>\n",
       "      <td>8.011</td>\n",
       "      <td>1.000000</td>\n",
       "      <td>0.519438</td>\n",
       "      <td>0.133621</td>\n",
       "      <td>0.089448</td>\n",
       "      <td>0.724140</td>\n",
       "      <td>0.973131</td>\n",
       "      <td>0.000000</td>\n",
       "      <td>0.772292</td>\n",
       "      <td>0.877497</td>\n",
       "      <td>0.605274</td>\n",
       "    </tr>\n",
       "  </tbody>\n",
       "</table>\n",
       "<p>84 rows × 12 columns</p>\n",
       "</div>"
      ],
      "text/plain": [
       "           ds      y  GDP_Construction_Rs_Crs  GDP_Realestate_Rs_Crs  \\\n",
       "0  2015-01-31  4.598                 0.301863               0.000000   \n",
       "1  2015-02-28  4.308                 0.301863               0.000000   \n",
       "2  2015-03-31  3.659                 0.301863               0.000000   \n",
       "3  2015-04-30  3.510                 0.329694               0.256534   \n",
       "4  2015-05-31  3.541                 0.329694               0.256534   \n",
       "..        ...    ...                      ...                    ...   \n",
       "79 2021-08-31  5.915                 0.642790               0.512188   \n",
       "80 2021-09-30  6.542                 0.642790               0.512188   \n",
       "81 2021-10-31  6.781                 1.000000               0.519438   \n",
       "82 2021-11-30  6.872                 1.000000               0.519438   \n",
       "83 2021-12-31  8.011                 1.000000               0.519438   \n",
       "\n",
       "    Oveall_GDP_Growth%  Water_Source  Limestone  Coal_Milliontonne  \\\n",
       "0             0.573276      0.382816   0.472114           0.450741   \n",
       "1             0.616379      0.336915   0.939803           0.191500   \n",
       "2             0.659483      0.345308   0.519237           0.160234   \n",
       "3             0.668103      0.836557   0.911202           0.175867   \n",
       "4             0.659483      0.717839   0.814300           0.177170   \n",
       "..                 ...           ...        ...                ...   \n",
       "79            0.000000      0.535871   0.761253           0.100309   \n",
       "80            0.000000      0.314911   0.131971           0.295717   \n",
       "81            0.012931      0.081619   0.492884           0.488520   \n",
       "82            0.047414      0.323048   0.039224           0.737339   \n",
       "83            0.133621      0.089448   0.724140           0.973131   \n",
       "\n",
       "    Home_Interest_Rate  Trasportation_Cost  Order_Quantity_Milliontonnes  \\\n",
       "0             0.919540            0.156880                      0.292776   \n",
       "1             0.880131            0.145838                      0.212883   \n",
       "2             0.643678            0.080605                      0.113182   \n",
       "3             0.932677            0.080194                      0.090546   \n",
       "4             0.853859            0.110217                      0.090213   \n",
       "..                 ...                 ...                           ...   \n",
       "79            0.000000            0.447977                      0.492011   \n",
       "80            0.000000            0.534818                      0.596372   \n",
       "81            0.000000            0.628815                      0.639481   \n",
       "82            0.000000            0.587350                      0.644640   \n",
       "83            0.000000            0.772292                      0.877497   \n",
       "\n",
       "    Unit_Price  \n",
       "0     0.001610  \n",
       "1     0.003221  \n",
       "2     0.115539  \n",
       "3     0.090177  \n",
       "4     0.064614  \n",
       "..         ...  \n",
       "79    0.742754  \n",
       "80    0.619364  \n",
       "81    1.000000  \n",
       "82    0.610105  \n",
       "83    0.605274  \n",
       "\n",
       "[84 rows x 12 columns]"
      ]
     },
     "execution_count": 199,
     "metadata": {},
     "output_type": "execute_result"
    }
   ],
   "source": [
    "train = train.rename(columns={'Sales_Quantity_Milliontonnes': 'y', 'Date':'ds'})\n",
    "train"
   ]
  },
  {
   "cell_type": "code",
   "execution_count": 200,
   "metadata": {},
   "outputs": [
    {
     "data": {
      "text/html": [
       "<div>\n",
       "<style scoped>\n",
       "    .dataframe tbody tr th:only-of-type {\n",
       "        vertical-align: middle;\n",
       "    }\n",
       "\n",
       "    .dataframe tbody tr th {\n",
       "        vertical-align: top;\n",
       "    }\n",
       "\n",
       "    .dataframe thead th {\n",
       "        text-align: right;\n",
       "    }\n",
       "</style>\n",
       "<table border=\"1\" class=\"dataframe\">\n",
       "  <thead>\n",
       "    <tr style=\"text-align: right;\">\n",
       "      <th></th>\n",
       "      <th>ds</th>\n",
       "      <th>y</th>\n",
       "      <th>GDP_Construction_Rs_Crs</th>\n",
       "      <th>GDP_Realestate_Rs_Crs</th>\n",
       "      <th>Oveall_GDP_Growth%</th>\n",
       "      <th>Water_Source</th>\n",
       "      <th>Limestone</th>\n",
       "      <th>Coal_Milliontonne</th>\n",
       "      <th>Home_Interest_Rate</th>\n",
       "      <th>Trasportation_Cost</th>\n",
       "      <th>Order_Quantity_Milliontonnes</th>\n",
       "      <th>Unit_Price</th>\n",
       "    </tr>\n",
       "  </thead>\n",
       "  <tbody>\n",
       "    <tr>\n",
       "      <th>84</th>\n",
       "      <td>2022-01-31</td>\n",
       "      <td>8.921</td>\n",
       "      <td>0.634891</td>\n",
       "      <td>0.901016</td>\n",
       "      <td>1.000000</td>\n",
       "      <td>0.876267</td>\n",
       "      <td>0.626013</td>\n",
       "      <td>0.844162</td>\n",
       "      <td>0.000000</td>\n",
       "      <td>0.908302</td>\n",
       "      <td>0.979028</td>\n",
       "      <td>0.540459</td>\n",
       "    </tr>\n",
       "    <tr>\n",
       "      <th>85</th>\n",
       "      <td>2022-02-28</td>\n",
       "      <td>8.345</td>\n",
       "      <td>0.634891</td>\n",
       "      <td>0.901016</td>\n",
       "      <td>1.000000</td>\n",
       "      <td>0.189694</td>\n",
       "      <td>0.671638</td>\n",
       "      <td>0.737339</td>\n",
       "      <td>0.000000</td>\n",
       "      <td>0.818004</td>\n",
       "      <td>0.899800</td>\n",
       "      <td>0.556159</td>\n",
       "    </tr>\n",
       "    <tr>\n",
       "      <th>86</th>\n",
       "      <td>2022-03-31</td>\n",
       "      <td>7.985</td>\n",
       "      <td>0.634891</td>\n",
       "      <td>0.901016</td>\n",
       "      <td>1.000000</td>\n",
       "      <td>0.892693</td>\n",
       "      <td>0.160708</td>\n",
       "      <td>0.607067</td>\n",
       "      <td>0.000000</td>\n",
       "      <td>0.689291</td>\n",
       "      <td>0.832057</td>\n",
       "      <td>0.142110</td>\n",
       "    </tr>\n",
       "    <tr>\n",
       "      <th>87</th>\n",
       "      <td>2022-04-30</td>\n",
       "      <td>7.456</td>\n",
       "      <td>0.608789</td>\n",
       "      <td>1.000000</td>\n",
       "      <td>0.737069</td>\n",
       "      <td>0.805803</td>\n",
       "      <td>0.321961</td>\n",
       "      <td>0.488520</td>\n",
       "      <td>0.026273</td>\n",
       "      <td>0.710374</td>\n",
       "      <td>0.747170</td>\n",
       "      <td>0.785024</td>\n",
       "    </tr>\n",
       "    <tr>\n",
       "      <th>88</th>\n",
       "      <td>2022-05-31</td>\n",
       "      <td>7.762</td>\n",
       "      <td>0.608789</td>\n",
       "      <td>1.000000</td>\n",
       "      <td>0.564655</td>\n",
       "      <td>0.556340</td>\n",
       "      <td>0.104528</td>\n",
       "      <td>0.412571</td>\n",
       "      <td>0.052545</td>\n",
       "      <td>0.660733</td>\n",
       "      <td>0.797603</td>\n",
       "      <td>0.175926</td>\n",
       "    </tr>\n",
       "    <tr>\n",
       "      <th>89</th>\n",
       "      <td>2022-06-30</td>\n",
       "      <td>8.216</td>\n",
       "      <td>0.608789</td>\n",
       "      <td>1.000000</td>\n",
       "      <td>0.650862</td>\n",
       "      <td>0.953485</td>\n",
       "      <td>0.808989</td>\n",
       "      <td>0.347826</td>\n",
       "      <td>0.105090</td>\n",
       "      <td>0.867589</td>\n",
       "      <td>0.890979</td>\n",
       "      <td>0.958937</td>\n",
       "    </tr>\n",
       "    <tr>\n",
       "      <th>90</th>\n",
       "      <td>2022-07-31</td>\n",
       "      <td>5.912</td>\n",
       "      <td>0.707109</td>\n",
       "      <td>0.756814</td>\n",
       "      <td>0.581897</td>\n",
       "      <td>0.172961</td>\n",
       "      <td>0.221859</td>\n",
       "      <td>0.057320</td>\n",
       "      <td>0.131363</td>\n",
       "      <td>0.392432</td>\n",
       "      <td>0.507989</td>\n",
       "      <td>0.305556</td>\n",
       "    </tr>\n",
       "    <tr>\n",
       "      <th>91</th>\n",
       "      <td>2022-08-31</td>\n",
       "      <td>6.245</td>\n",
       "      <td>0.707109</td>\n",
       "      <td>0.756814</td>\n",
       "      <td>0.659483</td>\n",
       "      <td>0.093696</td>\n",
       "      <td>0.281307</td>\n",
       "      <td>0.177170</td>\n",
       "      <td>0.183908</td>\n",
       "      <td>0.527387</td>\n",
       "      <td>0.545606</td>\n",
       "      <td>0.928140</td>\n",
       "    </tr>\n",
       "    <tr>\n",
       "      <th>92</th>\n",
       "      <td>2022-09-30</td>\n",
       "      <td>7.015</td>\n",
       "      <td>0.707109</td>\n",
       "      <td>0.756814</td>\n",
       "      <td>0.642241</td>\n",
       "      <td>0.739331</td>\n",
       "      <td>0.463126</td>\n",
       "      <td>0.384302</td>\n",
       "      <td>0.183908</td>\n",
       "      <td>0.582014</td>\n",
       "      <td>0.680260</td>\n",
       "      <td>0.418277</td>\n",
       "    </tr>\n",
       "    <tr>\n",
       "      <th>93</th>\n",
       "      <td>2022-10-31</td>\n",
       "      <td>7.152</td>\n",
       "      <td>1.000000</td>\n",
       "      <td>0.817232</td>\n",
       "      <td>0.581897</td>\n",
       "      <td>0.814809</td>\n",
       "      <td>0.314130</td>\n",
       "      <td>0.884546</td>\n",
       "      <td>0.249589</td>\n",
       "      <td>0.576512</td>\n",
       "      <td>0.696405</td>\n",
       "      <td>0.239130</td>\n",
       "    </tr>\n",
       "    <tr>\n",
       "      <th>94</th>\n",
       "      <td>2022-11-30</td>\n",
       "      <td>8.124</td>\n",
       "      <td>1.000000</td>\n",
       "      <td>0.817232</td>\n",
       "      <td>0.693966</td>\n",
       "      <td>0.244243</td>\n",
       "      <td>0.404086</td>\n",
       "      <td>0.842859</td>\n",
       "      <td>0.288998</td>\n",
       "      <td>0.712178</td>\n",
       "      <td>0.863848</td>\n",
       "      <td>0.151369</td>\n",
       "    </tr>\n",
       "    <tr>\n",
       "      <th>95</th>\n",
       "      <td>2022-12-31</td>\n",
       "      <td>8.954</td>\n",
       "      <td>1.000000</td>\n",
       "      <td>0.817232</td>\n",
       "      <td>0.599138</td>\n",
       "      <td>0.247569</td>\n",
       "      <td>0.646987</td>\n",
       "      <td>0.978342</td>\n",
       "      <td>0.354680</td>\n",
       "      <td>0.946915</td>\n",
       "      <td>0.942410</td>\n",
       "      <td>0.714976</td>\n",
       "    </tr>\n",
       "  </tbody>\n",
       "</table>\n",
       "</div>"
      ],
      "text/plain": [
       "           ds      y  GDP_Construction_Rs_Crs  GDP_Realestate_Rs_Crs  \\\n",
       "84 2022-01-31  8.921                 0.634891               0.901016   \n",
       "85 2022-02-28  8.345                 0.634891               0.901016   \n",
       "86 2022-03-31  7.985                 0.634891               0.901016   \n",
       "87 2022-04-30  7.456                 0.608789               1.000000   \n",
       "88 2022-05-31  7.762                 0.608789               1.000000   \n",
       "89 2022-06-30  8.216                 0.608789               1.000000   \n",
       "90 2022-07-31  5.912                 0.707109               0.756814   \n",
       "91 2022-08-31  6.245                 0.707109               0.756814   \n",
       "92 2022-09-30  7.015                 0.707109               0.756814   \n",
       "93 2022-10-31  7.152                 1.000000               0.817232   \n",
       "94 2022-11-30  8.124                 1.000000               0.817232   \n",
       "95 2022-12-31  8.954                 1.000000               0.817232   \n",
       "\n",
       "    Oveall_GDP_Growth%  Water_Source  Limestone  Coal_Milliontonne  \\\n",
       "84            1.000000      0.876267   0.626013           0.844162   \n",
       "85            1.000000      0.189694   0.671638           0.737339   \n",
       "86            1.000000      0.892693   0.160708           0.607067   \n",
       "87            0.737069      0.805803   0.321961           0.488520   \n",
       "88            0.564655      0.556340   0.104528           0.412571   \n",
       "89            0.650862      0.953485   0.808989           0.347826   \n",
       "90            0.581897      0.172961   0.221859           0.057320   \n",
       "91            0.659483      0.093696   0.281307           0.177170   \n",
       "92            0.642241      0.739331   0.463126           0.384302   \n",
       "93            0.581897      0.814809   0.314130           0.884546   \n",
       "94            0.693966      0.244243   0.404086           0.842859   \n",
       "95            0.599138      0.247569   0.646987           0.978342   \n",
       "\n",
       "    Home_Interest_Rate  Trasportation_Cost  Order_Quantity_Milliontonnes  \\\n",
       "84            0.000000            0.908302                      0.979028   \n",
       "85            0.000000            0.818004                      0.899800   \n",
       "86            0.000000            0.689291                      0.832057   \n",
       "87            0.026273            0.710374                      0.747170   \n",
       "88            0.052545            0.660733                      0.797603   \n",
       "89            0.105090            0.867589                      0.890979   \n",
       "90            0.131363            0.392432                      0.507989   \n",
       "91            0.183908            0.527387                      0.545606   \n",
       "92            0.183908            0.582014                      0.680260   \n",
       "93            0.249589            0.576512                      0.696405   \n",
       "94            0.288998            0.712178                      0.863848   \n",
       "95            0.354680            0.946915                      0.942410   \n",
       "\n",
       "    Unit_Price  \n",
       "84    0.540459  \n",
       "85    0.556159  \n",
       "86    0.142110  \n",
       "87    0.785024  \n",
       "88    0.175926  \n",
       "89    0.958937  \n",
       "90    0.305556  \n",
       "91    0.928140  \n",
       "92    0.418277  \n",
       "93    0.239130  \n",
       "94    0.151369  \n",
       "95    0.714976  "
      ]
     },
     "execution_count": 200,
     "metadata": {},
     "output_type": "execute_result"
    }
   ],
   "source": [
    "test = test.rename(columns={'Sales_Quantity_Milliontonnes': 'y', 'Date':'ds'})\n",
    "test"
   ]
  },
  {
   "cell_type": "markdown",
   "metadata": {},
   "source": [
    "Initiating model"
   ]
  },
  {
   "cell_type": "code",
   "execution_count": 201,
   "metadata": {},
   "outputs": [],
   "source": [
    "model = Prophet()"
   ]
  },
  {
   "cell_type": "markdown",
   "metadata": {},
   "source": [
    "Adding regressors to the model built"
   ]
  },
  {
   "cell_type": "code",
   "execution_count": 202,
   "metadata": {
    "colab": {
     "base_uri": "https://localhost:8080/"
    },
    "id": "q2JIRYrdeWLl",
    "outputId": "70076e6a-42d8-44b0-b458-1177da45de9b"
   },
   "outputs": [
    {
     "data": {
      "text/plain": [
       "<prophet.forecaster.Prophet at 0x1cba205d9a0>"
      ]
     },
     "execution_count": 202,
     "metadata": {},
     "output_type": "execute_result"
    }
   ],
   "source": [
    "model.add_regressor('GDP_Construction_Rs_Crs')\n",
    "model.add_regressor('GDP_Realestate_Rs_Crs')\n",
    "model.add_regressor('Oveall_GDP_Growth%')\n",
    "model.add_regressor('Water_Source')\n",
    "model.add_regressor('Limestone')\n",
    "model.add_regressor('Coal_Milliontonne')\n",
    "model.add_regressor('Home_Interest_Rate')\n",
    "model.add_regressor('Trasportation_Cost')\n",
    "model.add_regressor('Order_Quantity_Milliontonnes')\n",
    "model.add_regressor('Unit_Price')"
   ]
  },
  {
   "cell_type": "code",
   "execution_count": 203,
   "metadata": {
    "colab": {
     "base_uri": "https://localhost:8080/"
    },
    "id": "GCwp6huqeWOO",
    "outputId": "deeab61c-a8ff-4eda-fe96-5e41c29be32a"
   },
   "outputs": [
    {
     "name": "stderr",
     "output_type": "stream",
     "text": [
      "13:20:48 - cmdstanpy - INFO - Chain [1] start processing\n",
      "13:20:49 - cmdstanpy - INFO - Chain [1] done processing\n"
     ]
    },
    {
     "data": {
      "text/plain": [
       "<prophet.forecaster.Prophet at 0x1cba205d9a0>"
      ]
     },
     "execution_count": 203,
     "metadata": {},
     "output_type": "execute_result"
    }
   ],
   "source": [
    "model.fit(train)"
   ]
  },
  {
   "cell_type": "code",
   "execution_count": 204,
   "metadata": {},
   "outputs": [
    {
     "data": {
      "text/html": [
       "<div>\n",
       "<style scoped>\n",
       "    .dataframe tbody tr th:only-of-type {\n",
       "        vertical-align: middle;\n",
       "    }\n",
       "\n",
       "    .dataframe tbody tr th {\n",
       "        vertical-align: top;\n",
       "    }\n",
       "\n",
       "    .dataframe thead th {\n",
       "        text-align: right;\n",
       "    }\n",
       "</style>\n",
       "<table border=\"1\" class=\"dataframe\">\n",
       "  <thead>\n",
       "    <tr style=\"text-align: right;\">\n",
       "      <th></th>\n",
       "      <th>ds</th>\n",
       "      <th>trend</th>\n",
       "      <th>yhat_lower</th>\n",
       "      <th>yhat_upper</th>\n",
       "      <th>trend_lower</th>\n",
       "      <th>trend_upper</th>\n",
       "      <th>Coal_Milliontonne</th>\n",
       "      <th>Coal_Milliontonne_lower</th>\n",
       "      <th>Coal_Milliontonne_upper</th>\n",
       "      <th>GDP_Construction_Rs_Crs</th>\n",
       "      <th>...</th>\n",
       "      <th>extra_regressors_additive</th>\n",
       "      <th>extra_regressors_additive_lower</th>\n",
       "      <th>extra_regressors_additive_upper</th>\n",
       "      <th>yearly</th>\n",
       "      <th>yearly_lower</th>\n",
       "      <th>yearly_upper</th>\n",
       "      <th>multiplicative_terms</th>\n",
       "      <th>multiplicative_terms_lower</th>\n",
       "      <th>multiplicative_terms_upper</th>\n",
       "      <th>yhat</th>\n",
       "    </tr>\n",
       "  </thead>\n",
       "  <tbody>\n",
       "    <tr>\n",
       "      <th>0</th>\n",
       "      <td>2015-01-31</td>\n",
       "      <td>4.806024</td>\n",
       "      <td>4.328179</td>\n",
       "      <td>4.595200</td>\n",
       "      <td>4.806024</td>\n",
       "      <td>4.806024</td>\n",
       "      <td>0.002527</td>\n",
       "      <td>0.002527</td>\n",
       "      <td>0.002527</td>\n",
       "      <td>0.016821</td>\n",
       "      <td>...</td>\n",
       "      <td>-0.363874</td>\n",
       "      <td>-0.363874</td>\n",
       "      <td>-0.363874</td>\n",
       "      <td>0.020485</td>\n",
       "      <td>0.020485</td>\n",
       "      <td>0.020485</td>\n",
       "      <td>0.0</td>\n",
       "      <td>0.0</td>\n",
       "      <td>0.0</td>\n",
       "      <td>4.462636</td>\n",
       "    </tr>\n",
       "    <tr>\n",
       "      <th>1</th>\n",
       "      <td>2015-02-28</td>\n",
       "      <td>4.816159</td>\n",
       "      <td>4.098522</td>\n",
       "      <td>4.404769</td>\n",
       "      <td>4.816159</td>\n",
       "      <td>4.816159</td>\n",
       "      <td>-0.004714</td>\n",
       "      <td>-0.004714</td>\n",
       "      <td>-0.004714</td>\n",
       "      <td>0.016821</td>\n",
       "      <td>...</td>\n",
       "      <td>-0.766893</td>\n",
       "      <td>-0.766893</td>\n",
       "      <td>-0.766893</td>\n",
       "      <td>0.206632</td>\n",
       "      <td>0.206632</td>\n",
       "      <td>0.206632</td>\n",
       "      <td>0.0</td>\n",
       "      <td>0.0</td>\n",
       "      <td>0.0</td>\n",
       "      <td>4.255898</td>\n",
       "    </tr>\n",
       "    <tr>\n",
       "      <th>2</th>\n",
       "      <td>2015-03-31</td>\n",
       "      <td>4.827381</td>\n",
       "      <td>3.493684</td>\n",
       "      <td>3.788301</td>\n",
       "      <td>4.827381</td>\n",
       "      <td>4.827381</td>\n",
       "      <td>-0.005587</td>\n",
       "      <td>-0.005587</td>\n",
       "      <td>-0.005587</td>\n",
       "      <td>0.016821</td>\n",
       "      <td>...</td>\n",
       "      <td>-1.300909</td>\n",
       "      <td>-1.300909</td>\n",
       "      <td>-1.300909</td>\n",
       "      <td>0.111520</td>\n",
       "      <td>0.111520</td>\n",
       "      <td>0.111520</td>\n",
       "      <td>0.0</td>\n",
       "      <td>0.0</td>\n",
       "      <td>0.0</td>\n",
       "      <td>3.637992</td>\n",
       "    </tr>\n",
       "    <tr>\n",
       "      <th>3</th>\n",
       "      <td>2015-04-30</td>\n",
       "      <td>4.838240</td>\n",
       "      <td>3.331932</td>\n",
       "      <td>3.615140</td>\n",
       "      <td>4.838240</td>\n",
       "      <td>4.838240</td>\n",
       "      <td>-0.005150</td>\n",
       "      <td>-0.005150</td>\n",
       "      <td>-0.005150</td>\n",
       "      <td>0.014139</td>\n",
       "      <td>...</td>\n",
       "      <td>-1.362638</td>\n",
       "      <td>-1.362638</td>\n",
       "      <td>-1.362638</td>\n",
       "      <td>-0.005838</td>\n",
       "      <td>-0.005838</td>\n",
       "      <td>-0.005838</td>\n",
       "      <td>0.0</td>\n",
       "      <td>0.0</td>\n",
       "      <td>0.0</td>\n",
       "      <td>3.469765</td>\n",
       "    </tr>\n",
       "    <tr>\n",
       "      <th>4</th>\n",
       "      <td>2015-05-31</td>\n",
       "      <td>4.849462</td>\n",
       "      <td>3.417324</td>\n",
       "      <td>3.700612</td>\n",
       "      <td>4.849462</td>\n",
       "      <td>4.849462</td>\n",
       "      <td>-0.005114</td>\n",
       "      <td>-0.005114</td>\n",
       "      <td>-0.005114</td>\n",
       "      <td>0.014139</td>\n",
       "      <td>...</td>\n",
       "      <td>-1.315113</td>\n",
       "      <td>-1.315113</td>\n",
       "      <td>-1.315113</td>\n",
       "      <td>0.023420</td>\n",
       "      <td>0.023420</td>\n",
       "      <td>0.023420</td>\n",
       "      <td>0.0</td>\n",
       "      <td>0.0</td>\n",
       "      <td>0.0</td>\n",
       "      <td>3.557768</td>\n",
       "    </tr>\n",
       "    <tr>\n",
       "      <th>...</th>\n",
       "      <td>...</td>\n",
       "      <td>...</td>\n",
       "      <td>...</td>\n",
       "      <td>...</td>\n",
       "      <td>...</td>\n",
       "      <td>...</td>\n",
       "      <td>...</td>\n",
       "      <td>...</td>\n",
       "      <td>...</td>\n",
       "      <td>...</td>\n",
       "      <td>...</td>\n",
       "      <td>...</td>\n",
       "      <td>...</td>\n",
       "      <td>...</td>\n",
       "      <td>...</td>\n",
       "      <td>...</td>\n",
       "      <td>...</td>\n",
       "      <td>...</td>\n",
       "      <td>...</td>\n",
       "      <td>...</td>\n",
       "      <td>...</td>\n",
       "    </tr>\n",
       "    <tr>\n",
       "      <th>79</th>\n",
       "      <td>2021-08-31</td>\n",
       "      <td>5.531304</td>\n",
       "      <td>5.782421</td>\n",
       "      <td>6.073127</td>\n",
       "      <td>5.531304</td>\n",
       "      <td>5.531304</td>\n",
       "      <td>-0.007261</td>\n",
       "      <td>-0.007261</td>\n",
       "      <td>-0.007261</td>\n",
       "      <td>-0.016043</td>\n",
       "      <td>...</td>\n",
       "      <td>0.423460</td>\n",
       "      <td>0.423460</td>\n",
       "      <td>0.423460</td>\n",
       "      <td>-0.029240</td>\n",
       "      <td>-0.029240</td>\n",
       "      <td>-0.029240</td>\n",
       "      <td>0.0</td>\n",
       "      <td>0.0</td>\n",
       "      <td>0.0</td>\n",
       "      <td>5.925524</td>\n",
       "    </tr>\n",
       "    <tr>\n",
       "      <th>80</th>\n",
       "      <td>2021-09-30</td>\n",
       "      <td>5.533943</td>\n",
       "      <td>6.407673</td>\n",
       "      <td>6.693671</td>\n",
       "      <td>5.533943</td>\n",
       "      <td>5.533943</td>\n",
       "      <td>-0.001803</td>\n",
       "      <td>-0.001803</td>\n",
       "      <td>-0.001803</td>\n",
       "      <td>-0.016043</td>\n",
       "      <td>...</td>\n",
       "      <td>1.077073</td>\n",
       "      <td>1.077073</td>\n",
       "      <td>1.077073</td>\n",
       "      <td>-0.055270</td>\n",
       "      <td>-0.055270</td>\n",
       "      <td>-0.055270</td>\n",
       "      <td>0.0</td>\n",
       "      <td>0.0</td>\n",
       "      <td>0.0</td>\n",
       "      <td>6.555746</td>\n",
       "    </tr>\n",
       "    <tr>\n",
       "      <th>81</th>\n",
       "      <td>2021-10-31</td>\n",
       "      <td>5.536670</td>\n",
       "      <td>6.603269</td>\n",
       "      <td>6.875594</td>\n",
       "      <td>5.536670</td>\n",
       "      <td>5.536670</td>\n",
       "      <td>0.003583</td>\n",
       "      <td>0.003583</td>\n",
       "      <td>0.003583</td>\n",
       "      <td>-0.050477</td>\n",
       "      <td>...</td>\n",
       "      <td>1.207383</td>\n",
       "      <td>1.207383</td>\n",
       "      <td>1.207383</td>\n",
       "      <td>-0.004370</td>\n",
       "      <td>-0.004370</td>\n",
       "      <td>-0.004370</td>\n",
       "      <td>0.0</td>\n",
       "      <td>0.0</td>\n",
       "      <td>0.0</td>\n",
       "      <td>6.739683</td>\n",
       "    </tr>\n",
       "    <tr>\n",
       "      <th>82</th>\n",
       "      <td>2021-11-30</td>\n",
       "      <td>5.539309</td>\n",
       "      <td>6.762152</td>\n",
       "      <td>7.047719</td>\n",
       "      <td>5.539309</td>\n",
       "      <td>5.539309</td>\n",
       "      <td>0.010532</td>\n",
       "      <td>0.010532</td>\n",
       "      <td>0.010532</td>\n",
       "      <td>-0.050477</td>\n",
       "      <td>...</td>\n",
       "      <td>1.337254</td>\n",
       "      <td>1.337254</td>\n",
       "      <td>1.337254</td>\n",
       "      <td>0.024078</td>\n",
       "      <td>0.024078</td>\n",
       "      <td>0.024078</td>\n",
       "      <td>0.0</td>\n",
       "      <td>0.0</td>\n",
       "      <td>0.0</td>\n",
       "      <td>6.900641</td>\n",
       "    </tr>\n",
       "    <tr>\n",
       "      <th>83</th>\n",
       "      <td>2021-12-31</td>\n",
       "      <td>5.542035</td>\n",
       "      <td>7.870293</td>\n",
       "      <td>8.160638</td>\n",
       "      <td>5.542035</td>\n",
       "      <td>5.542035</td>\n",
       "      <td>0.017119</td>\n",
       "      <td>0.017119</td>\n",
       "      <td>0.017119</td>\n",
       "      <td>-0.050477</td>\n",
       "      <td>...</td>\n",
       "      <td>2.441062</td>\n",
       "      <td>2.441062</td>\n",
       "      <td>2.441062</td>\n",
       "      <td>0.042063</td>\n",
       "      <td>0.042063</td>\n",
       "      <td>0.042063</td>\n",
       "      <td>0.0</td>\n",
       "      <td>0.0</td>\n",
       "      <td>0.0</td>\n",
       "      <td>8.025160</td>\n",
       "    </tr>\n",
       "  </tbody>\n",
       "</table>\n",
       "<p>84 rows × 49 columns</p>\n",
       "</div>"
      ],
      "text/plain": [
       "           ds     trend  yhat_lower  yhat_upper  trend_lower  trend_upper  \\\n",
       "0  2015-01-31  4.806024    4.328179    4.595200     4.806024     4.806024   \n",
       "1  2015-02-28  4.816159    4.098522    4.404769     4.816159     4.816159   \n",
       "2  2015-03-31  4.827381    3.493684    3.788301     4.827381     4.827381   \n",
       "3  2015-04-30  4.838240    3.331932    3.615140     4.838240     4.838240   \n",
       "4  2015-05-31  4.849462    3.417324    3.700612     4.849462     4.849462   \n",
       "..        ...       ...         ...         ...          ...          ...   \n",
       "79 2021-08-31  5.531304    5.782421    6.073127     5.531304     5.531304   \n",
       "80 2021-09-30  5.533943    6.407673    6.693671     5.533943     5.533943   \n",
       "81 2021-10-31  5.536670    6.603269    6.875594     5.536670     5.536670   \n",
       "82 2021-11-30  5.539309    6.762152    7.047719     5.539309     5.539309   \n",
       "83 2021-12-31  5.542035    7.870293    8.160638     5.542035     5.542035   \n",
       "\n",
       "    Coal_Milliontonne  Coal_Milliontonne_lower  Coal_Milliontonne_upper  \\\n",
       "0            0.002527                 0.002527                 0.002527   \n",
       "1           -0.004714                -0.004714                -0.004714   \n",
       "2           -0.005587                -0.005587                -0.005587   \n",
       "3           -0.005150                -0.005150                -0.005150   \n",
       "4           -0.005114                -0.005114                -0.005114   \n",
       "..                ...                      ...                      ...   \n",
       "79          -0.007261                -0.007261                -0.007261   \n",
       "80          -0.001803                -0.001803                -0.001803   \n",
       "81           0.003583                 0.003583                 0.003583   \n",
       "82           0.010532                 0.010532                 0.010532   \n",
       "83           0.017119                 0.017119                 0.017119   \n",
       "\n",
       "    GDP_Construction_Rs_Crs  ...  extra_regressors_additive  \\\n",
       "0                  0.016821  ...                  -0.363874   \n",
       "1                  0.016821  ...                  -0.766893   \n",
       "2                  0.016821  ...                  -1.300909   \n",
       "3                  0.014139  ...                  -1.362638   \n",
       "4                  0.014139  ...                  -1.315113   \n",
       "..                      ...  ...                        ...   \n",
       "79                -0.016043  ...                   0.423460   \n",
       "80                -0.016043  ...                   1.077073   \n",
       "81                -0.050477  ...                   1.207383   \n",
       "82                -0.050477  ...                   1.337254   \n",
       "83                -0.050477  ...                   2.441062   \n",
       "\n",
       "    extra_regressors_additive_lower  extra_regressors_additive_upper  \\\n",
       "0                         -0.363874                        -0.363874   \n",
       "1                         -0.766893                        -0.766893   \n",
       "2                         -1.300909                        -1.300909   \n",
       "3                         -1.362638                        -1.362638   \n",
       "4                         -1.315113                        -1.315113   \n",
       "..                              ...                              ...   \n",
       "79                         0.423460                         0.423460   \n",
       "80                         1.077073                         1.077073   \n",
       "81                         1.207383                         1.207383   \n",
       "82                         1.337254                         1.337254   \n",
       "83                         2.441062                         2.441062   \n",
       "\n",
       "      yearly  yearly_lower  yearly_upper  multiplicative_terms  \\\n",
       "0   0.020485      0.020485      0.020485                   0.0   \n",
       "1   0.206632      0.206632      0.206632                   0.0   \n",
       "2   0.111520      0.111520      0.111520                   0.0   \n",
       "3  -0.005838     -0.005838     -0.005838                   0.0   \n",
       "4   0.023420      0.023420      0.023420                   0.0   \n",
       "..       ...           ...           ...                   ...   \n",
       "79 -0.029240     -0.029240     -0.029240                   0.0   \n",
       "80 -0.055270     -0.055270     -0.055270                   0.0   \n",
       "81 -0.004370     -0.004370     -0.004370                   0.0   \n",
       "82  0.024078      0.024078      0.024078                   0.0   \n",
       "83  0.042063      0.042063      0.042063                   0.0   \n",
       "\n",
       "    multiplicative_terms_lower  multiplicative_terms_upper      yhat  \n",
       "0                          0.0                         0.0  4.462636  \n",
       "1                          0.0                         0.0  4.255898  \n",
       "2                          0.0                         0.0  3.637992  \n",
       "3                          0.0                         0.0  3.469765  \n",
       "4                          0.0                         0.0  3.557768  \n",
       "..                         ...                         ...       ...  \n",
       "79                         0.0                         0.0  5.925524  \n",
       "80                         0.0                         0.0  6.555746  \n",
       "81                         0.0                         0.0  6.739683  \n",
       "82                         0.0                         0.0  6.900641  \n",
       "83                         0.0                         0.0  8.025160  \n",
       "\n",
       "[84 rows x 49 columns]"
      ]
     },
     "execution_count": 204,
     "metadata": {},
     "output_type": "execute_result"
    }
   ],
   "source": [
    "train_forecasts = model.predict(train)\n",
    "train_forecasts"
   ]
  },
  {
   "cell_type": "code",
   "execution_count": 205,
   "metadata": {
    "colab": {
     "base_uri": "https://localhost:8080/",
     "height": 865
    },
    "id": "rajvwjzJeqS5",
    "outputId": "9c901cf6-4726-4b8b-e8ec-448a2dc95139"
   },
   "outputs": [
    {
     "data": {
      "application/vnd.plotly.v1+json": {
       "config": {
        "plotlyServerURL": "https://plot.ly"
       },
       "data": [
        {
         "marker": {
          "color": "black",
          "size": 4
         },
         "mode": "markers",
         "name": "Actual",
         "type": "scatter",
         "x": [
          "2015-01-31T00:00:00",
          "2015-02-28T00:00:00",
          "2015-03-31T00:00:00",
          "2015-04-30T00:00:00",
          "2015-05-31T00:00:00",
          "2015-06-30T00:00:00",
          "2015-07-31T00:00:00",
          "2015-08-31T00:00:00",
          "2015-09-30T00:00:00",
          "2015-10-31T00:00:00",
          "2015-11-30T00:00:00",
          "2015-12-31T00:00:00",
          "2016-01-31T00:00:00",
          "2016-02-29T00:00:00",
          "2016-03-31T00:00:00",
          "2016-04-30T00:00:00",
          "2016-05-31T00:00:00",
          "2016-06-30T00:00:00",
          "2016-07-31T00:00:00",
          "2016-08-31T00:00:00",
          "2016-09-30T00:00:00",
          "2016-10-31T00:00:00",
          "2016-11-30T00:00:00",
          "2016-12-31T00:00:00",
          "2017-01-31T00:00:00",
          "2017-02-28T00:00:00",
          "2017-03-31T00:00:00",
          "2017-04-30T00:00:00",
          "2017-05-31T00:00:00",
          "2017-06-30T00:00:00",
          "2017-07-31T00:00:00",
          "2017-08-31T00:00:00",
          "2017-09-30T00:00:00",
          "2017-10-31T00:00:00",
          "2017-11-30T00:00:00",
          "2017-12-31T00:00:00",
          "2018-01-31T00:00:00",
          "2018-02-28T00:00:00",
          "2018-03-31T00:00:00",
          "2018-04-30T00:00:00",
          "2018-05-31T00:00:00",
          "2018-06-30T00:00:00",
          "2018-07-31T00:00:00",
          "2018-08-31T00:00:00",
          "2018-09-30T00:00:00",
          "2018-10-31T00:00:00",
          "2018-11-30T00:00:00",
          "2018-12-31T00:00:00",
          "2019-01-31T00:00:00",
          "2019-02-28T00:00:00",
          "2019-03-31T00:00:00",
          "2019-04-30T00:00:00",
          "2019-05-31T00:00:00",
          "2019-06-30T00:00:00",
          "2019-07-31T00:00:00",
          "2019-08-31T00:00:00",
          "2019-09-30T00:00:00",
          "2019-10-31T00:00:00",
          "2019-11-30T00:00:00",
          "2019-12-31T00:00:00",
          "2020-01-31T00:00:00",
          "2020-02-29T00:00:00",
          "2020-03-31T00:00:00",
          "2020-04-30T00:00:00",
          "2020-05-31T00:00:00",
          "2020-06-30T00:00:00",
          "2020-07-31T00:00:00",
          "2020-08-31T00:00:00",
          "2020-09-30T00:00:00",
          "2020-10-31T00:00:00",
          "2020-11-30T00:00:00",
          "2020-12-31T00:00:00",
          "2021-01-31T00:00:00",
          "2021-02-28T00:00:00",
          "2021-03-31T00:00:00",
          "2021-04-30T00:00:00",
          "2021-05-31T00:00:00",
          "2021-06-30T00:00:00",
          "2021-07-31T00:00:00",
          "2021-08-31T00:00:00",
          "2021-09-30T00:00:00",
          "2021-10-31T00:00:00",
          "2021-11-30T00:00:00",
          "2021-12-31T00:00:00"
         ],
         "y": [
          4.598,
          4.308,
          3.659,
          3.51,
          3.541,
          3.976,
          3.021,
          3.148,
          3.158,
          3.21,
          4.127,
          4.439,
          5.856,
          4.876,
          3.865,
          3.872,
          4.051,
          4.131,
          3.527,
          3.347,
          3.408,
          3.491,
          4.588,
          5.126,
          5.615,
          4.715,
          4.121,
          3.978,
          3.981,
          4.302,
          3.428,
          3.401,
          3.299,
          3.552,
          4.316,
          5.286,
          6.989,
          5.678,
          4.715,
          4.189,
          4.465,
          5.316,
          3.791,
          3.799,
          3.915,
          4.142,
          4.842,
          6.509,
          7.491,
          7.289,
          6.544,
          6.001,
          6.215,
          7.101,
          5.199,
          6.012,
          5.701,
          6.376,
          6.587,
          7.481,
          8.226,
          7.216,
          6.245,
          5.925,
          5.984,
          6.891,
          4.875,
          5.615,
          5.842,
          5.912,
          6.016,
          8.124,
          8.954,
          7.864,
          6.915,
          6.873,
          6.946,
          7.245,
          5.543,
          5.915,
          6.542,
          6.781,
          6.872,
          8.011
         ]
        },
        {
         "hoverinfo": "skip",
         "line": {
          "width": 0
         },
         "mode": "lines",
         "type": "scatter",
         "x": [
          "2015-01-31T00:00:00",
          "2015-02-28T00:00:00",
          "2015-03-31T00:00:00",
          "2015-04-30T00:00:00",
          "2015-05-31T00:00:00",
          "2015-06-30T00:00:00",
          "2015-07-31T00:00:00",
          "2015-08-31T00:00:00",
          "2015-09-30T00:00:00",
          "2015-10-31T00:00:00",
          "2015-11-30T00:00:00",
          "2015-12-31T00:00:00",
          "2016-01-31T00:00:00",
          "2016-02-29T00:00:00",
          "2016-03-31T00:00:00",
          "2016-04-30T00:00:00",
          "2016-05-31T00:00:00",
          "2016-06-30T00:00:00",
          "2016-07-31T00:00:00",
          "2016-08-31T00:00:00",
          "2016-09-30T00:00:00",
          "2016-10-31T00:00:00",
          "2016-11-30T00:00:00",
          "2016-12-31T00:00:00",
          "2017-01-31T00:00:00",
          "2017-02-28T00:00:00",
          "2017-03-31T00:00:00",
          "2017-04-30T00:00:00",
          "2017-05-31T00:00:00",
          "2017-06-30T00:00:00",
          "2017-07-31T00:00:00",
          "2017-08-31T00:00:00",
          "2017-09-30T00:00:00",
          "2017-10-31T00:00:00",
          "2017-11-30T00:00:00",
          "2017-12-31T00:00:00",
          "2018-01-31T00:00:00",
          "2018-02-28T00:00:00",
          "2018-03-31T00:00:00",
          "2018-04-30T00:00:00",
          "2018-05-31T00:00:00",
          "2018-06-30T00:00:00",
          "2018-07-31T00:00:00",
          "2018-08-31T00:00:00",
          "2018-09-30T00:00:00",
          "2018-10-31T00:00:00",
          "2018-11-30T00:00:00",
          "2018-12-31T00:00:00",
          "2019-01-31T00:00:00",
          "2019-02-28T00:00:00",
          "2019-03-31T00:00:00",
          "2019-04-30T00:00:00",
          "2019-05-31T00:00:00",
          "2019-06-30T00:00:00",
          "2019-07-31T00:00:00",
          "2019-08-31T00:00:00",
          "2019-09-30T00:00:00",
          "2019-10-31T00:00:00",
          "2019-11-30T00:00:00",
          "2019-12-31T00:00:00",
          "2020-01-31T00:00:00",
          "2020-02-29T00:00:00",
          "2020-03-31T00:00:00",
          "2020-04-30T00:00:00",
          "2020-05-31T00:00:00",
          "2020-06-30T00:00:00",
          "2020-07-31T00:00:00",
          "2020-08-31T00:00:00",
          "2020-09-30T00:00:00",
          "2020-10-31T00:00:00",
          "2020-11-30T00:00:00",
          "2020-12-31T00:00:00",
          "2021-01-31T00:00:00",
          "2021-02-28T00:00:00",
          "2021-03-31T00:00:00",
          "2021-04-30T00:00:00",
          "2021-05-31T00:00:00",
          "2021-06-30T00:00:00",
          "2021-07-31T00:00:00",
          "2021-08-31T00:00:00",
          "2021-09-30T00:00:00",
          "2021-10-31T00:00:00",
          "2021-11-30T00:00:00",
          "2021-12-31T00:00:00"
         ],
         "y": [
          4.328178818811879,
          4.098521648599496,
          3.4936836925515817,
          3.331932105768815,
          3.4173242353031354,
          3.929662760566909,
          2.7337688071205615,
          3.067687444349486,
          2.9958853801256184,
          3.2274481379372078,
          4.132381391588685,
          4.295574813476702,
          5.537076544487065,
          4.734021557481358,
          3.8020858853439923,
          3.788657653378858,
          3.848441618117406,
          4.023367934909286,
          3.297007488212474,
          3.224357392443002,
          3.270555370031514,
          3.269965151681126,
          4.3196739759993195,
          4.993269818663554,
          5.5546280941303525,
          4.727694046685702,
          3.9278193908611034,
          3.724294069370921,
          3.917992543668121,
          4.296137297042661,
          3.3598238321108274,
          3.1867334375511533,
          3.1508050886743946,
          3.4590365195028,
          4.212374471267996,
          5.287849856925131,
          6.539988122352597,
          5.524266804710529,
          4.543131074987191,
          4.093560986034099,
          4.333511518200186,
          5.063601136475171,
          3.6550421219053324,
          3.699992073951469,
          3.7609196384785113,
          3.9647886476584167,
          4.681553319176799,
          6.332977990080217,
          8.046658321625907,
          7.088953831583971,
          6.376749431383418,
          5.797730410641971,
          5.949343501611562,
          6.8592989357460725,
          5.112791508609841,
          5.821065245955608,
          5.6027434428125815,
          6.123342967204103,
          6.314625291679028,
          7.299480682615334,
          7.943437504483664,
          7.039127814936675,
          6.145749485486954,
          5.814067001589833,
          5.883249655324587,
          6.699484808859548,
          4.69085863335627,
          5.449742479561582,
          5.641432025062124,
          5.810641630277305,
          5.943194835921669,
          7.884001785394922,
          8.770562188686391,
          7.70690932802044,
          6.76073017884812,
          6.768291389642547,
          6.833532439458443,
          7.098028741782485,
          5.555569095373652,
          5.782420925277566,
          6.407673156813272,
          6.603269452352258,
          6.762152269380782,
          7.870292579364736
         ]
        },
        {
         "fill": "tonexty",
         "fillcolor": "rgba(0, 114, 178, 0.2)",
         "line": {
          "color": "#0072B2",
          "width": 2
         },
         "mode": "lines",
         "name": "Predicted",
         "type": "scatter",
         "x": [
          "2015-01-31T00:00:00",
          "2015-02-28T00:00:00",
          "2015-03-31T00:00:00",
          "2015-04-30T00:00:00",
          "2015-05-31T00:00:00",
          "2015-06-30T00:00:00",
          "2015-07-31T00:00:00",
          "2015-08-31T00:00:00",
          "2015-09-30T00:00:00",
          "2015-10-31T00:00:00",
          "2015-11-30T00:00:00",
          "2015-12-31T00:00:00",
          "2016-01-31T00:00:00",
          "2016-02-29T00:00:00",
          "2016-03-31T00:00:00",
          "2016-04-30T00:00:00",
          "2016-05-31T00:00:00",
          "2016-06-30T00:00:00",
          "2016-07-31T00:00:00",
          "2016-08-31T00:00:00",
          "2016-09-30T00:00:00",
          "2016-10-31T00:00:00",
          "2016-11-30T00:00:00",
          "2016-12-31T00:00:00",
          "2017-01-31T00:00:00",
          "2017-02-28T00:00:00",
          "2017-03-31T00:00:00",
          "2017-04-30T00:00:00",
          "2017-05-31T00:00:00",
          "2017-06-30T00:00:00",
          "2017-07-31T00:00:00",
          "2017-08-31T00:00:00",
          "2017-09-30T00:00:00",
          "2017-10-31T00:00:00",
          "2017-11-30T00:00:00",
          "2017-12-31T00:00:00",
          "2018-01-31T00:00:00",
          "2018-02-28T00:00:00",
          "2018-03-31T00:00:00",
          "2018-04-30T00:00:00",
          "2018-05-31T00:00:00",
          "2018-06-30T00:00:00",
          "2018-07-31T00:00:00",
          "2018-08-31T00:00:00",
          "2018-09-30T00:00:00",
          "2018-10-31T00:00:00",
          "2018-11-30T00:00:00",
          "2018-12-31T00:00:00",
          "2019-01-31T00:00:00",
          "2019-02-28T00:00:00",
          "2019-03-31T00:00:00",
          "2019-04-30T00:00:00",
          "2019-05-31T00:00:00",
          "2019-06-30T00:00:00",
          "2019-07-31T00:00:00",
          "2019-08-31T00:00:00",
          "2019-09-30T00:00:00",
          "2019-10-31T00:00:00",
          "2019-11-30T00:00:00",
          "2019-12-31T00:00:00",
          "2020-01-31T00:00:00",
          "2020-02-29T00:00:00",
          "2020-03-31T00:00:00",
          "2020-04-30T00:00:00",
          "2020-05-31T00:00:00",
          "2020-06-30T00:00:00",
          "2020-07-31T00:00:00",
          "2020-08-31T00:00:00",
          "2020-09-30T00:00:00",
          "2020-10-31T00:00:00",
          "2020-11-30T00:00:00",
          "2020-12-31T00:00:00",
          "2021-01-31T00:00:00",
          "2021-02-28T00:00:00",
          "2021-03-31T00:00:00",
          "2021-04-30T00:00:00",
          "2021-05-31T00:00:00",
          "2021-06-30T00:00:00",
          "2021-07-31T00:00:00",
          "2021-08-31T00:00:00",
          "2021-09-30T00:00:00",
          "2021-10-31T00:00:00",
          "2021-11-30T00:00:00",
          "2021-12-31T00:00:00"
         ],
         "y": [
          4.4626355229236445,
          4.255898431901087,
          3.6379924097399625,
          3.469764845154459,
          3.5577683122115165,
          4.076325623178118,
          2.8816998237771827,
          3.2086974595306885,
          3.145493959818644,
          3.38044834350948,
          4.277253788861747,
          4.438381066283248,
          5.676905294554895,
          4.88205003901127,
          3.939226376672534,
          3.9305094342398172,
          3.996828787765383,
          4.165521933381703,
          3.42351308883541,
          3.3758797075418556,
          3.4180125884918855,
          3.418119579171784,
          4.464210069486598,
          5.138158283018589,
          5.705058968250844,
          4.87668480083869,
          4.085368429353314,
          3.881275740614415,
          4.063031975589969,
          4.434980887863436,
          3.495354435910599,
          3.3223814221046997,
          3.2977376989430063,
          3.5968676111184177,
          4.350173303228084,
          5.4356762118201045,
          6.6940728486285215,
          5.667891997876516,
          4.6873001530155545,
          4.233893820169399,
          4.477666333839744,
          5.208750232040678,
          3.7996069445851903,
          3.8403793797421866,
          3.907408831279506,
          4.116168410950673,
          4.815551767903504,
          6.469198177183304,
          8.195182188312408,
          7.227673267295724,
          6.519014414265938,
          5.952069095676984,
          6.0913993634398444,
          6.99369179368734,
          5.257704222000241,
          5.967846051823611,
          5.749824996374379,
          6.257051953525457,
          6.453913387750799,
          7.447396622737061,
          8.082128868647454,
          7.187513028600358,
          6.296632941520526,
          5.97228960029274,
          6.02222690812463,
          6.840578460774272,
          4.838933910725295,
          5.5958906524590555,
          5.790734139139274,
          5.955889369867926,
          6.086885806774298,
          8.022749349901286,
          8.914044427023928,
          7.84844569478181,
          6.898833264535577,
          6.907860936680952,
          6.973659754739004,
          7.241436271935541,
          5.686564187466956,
          5.92552362494152,
          6.555746032152487,
          6.739682682224121,
          6.900640557477032,
          8.025159961191111
         ]
        },
        {
         "fill": "tonexty",
         "fillcolor": "rgba(0, 114, 178, 0.2)",
         "hoverinfo": "skip",
         "line": {
          "width": 0
         },
         "mode": "lines",
         "type": "scatter",
         "x": [
          "2015-01-31T00:00:00",
          "2015-02-28T00:00:00",
          "2015-03-31T00:00:00",
          "2015-04-30T00:00:00",
          "2015-05-31T00:00:00",
          "2015-06-30T00:00:00",
          "2015-07-31T00:00:00",
          "2015-08-31T00:00:00",
          "2015-09-30T00:00:00",
          "2015-10-31T00:00:00",
          "2015-11-30T00:00:00",
          "2015-12-31T00:00:00",
          "2016-01-31T00:00:00",
          "2016-02-29T00:00:00",
          "2016-03-31T00:00:00",
          "2016-04-30T00:00:00",
          "2016-05-31T00:00:00",
          "2016-06-30T00:00:00",
          "2016-07-31T00:00:00",
          "2016-08-31T00:00:00",
          "2016-09-30T00:00:00",
          "2016-10-31T00:00:00",
          "2016-11-30T00:00:00",
          "2016-12-31T00:00:00",
          "2017-01-31T00:00:00",
          "2017-02-28T00:00:00",
          "2017-03-31T00:00:00",
          "2017-04-30T00:00:00",
          "2017-05-31T00:00:00",
          "2017-06-30T00:00:00",
          "2017-07-31T00:00:00",
          "2017-08-31T00:00:00",
          "2017-09-30T00:00:00",
          "2017-10-31T00:00:00",
          "2017-11-30T00:00:00",
          "2017-12-31T00:00:00",
          "2018-01-31T00:00:00",
          "2018-02-28T00:00:00",
          "2018-03-31T00:00:00",
          "2018-04-30T00:00:00",
          "2018-05-31T00:00:00",
          "2018-06-30T00:00:00",
          "2018-07-31T00:00:00",
          "2018-08-31T00:00:00",
          "2018-09-30T00:00:00",
          "2018-10-31T00:00:00",
          "2018-11-30T00:00:00",
          "2018-12-31T00:00:00",
          "2019-01-31T00:00:00",
          "2019-02-28T00:00:00",
          "2019-03-31T00:00:00",
          "2019-04-30T00:00:00",
          "2019-05-31T00:00:00",
          "2019-06-30T00:00:00",
          "2019-07-31T00:00:00",
          "2019-08-31T00:00:00",
          "2019-09-30T00:00:00",
          "2019-10-31T00:00:00",
          "2019-11-30T00:00:00",
          "2019-12-31T00:00:00",
          "2020-01-31T00:00:00",
          "2020-02-29T00:00:00",
          "2020-03-31T00:00:00",
          "2020-04-30T00:00:00",
          "2020-05-31T00:00:00",
          "2020-06-30T00:00:00",
          "2020-07-31T00:00:00",
          "2020-08-31T00:00:00",
          "2020-09-30T00:00:00",
          "2020-10-31T00:00:00",
          "2020-11-30T00:00:00",
          "2020-12-31T00:00:00",
          "2021-01-31T00:00:00",
          "2021-02-28T00:00:00",
          "2021-03-31T00:00:00",
          "2021-04-30T00:00:00",
          "2021-05-31T00:00:00",
          "2021-06-30T00:00:00",
          "2021-07-31T00:00:00",
          "2021-08-31T00:00:00",
          "2021-09-30T00:00:00",
          "2021-10-31T00:00:00",
          "2021-11-30T00:00:00",
          "2021-12-31T00:00:00"
         ],
         "y": [
          4.595200367853285,
          4.404769135175004,
          3.78830122570771,
          3.615139907751093,
          3.7006119110574427,
          4.227095819405353,
          3.0190304934279646,
          3.348725175902875,
          3.28823667789339,
          3.5160738883688802,
          4.414388178173182,
          4.580411650882694,
          5.822492639551627,
          5.026813512370798,
          4.0775614977529875,
          4.081672287376372,
          4.141799704966637,
          4.309694959043479,
          3.5831428700009993,
          3.5187880745038327,
          3.553934336536848,
          3.5606928336665575,
          4.609434536509268,
          5.2748433665787084,
          5.853283395877786,
          5.025200787702379,
          4.22965666340486,
          4.027553386044143,
          4.204683811181944,
          4.574815424040866,
          3.627031988526243,
          3.4522992905601573,
          3.4427675432391496,
          3.74947981876108,
          4.488275055029625,
          5.576198304343701,
          6.8347174280092515,
          5.806712969423838,
          4.830835450315274,
          4.383282569381406,
          4.62497606237575,
          5.354037273172779,
          3.939203840635803,
          3.9794152739253565,
          4.05076812421088,
          4.257969599201633,
          4.963511078619788,
          6.618560216895492,
          8.333331757312369,
          7.373460643658381,
          6.659998471492233,
          6.095306504172317,
          6.245176291759136,
          7.1257303497191495,
          5.401643114909466,
          6.0986914184973635,
          5.8950561854410894,
          6.403944406590327,
          6.596502404228325,
          7.581858673232153,
          8.223830609293975,
          7.330568491343818,
          6.4283857245189004,
          6.11236366548229,
          6.160886984957298,
          6.982276900221924,
          4.971827946052857,
          5.746555236402054,
          5.9346259315689975,
          6.099754413104146,
          6.23591934164776,
          8.172883859037304,
          9.052829080372815,
          7.985288211336773,
          7.042118646027144,
          7.057483289016371,
          7.120259592521914,
          7.379706325052694,
          5.8349398160285135,
          6.0731270959631685,
          6.6936708659167,
          6.875593678761439,
          7.047718616068407,
          8.160638367653362
         ]
        }
       ],
       "layout": {
        "height": 600,
        "showlegend": false,
        "template": {
         "data": {
          "bar": [
           {
            "error_x": {
             "color": "#2a3f5f"
            },
            "error_y": {
             "color": "#2a3f5f"
            },
            "marker": {
             "line": {
              "color": "#E5ECF6",
              "width": 0.5
             },
             "pattern": {
              "fillmode": "overlay",
              "size": 10,
              "solidity": 0.2
             }
            },
            "type": "bar"
           }
          ],
          "barpolar": [
           {
            "marker": {
             "line": {
              "color": "#E5ECF6",
              "width": 0.5
             },
             "pattern": {
              "fillmode": "overlay",
              "size": 10,
              "solidity": 0.2
             }
            },
            "type": "barpolar"
           }
          ],
          "carpet": [
           {
            "aaxis": {
             "endlinecolor": "#2a3f5f",
             "gridcolor": "white",
             "linecolor": "white",
             "minorgridcolor": "white",
             "startlinecolor": "#2a3f5f"
            },
            "baxis": {
             "endlinecolor": "#2a3f5f",
             "gridcolor": "white",
             "linecolor": "white",
             "minorgridcolor": "white",
             "startlinecolor": "#2a3f5f"
            },
            "type": "carpet"
           }
          ],
          "choropleth": [
           {
            "colorbar": {
             "outlinewidth": 0,
             "ticks": ""
            },
            "type": "choropleth"
           }
          ],
          "contour": [
           {
            "colorbar": {
             "outlinewidth": 0,
             "ticks": ""
            },
            "colorscale": [
             [
              0,
              "#0d0887"
             ],
             [
              0.1111111111111111,
              "#46039f"
             ],
             [
              0.2222222222222222,
              "#7201a8"
             ],
             [
              0.3333333333333333,
              "#9c179e"
             ],
             [
              0.4444444444444444,
              "#bd3786"
             ],
             [
              0.5555555555555556,
              "#d8576b"
             ],
             [
              0.6666666666666666,
              "#ed7953"
             ],
             [
              0.7777777777777778,
              "#fb9f3a"
             ],
             [
              0.8888888888888888,
              "#fdca26"
             ],
             [
              1,
              "#f0f921"
             ]
            ],
            "type": "contour"
           }
          ],
          "contourcarpet": [
           {
            "colorbar": {
             "outlinewidth": 0,
             "ticks": ""
            },
            "type": "contourcarpet"
           }
          ],
          "heatmap": [
           {
            "colorbar": {
             "outlinewidth": 0,
             "ticks": ""
            },
            "colorscale": [
             [
              0,
              "#0d0887"
             ],
             [
              0.1111111111111111,
              "#46039f"
             ],
             [
              0.2222222222222222,
              "#7201a8"
             ],
             [
              0.3333333333333333,
              "#9c179e"
             ],
             [
              0.4444444444444444,
              "#bd3786"
             ],
             [
              0.5555555555555556,
              "#d8576b"
             ],
             [
              0.6666666666666666,
              "#ed7953"
             ],
             [
              0.7777777777777778,
              "#fb9f3a"
             ],
             [
              0.8888888888888888,
              "#fdca26"
             ],
             [
              1,
              "#f0f921"
             ]
            ],
            "type": "heatmap"
           }
          ],
          "heatmapgl": [
           {
            "colorbar": {
             "outlinewidth": 0,
             "ticks": ""
            },
            "colorscale": [
             [
              0,
              "#0d0887"
             ],
             [
              0.1111111111111111,
              "#46039f"
             ],
             [
              0.2222222222222222,
              "#7201a8"
             ],
             [
              0.3333333333333333,
              "#9c179e"
             ],
             [
              0.4444444444444444,
              "#bd3786"
             ],
             [
              0.5555555555555556,
              "#d8576b"
             ],
             [
              0.6666666666666666,
              "#ed7953"
             ],
             [
              0.7777777777777778,
              "#fb9f3a"
             ],
             [
              0.8888888888888888,
              "#fdca26"
             ],
             [
              1,
              "#f0f921"
             ]
            ],
            "type": "heatmapgl"
           }
          ],
          "histogram": [
           {
            "marker": {
             "pattern": {
              "fillmode": "overlay",
              "size": 10,
              "solidity": 0.2
             }
            },
            "type": "histogram"
           }
          ],
          "histogram2d": [
           {
            "colorbar": {
             "outlinewidth": 0,
             "ticks": ""
            },
            "colorscale": [
             [
              0,
              "#0d0887"
             ],
             [
              0.1111111111111111,
              "#46039f"
             ],
             [
              0.2222222222222222,
              "#7201a8"
             ],
             [
              0.3333333333333333,
              "#9c179e"
             ],
             [
              0.4444444444444444,
              "#bd3786"
             ],
             [
              0.5555555555555556,
              "#d8576b"
             ],
             [
              0.6666666666666666,
              "#ed7953"
             ],
             [
              0.7777777777777778,
              "#fb9f3a"
             ],
             [
              0.8888888888888888,
              "#fdca26"
             ],
             [
              1,
              "#f0f921"
             ]
            ],
            "type": "histogram2d"
           }
          ],
          "histogram2dcontour": [
           {
            "colorbar": {
             "outlinewidth": 0,
             "ticks": ""
            },
            "colorscale": [
             [
              0,
              "#0d0887"
             ],
             [
              0.1111111111111111,
              "#46039f"
             ],
             [
              0.2222222222222222,
              "#7201a8"
             ],
             [
              0.3333333333333333,
              "#9c179e"
             ],
             [
              0.4444444444444444,
              "#bd3786"
             ],
             [
              0.5555555555555556,
              "#d8576b"
             ],
             [
              0.6666666666666666,
              "#ed7953"
             ],
             [
              0.7777777777777778,
              "#fb9f3a"
             ],
             [
              0.8888888888888888,
              "#fdca26"
             ],
             [
              1,
              "#f0f921"
             ]
            ],
            "type": "histogram2dcontour"
           }
          ],
          "mesh3d": [
           {
            "colorbar": {
             "outlinewidth": 0,
             "ticks": ""
            },
            "type": "mesh3d"
           }
          ],
          "parcoords": [
           {
            "line": {
             "colorbar": {
              "outlinewidth": 0,
              "ticks": ""
             }
            },
            "type": "parcoords"
           }
          ],
          "pie": [
           {
            "automargin": true,
            "type": "pie"
           }
          ],
          "scatter": [
           {
            "fillpattern": {
             "fillmode": "overlay",
             "size": 10,
             "solidity": 0.2
            },
            "type": "scatter"
           }
          ],
          "scatter3d": [
           {
            "line": {
             "colorbar": {
              "outlinewidth": 0,
              "ticks": ""
             }
            },
            "marker": {
             "colorbar": {
              "outlinewidth": 0,
              "ticks": ""
             }
            },
            "type": "scatter3d"
           }
          ],
          "scattercarpet": [
           {
            "marker": {
             "colorbar": {
              "outlinewidth": 0,
              "ticks": ""
             }
            },
            "type": "scattercarpet"
           }
          ],
          "scattergeo": [
           {
            "marker": {
             "colorbar": {
              "outlinewidth": 0,
              "ticks": ""
             }
            },
            "type": "scattergeo"
           }
          ],
          "scattergl": [
           {
            "marker": {
             "colorbar": {
              "outlinewidth": 0,
              "ticks": ""
             }
            },
            "type": "scattergl"
           }
          ],
          "scattermapbox": [
           {
            "marker": {
             "colorbar": {
              "outlinewidth": 0,
              "ticks": ""
             }
            },
            "type": "scattermapbox"
           }
          ],
          "scatterpolar": [
           {
            "marker": {
             "colorbar": {
              "outlinewidth": 0,
              "ticks": ""
             }
            },
            "type": "scatterpolar"
           }
          ],
          "scatterpolargl": [
           {
            "marker": {
             "colorbar": {
              "outlinewidth": 0,
              "ticks": ""
             }
            },
            "type": "scatterpolargl"
           }
          ],
          "scatterternary": [
           {
            "marker": {
             "colorbar": {
              "outlinewidth": 0,
              "ticks": ""
             }
            },
            "type": "scatterternary"
           }
          ],
          "surface": [
           {
            "colorbar": {
             "outlinewidth": 0,
             "ticks": ""
            },
            "colorscale": [
             [
              0,
              "#0d0887"
             ],
             [
              0.1111111111111111,
              "#46039f"
             ],
             [
              0.2222222222222222,
              "#7201a8"
             ],
             [
              0.3333333333333333,
              "#9c179e"
             ],
             [
              0.4444444444444444,
              "#bd3786"
             ],
             [
              0.5555555555555556,
              "#d8576b"
             ],
             [
              0.6666666666666666,
              "#ed7953"
             ],
             [
              0.7777777777777778,
              "#fb9f3a"
             ],
             [
              0.8888888888888888,
              "#fdca26"
             ],
             [
              1,
              "#f0f921"
             ]
            ],
            "type": "surface"
           }
          ],
          "table": [
           {
            "cells": {
             "fill": {
              "color": "#EBF0F8"
             },
             "line": {
              "color": "white"
             }
            },
            "header": {
             "fill": {
              "color": "#C8D4E3"
             },
             "line": {
              "color": "white"
             }
            },
            "type": "table"
           }
          ]
         },
         "layout": {
          "annotationdefaults": {
           "arrowcolor": "#2a3f5f",
           "arrowhead": 0,
           "arrowwidth": 1
          },
          "autotypenumbers": "strict",
          "coloraxis": {
           "colorbar": {
            "outlinewidth": 0,
            "ticks": ""
           }
          },
          "colorscale": {
           "diverging": [
            [
             0,
             "#8e0152"
            ],
            [
             0.1,
             "#c51b7d"
            ],
            [
             0.2,
             "#de77ae"
            ],
            [
             0.3,
             "#f1b6da"
            ],
            [
             0.4,
             "#fde0ef"
            ],
            [
             0.5,
             "#f7f7f7"
            ],
            [
             0.6,
             "#e6f5d0"
            ],
            [
             0.7,
             "#b8e186"
            ],
            [
             0.8,
             "#7fbc41"
            ],
            [
             0.9,
             "#4d9221"
            ],
            [
             1,
             "#276419"
            ]
           ],
           "sequential": [
            [
             0,
             "#0d0887"
            ],
            [
             0.1111111111111111,
             "#46039f"
            ],
            [
             0.2222222222222222,
             "#7201a8"
            ],
            [
             0.3333333333333333,
             "#9c179e"
            ],
            [
             0.4444444444444444,
             "#bd3786"
            ],
            [
             0.5555555555555556,
             "#d8576b"
            ],
            [
             0.6666666666666666,
             "#ed7953"
            ],
            [
             0.7777777777777778,
             "#fb9f3a"
            ],
            [
             0.8888888888888888,
             "#fdca26"
            ],
            [
             1,
             "#f0f921"
            ]
           ],
           "sequentialminus": [
            [
             0,
             "#0d0887"
            ],
            [
             0.1111111111111111,
             "#46039f"
            ],
            [
             0.2222222222222222,
             "#7201a8"
            ],
            [
             0.3333333333333333,
             "#9c179e"
            ],
            [
             0.4444444444444444,
             "#bd3786"
            ],
            [
             0.5555555555555556,
             "#d8576b"
            ],
            [
             0.6666666666666666,
             "#ed7953"
            ],
            [
             0.7777777777777778,
             "#fb9f3a"
            ],
            [
             0.8888888888888888,
             "#fdca26"
            ],
            [
             1,
             "#f0f921"
            ]
           ]
          },
          "colorway": [
           "#636efa",
           "#EF553B",
           "#00cc96",
           "#ab63fa",
           "#FFA15A",
           "#19d3f3",
           "#FF6692",
           "#B6E880",
           "#FF97FF",
           "#FECB52"
          ],
          "font": {
           "color": "#2a3f5f"
          },
          "geo": {
           "bgcolor": "white",
           "lakecolor": "white",
           "landcolor": "#E5ECF6",
           "showlakes": true,
           "showland": true,
           "subunitcolor": "white"
          },
          "hoverlabel": {
           "align": "left"
          },
          "hovermode": "closest",
          "mapbox": {
           "style": "light"
          },
          "paper_bgcolor": "white",
          "plot_bgcolor": "#E5ECF6",
          "polar": {
           "angularaxis": {
            "gridcolor": "white",
            "linecolor": "white",
            "ticks": ""
           },
           "bgcolor": "#E5ECF6",
           "radialaxis": {
            "gridcolor": "white",
            "linecolor": "white",
            "ticks": ""
           }
          },
          "scene": {
           "xaxis": {
            "backgroundcolor": "#E5ECF6",
            "gridcolor": "white",
            "gridwidth": 2,
            "linecolor": "white",
            "showbackground": true,
            "ticks": "",
            "zerolinecolor": "white"
           },
           "yaxis": {
            "backgroundcolor": "#E5ECF6",
            "gridcolor": "white",
            "gridwidth": 2,
            "linecolor": "white",
            "showbackground": true,
            "ticks": "",
            "zerolinecolor": "white"
           },
           "zaxis": {
            "backgroundcolor": "#E5ECF6",
            "gridcolor": "white",
            "gridwidth": 2,
            "linecolor": "white",
            "showbackground": true,
            "ticks": "",
            "zerolinecolor": "white"
           }
          },
          "shapedefaults": {
           "line": {
            "color": "#2a3f5f"
           }
          },
          "ternary": {
           "aaxis": {
            "gridcolor": "white",
            "linecolor": "white",
            "ticks": ""
           },
           "baxis": {
            "gridcolor": "white",
            "linecolor": "white",
            "ticks": ""
           },
           "bgcolor": "#E5ECF6",
           "caxis": {
            "gridcolor": "white",
            "linecolor": "white",
            "ticks": ""
           }
          },
          "title": {
           "x": 0.05
          },
          "xaxis": {
           "automargin": true,
           "gridcolor": "white",
           "linecolor": "white",
           "ticks": "",
           "title": {
            "standoff": 15
           },
           "zerolinecolor": "white",
           "zerolinewidth": 2
          },
          "yaxis": {
           "automargin": true,
           "gridcolor": "white",
           "linecolor": "white",
           "ticks": "",
           "title": {
            "standoff": 15
           },
           "zerolinecolor": "white",
           "zerolinewidth": 2
          }
         }
        },
        "width": 900,
        "xaxis": {
         "rangeselector": {
          "buttons": [
           {
            "count": 7,
            "label": "1w",
            "step": "day",
            "stepmode": "backward"
           },
           {
            "count": 1,
            "label": "1m",
            "step": "month",
            "stepmode": "backward"
           },
           {
            "count": 6,
            "label": "6m",
            "step": "month",
            "stepmode": "backward"
           },
           {
            "count": 1,
            "label": "1y",
            "step": "year",
            "stepmode": "backward"
           },
           {
            "step": "all"
           }
          ]
         },
         "rangeslider": {
          "visible": true
         },
         "title": {
          "text": "ds"
         },
         "type": "date"
        },
        "yaxis": {
         "title": {
          "text": "y"
         }
        }
       }
      },
      "text/html": [
       "<div>                            <div id=\"745262d1-9e53-49f6-bcc4-99fb7868bf4a\" class=\"plotly-graph-div\" style=\"height:600px; width:900px;\"></div>            <script type=\"text/javascript\">                require([\"plotly\"], function(Plotly) {                    window.PLOTLYENV=window.PLOTLYENV || {};                                    if (document.getElementById(\"745262d1-9e53-49f6-bcc4-99fb7868bf4a\")) {                    Plotly.newPlot(                        \"745262d1-9e53-49f6-bcc4-99fb7868bf4a\",                        [{\"marker\":{\"color\":\"black\",\"size\":4},\"mode\":\"markers\",\"name\":\"Actual\",\"x\":[\"2015-01-31T00:00:00\",\"2015-02-28T00:00:00\",\"2015-03-31T00:00:00\",\"2015-04-30T00:00:00\",\"2015-05-31T00:00:00\",\"2015-06-30T00:00:00\",\"2015-07-31T00:00:00\",\"2015-08-31T00:00:00\",\"2015-09-30T00:00:00\",\"2015-10-31T00:00:00\",\"2015-11-30T00:00:00\",\"2015-12-31T00:00:00\",\"2016-01-31T00:00:00\",\"2016-02-29T00:00:00\",\"2016-03-31T00:00:00\",\"2016-04-30T00:00:00\",\"2016-05-31T00:00:00\",\"2016-06-30T00:00:00\",\"2016-07-31T00:00:00\",\"2016-08-31T00:00:00\",\"2016-09-30T00:00:00\",\"2016-10-31T00:00:00\",\"2016-11-30T00:00:00\",\"2016-12-31T00:00:00\",\"2017-01-31T00:00:00\",\"2017-02-28T00:00:00\",\"2017-03-31T00:00:00\",\"2017-04-30T00:00:00\",\"2017-05-31T00:00:00\",\"2017-06-30T00:00:00\",\"2017-07-31T00:00:00\",\"2017-08-31T00:00:00\",\"2017-09-30T00:00:00\",\"2017-10-31T00:00:00\",\"2017-11-30T00:00:00\",\"2017-12-31T00:00:00\",\"2018-01-31T00:00:00\",\"2018-02-28T00:00:00\",\"2018-03-31T00:00:00\",\"2018-04-30T00:00:00\",\"2018-05-31T00:00:00\",\"2018-06-30T00:00:00\",\"2018-07-31T00:00:00\",\"2018-08-31T00:00:00\",\"2018-09-30T00:00:00\",\"2018-10-31T00:00:00\",\"2018-11-30T00:00:00\",\"2018-12-31T00:00:00\",\"2019-01-31T00:00:00\",\"2019-02-28T00:00:00\",\"2019-03-31T00:00:00\",\"2019-04-30T00:00:00\",\"2019-05-31T00:00:00\",\"2019-06-30T00:00:00\",\"2019-07-31T00:00:00\",\"2019-08-31T00:00:00\",\"2019-09-30T00:00:00\",\"2019-10-31T00:00:00\",\"2019-11-30T00:00:00\",\"2019-12-31T00:00:00\",\"2020-01-31T00:00:00\",\"2020-02-29T00:00:00\",\"2020-03-31T00:00:00\",\"2020-04-30T00:00:00\",\"2020-05-31T00:00:00\",\"2020-06-30T00:00:00\",\"2020-07-31T00:00:00\",\"2020-08-31T00:00:00\",\"2020-09-30T00:00:00\",\"2020-10-31T00:00:00\",\"2020-11-30T00:00:00\",\"2020-12-31T00:00:00\",\"2021-01-31T00:00:00\",\"2021-02-28T00:00:00\",\"2021-03-31T00:00:00\",\"2021-04-30T00:00:00\",\"2021-05-31T00:00:00\",\"2021-06-30T00:00:00\",\"2021-07-31T00:00:00\",\"2021-08-31T00:00:00\",\"2021-09-30T00:00:00\",\"2021-10-31T00:00:00\",\"2021-11-30T00:00:00\",\"2021-12-31T00:00:00\"],\"y\":[4.598,4.308,3.659,3.51,3.541,3.976,3.021,3.148,3.158,3.21,4.127,4.439,5.856,4.876,3.865,3.872,4.051,4.131,3.527,3.347,3.408,3.491,4.588,5.126,5.615,4.715,4.121,3.978,3.981,4.302,3.428,3.401,3.299,3.552,4.316,5.286,6.989,5.678,4.715,4.189,4.465,5.316,3.791,3.799,3.915,4.142,4.842,6.509,7.491,7.289,6.544,6.001,6.215,7.101,5.199,6.012,5.701,6.376,6.587,7.481,8.226,7.216,6.245,5.925,5.984,6.891,4.875,5.615,5.842,5.912,6.016,8.124,8.954,7.864,6.915,6.873,6.946,7.245,5.543,5.915,6.542,6.781,6.872,8.011],\"type\":\"scatter\"},{\"hoverinfo\":\"skip\",\"line\":{\"width\":0},\"mode\":\"lines\",\"x\":[\"2015-01-31T00:00:00\",\"2015-02-28T00:00:00\",\"2015-03-31T00:00:00\",\"2015-04-30T00:00:00\",\"2015-05-31T00:00:00\",\"2015-06-30T00:00:00\",\"2015-07-31T00:00:00\",\"2015-08-31T00:00:00\",\"2015-09-30T00:00:00\",\"2015-10-31T00:00:00\",\"2015-11-30T00:00:00\",\"2015-12-31T00:00:00\",\"2016-01-31T00:00:00\",\"2016-02-29T00:00:00\",\"2016-03-31T00:00:00\",\"2016-04-30T00:00:00\",\"2016-05-31T00:00:00\",\"2016-06-30T00:00:00\",\"2016-07-31T00:00:00\",\"2016-08-31T00:00:00\",\"2016-09-30T00:00:00\",\"2016-10-31T00:00:00\",\"2016-11-30T00:00:00\",\"2016-12-31T00:00:00\",\"2017-01-31T00:00:00\",\"2017-02-28T00:00:00\",\"2017-03-31T00:00:00\",\"2017-04-30T00:00:00\",\"2017-05-31T00:00:00\",\"2017-06-30T00:00:00\",\"2017-07-31T00:00:00\",\"2017-08-31T00:00:00\",\"2017-09-30T00:00:00\",\"2017-10-31T00:00:00\",\"2017-11-30T00:00:00\",\"2017-12-31T00:00:00\",\"2018-01-31T00:00:00\",\"2018-02-28T00:00:00\",\"2018-03-31T00:00:00\",\"2018-04-30T00:00:00\",\"2018-05-31T00:00:00\",\"2018-06-30T00:00:00\",\"2018-07-31T00:00:00\",\"2018-08-31T00:00:00\",\"2018-09-30T00:00:00\",\"2018-10-31T00:00:00\",\"2018-11-30T00:00:00\",\"2018-12-31T00:00:00\",\"2019-01-31T00:00:00\",\"2019-02-28T00:00:00\",\"2019-03-31T00:00:00\",\"2019-04-30T00:00:00\",\"2019-05-31T00:00:00\",\"2019-06-30T00:00:00\",\"2019-07-31T00:00:00\",\"2019-08-31T00:00:00\",\"2019-09-30T00:00:00\",\"2019-10-31T00:00:00\",\"2019-11-30T00:00:00\",\"2019-12-31T00:00:00\",\"2020-01-31T00:00:00\",\"2020-02-29T00:00:00\",\"2020-03-31T00:00:00\",\"2020-04-30T00:00:00\",\"2020-05-31T00:00:00\",\"2020-06-30T00:00:00\",\"2020-07-31T00:00:00\",\"2020-08-31T00:00:00\",\"2020-09-30T00:00:00\",\"2020-10-31T00:00:00\",\"2020-11-30T00:00:00\",\"2020-12-31T00:00:00\",\"2021-01-31T00:00:00\",\"2021-02-28T00:00:00\",\"2021-03-31T00:00:00\",\"2021-04-30T00:00:00\",\"2021-05-31T00:00:00\",\"2021-06-30T00:00:00\",\"2021-07-31T00:00:00\",\"2021-08-31T00:00:00\",\"2021-09-30T00:00:00\",\"2021-10-31T00:00:00\",\"2021-11-30T00:00:00\",\"2021-12-31T00:00:00\"],\"y\":[4.328178818811879,4.098521648599496,3.4936836925515817,3.331932105768815,3.4173242353031354,3.929662760566909,2.7337688071205615,3.067687444349486,2.9958853801256184,3.2274481379372078,4.132381391588685,4.295574813476702,5.537076544487065,4.734021557481358,3.8020858853439923,3.788657653378858,3.848441618117406,4.023367934909286,3.297007488212474,3.224357392443002,3.270555370031514,3.269965151681126,4.3196739759993195,4.993269818663554,5.5546280941303525,4.727694046685702,3.9278193908611034,3.724294069370921,3.917992543668121,4.296137297042661,3.3598238321108274,3.1867334375511533,3.1508050886743946,3.4590365195028,4.212374471267996,5.287849856925131,6.539988122352597,5.524266804710529,4.543131074987191,4.093560986034099,4.333511518200186,5.063601136475171,3.6550421219053324,3.699992073951469,3.7609196384785113,3.9647886476584167,4.681553319176799,6.332977990080217,8.046658321625907,7.088953831583971,6.376749431383418,5.797730410641971,5.949343501611562,6.8592989357460725,5.112791508609841,5.821065245955608,5.6027434428125815,6.123342967204103,6.314625291679028,7.299480682615334,7.943437504483664,7.039127814936675,6.145749485486954,5.814067001589833,5.883249655324587,6.699484808859548,4.69085863335627,5.449742479561582,5.641432025062124,5.810641630277305,5.943194835921669,7.884001785394922,8.770562188686391,7.70690932802044,6.76073017884812,6.768291389642547,6.833532439458443,7.098028741782485,5.555569095373652,5.782420925277566,6.407673156813272,6.603269452352258,6.762152269380782,7.870292579364736],\"type\":\"scatter\"},{\"fill\":\"tonexty\",\"fillcolor\":\"rgba(0, 114, 178, 0.2)\",\"line\":{\"color\":\"#0072B2\",\"width\":2},\"mode\":\"lines\",\"name\":\"Predicted\",\"x\":[\"2015-01-31T00:00:00\",\"2015-02-28T00:00:00\",\"2015-03-31T00:00:00\",\"2015-04-30T00:00:00\",\"2015-05-31T00:00:00\",\"2015-06-30T00:00:00\",\"2015-07-31T00:00:00\",\"2015-08-31T00:00:00\",\"2015-09-30T00:00:00\",\"2015-10-31T00:00:00\",\"2015-11-30T00:00:00\",\"2015-12-31T00:00:00\",\"2016-01-31T00:00:00\",\"2016-02-29T00:00:00\",\"2016-03-31T00:00:00\",\"2016-04-30T00:00:00\",\"2016-05-31T00:00:00\",\"2016-06-30T00:00:00\",\"2016-07-31T00:00:00\",\"2016-08-31T00:00:00\",\"2016-09-30T00:00:00\",\"2016-10-31T00:00:00\",\"2016-11-30T00:00:00\",\"2016-12-31T00:00:00\",\"2017-01-31T00:00:00\",\"2017-02-28T00:00:00\",\"2017-03-31T00:00:00\",\"2017-04-30T00:00:00\",\"2017-05-31T00:00:00\",\"2017-06-30T00:00:00\",\"2017-07-31T00:00:00\",\"2017-08-31T00:00:00\",\"2017-09-30T00:00:00\",\"2017-10-31T00:00:00\",\"2017-11-30T00:00:00\",\"2017-12-31T00:00:00\",\"2018-01-31T00:00:00\",\"2018-02-28T00:00:00\",\"2018-03-31T00:00:00\",\"2018-04-30T00:00:00\",\"2018-05-31T00:00:00\",\"2018-06-30T00:00:00\",\"2018-07-31T00:00:00\",\"2018-08-31T00:00:00\",\"2018-09-30T00:00:00\",\"2018-10-31T00:00:00\",\"2018-11-30T00:00:00\",\"2018-12-31T00:00:00\",\"2019-01-31T00:00:00\",\"2019-02-28T00:00:00\",\"2019-03-31T00:00:00\",\"2019-04-30T00:00:00\",\"2019-05-31T00:00:00\",\"2019-06-30T00:00:00\",\"2019-07-31T00:00:00\",\"2019-08-31T00:00:00\",\"2019-09-30T00:00:00\",\"2019-10-31T00:00:00\",\"2019-11-30T00:00:00\",\"2019-12-31T00:00:00\",\"2020-01-31T00:00:00\",\"2020-02-29T00:00:00\",\"2020-03-31T00:00:00\",\"2020-04-30T00:00:00\",\"2020-05-31T00:00:00\",\"2020-06-30T00:00:00\",\"2020-07-31T00:00:00\",\"2020-08-31T00:00:00\",\"2020-09-30T00:00:00\",\"2020-10-31T00:00:00\",\"2020-11-30T00:00:00\",\"2020-12-31T00:00:00\",\"2021-01-31T00:00:00\",\"2021-02-28T00:00:00\",\"2021-03-31T00:00:00\",\"2021-04-30T00:00:00\",\"2021-05-31T00:00:00\",\"2021-06-30T00:00:00\",\"2021-07-31T00:00:00\",\"2021-08-31T00:00:00\",\"2021-09-30T00:00:00\",\"2021-10-31T00:00:00\",\"2021-11-30T00:00:00\",\"2021-12-31T00:00:00\"],\"y\":[4.4626355229236445,4.255898431901087,3.6379924097399625,3.469764845154459,3.5577683122115165,4.076325623178118,2.8816998237771827,3.2086974595306885,3.145493959818644,3.38044834350948,4.277253788861747,4.438381066283248,5.676905294554895,4.88205003901127,3.939226376672534,3.9305094342398172,3.996828787765383,4.165521933381703,3.42351308883541,3.3758797075418556,3.4180125884918855,3.418119579171784,4.464210069486598,5.138158283018589,5.705058968250844,4.87668480083869,4.085368429353314,3.881275740614415,4.063031975589969,4.434980887863436,3.495354435910599,3.3223814221046997,3.2977376989430063,3.5968676111184177,4.350173303228084,5.4356762118201045,6.6940728486285215,5.667891997876516,4.6873001530155545,4.233893820169399,4.477666333839744,5.208750232040678,3.7996069445851903,3.8403793797421866,3.907408831279506,4.116168410950673,4.815551767903504,6.469198177183304,8.195182188312408,7.227673267295724,6.519014414265938,5.952069095676984,6.0913993634398444,6.99369179368734,5.257704222000241,5.967846051823611,5.749824996374379,6.257051953525457,6.453913387750799,7.447396622737061,8.082128868647454,7.187513028600358,6.296632941520526,5.97228960029274,6.02222690812463,6.840578460774272,4.838933910725295,5.5958906524590555,5.790734139139274,5.955889369867926,6.086885806774298,8.022749349901286,8.914044427023928,7.84844569478181,6.898833264535577,6.907860936680952,6.973659754739004,7.241436271935541,5.686564187466956,5.92552362494152,6.555746032152487,6.739682682224121,6.900640557477032,8.025159961191111],\"type\":\"scatter\"},{\"fill\":\"tonexty\",\"fillcolor\":\"rgba(0, 114, 178, 0.2)\",\"hoverinfo\":\"skip\",\"line\":{\"width\":0},\"mode\":\"lines\",\"x\":[\"2015-01-31T00:00:00\",\"2015-02-28T00:00:00\",\"2015-03-31T00:00:00\",\"2015-04-30T00:00:00\",\"2015-05-31T00:00:00\",\"2015-06-30T00:00:00\",\"2015-07-31T00:00:00\",\"2015-08-31T00:00:00\",\"2015-09-30T00:00:00\",\"2015-10-31T00:00:00\",\"2015-11-30T00:00:00\",\"2015-12-31T00:00:00\",\"2016-01-31T00:00:00\",\"2016-02-29T00:00:00\",\"2016-03-31T00:00:00\",\"2016-04-30T00:00:00\",\"2016-05-31T00:00:00\",\"2016-06-30T00:00:00\",\"2016-07-31T00:00:00\",\"2016-08-31T00:00:00\",\"2016-09-30T00:00:00\",\"2016-10-31T00:00:00\",\"2016-11-30T00:00:00\",\"2016-12-31T00:00:00\",\"2017-01-31T00:00:00\",\"2017-02-28T00:00:00\",\"2017-03-31T00:00:00\",\"2017-04-30T00:00:00\",\"2017-05-31T00:00:00\",\"2017-06-30T00:00:00\",\"2017-07-31T00:00:00\",\"2017-08-31T00:00:00\",\"2017-09-30T00:00:00\",\"2017-10-31T00:00:00\",\"2017-11-30T00:00:00\",\"2017-12-31T00:00:00\",\"2018-01-31T00:00:00\",\"2018-02-28T00:00:00\",\"2018-03-31T00:00:00\",\"2018-04-30T00:00:00\",\"2018-05-31T00:00:00\",\"2018-06-30T00:00:00\",\"2018-07-31T00:00:00\",\"2018-08-31T00:00:00\",\"2018-09-30T00:00:00\",\"2018-10-31T00:00:00\",\"2018-11-30T00:00:00\",\"2018-12-31T00:00:00\",\"2019-01-31T00:00:00\",\"2019-02-28T00:00:00\",\"2019-03-31T00:00:00\",\"2019-04-30T00:00:00\",\"2019-05-31T00:00:00\",\"2019-06-30T00:00:00\",\"2019-07-31T00:00:00\",\"2019-08-31T00:00:00\",\"2019-09-30T00:00:00\",\"2019-10-31T00:00:00\",\"2019-11-30T00:00:00\",\"2019-12-31T00:00:00\",\"2020-01-31T00:00:00\",\"2020-02-29T00:00:00\",\"2020-03-31T00:00:00\",\"2020-04-30T00:00:00\",\"2020-05-31T00:00:00\",\"2020-06-30T00:00:00\",\"2020-07-31T00:00:00\",\"2020-08-31T00:00:00\",\"2020-09-30T00:00:00\",\"2020-10-31T00:00:00\",\"2020-11-30T00:00:00\",\"2020-12-31T00:00:00\",\"2021-01-31T00:00:00\",\"2021-02-28T00:00:00\",\"2021-03-31T00:00:00\",\"2021-04-30T00:00:00\",\"2021-05-31T00:00:00\",\"2021-06-30T00:00:00\",\"2021-07-31T00:00:00\",\"2021-08-31T00:00:00\",\"2021-09-30T00:00:00\",\"2021-10-31T00:00:00\",\"2021-11-30T00:00:00\",\"2021-12-31T00:00:00\"],\"y\":[4.595200367853285,4.404769135175004,3.78830122570771,3.615139907751093,3.7006119110574427,4.227095819405353,3.0190304934279646,3.348725175902875,3.28823667789339,3.5160738883688802,4.414388178173182,4.580411650882694,5.822492639551627,5.026813512370798,4.0775614977529875,4.081672287376372,4.141799704966637,4.309694959043479,3.5831428700009993,3.5187880745038327,3.553934336536848,3.5606928336665575,4.609434536509268,5.2748433665787084,5.853283395877786,5.025200787702379,4.22965666340486,4.027553386044143,4.204683811181944,4.574815424040866,3.627031988526243,3.4522992905601573,3.4427675432391496,3.74947981876108,4.488275055029625,5.576198304343701,6.8347174280092515,5.806712969423838,4.830835450315274,4.383282569381406,4.62497606237575,5.354037273172779,3.939203840635803,3.9794152739253565,4.05076812421088,4.257969599201633,4.963511078619788,6.618560216895492,8.333331757312369,7.373460643658381,6.659998471492233,6.095306504172317,6.245176291759136,7.1257303497191495,5.401643114909466,6.0986914184973635,5.8950561854410894,6.403944406590327,6.596502404228325,7.581858673232153,8.223830609293975,7.330568491343818,6.4283857245189004,6.11236366548229,6.160886984957298,6.982276900221924,4.971827946052857,5.746555236402054,5.9346259315689975,6.099754413104146,6.23591934164776,8.172883859037304,9.052829080372815,7.985288211336773,7.042118646027144,7.057483289016371,7.120259592521914,7.379706325052694,5.8349398160285135,6.0731270959631685,6.6936708659167,6.875593678761439,7.047718616068407,8.160638367653362],\"type\":\"scatter\"}],                        {\"height\":600,\"showlegend\":false,\"width\":900,\"xaxis\":{\"rangeselector\":{\"buttons\":[{\"count\":7,\"label\":\"1w\",\"step\":\"day\",\"stepmode\":\"backward\"},{\"count\":1,\"label\":\"1m\",\"step\":\"month\",\"stepmode\":\"backward\"},{\"count\":6,\"label\":\"6m\",\"step\":\"month\",\"stepmode\":\"backward\"},{\"count\":1,\"label\":\"1y\",\"step\":\"year\",\"stepmode\":\"backward\"},{\"step\":\"all\"}]},\"rangeslider\":{\"visible\":true},\"title\":{\"text\":\"ds\"},\"type\":\"date\"},\"yaxis\":{\"title\":{\"text\":\"y\"}},\"template\":{\"data\":{\"histogram2dcontour\":[{\"type\":\"histogram2dcontour\",\"colorbar\":{\"outlinewidth\":0,\"ticks\":\"\"},\"colorscale\":[[0.0,\"#0d0887\"],[0.1111111111111111,\"#46039f\"],[0.2222222222222222,\"#7201a8\"],[0.3333333333333333,\"#9c179e\"],[0.4444444444444444,\"#bd3786\"],[0.5555555555555556,\"#d8576b\"],[0.6666666666666666,\"#ed7953\"],[0.7777777777777778,\"#fb9f3a\"],[0.8888888888888888,\"#fdca26\"],[1.0,\"#f0f921\"]]}],\"choropleth\":[{\"type\":\"choropleth\",\"colorbar\":{\"outlinewidth\":0,\"ticks\":\"\"}}],\"histogram2d\":[{\"type\":\"histogram2d\",\"colorbar\":{\"outlinewidth\":0,\"ticks\":\"\"},\"colorscale\":[[0.0,\"#0d0887\"],[0.1111111111111111,\"#46039f\"],[0.2222222222222222,\"#7201a8\"],[0.3333333333333333,\"#9c179e\"],[0.4444444444444444,\"#bd3786\"],[0.5555555555555556,\"#d8576b\"],[0.6666666666666666,\"#ed7953\"],[0.7777777777777778,\"#fb9f3a\"],[0.8888888888888888,\"#fdca26\"],[1.0,\"#f0f921\"]]}],\"heatmap\":[{\"type\":\"heatmap\",\"colorbar\":{\"outlinewidth\":0,\"ticks\":\"\"},\"colorscale\":[[0.0,\"#0d0887\"],[0.1111111111111111,\"#46039f\"],[0.2222222222222222,\"#7201a8\"],[0.3333333333333333,\"#9c179e\"],[0.4444444444444444,\"#bd3786\"],[0.5555555555555556,\"#d8576b\"],[0.6666666666666666,\"#ed7953\"],[0.7777777777777778,\"#fb9f3a\"],[0.8888888888888888,\"#fdca26\"],[1.0,\"#f0f921\"]]}],\"heatmapgl\":[{\"type\":\"heatmapgl\",\"colorbar\":{\"outlinewidth\":0,\"ticks\":\"\"},\"colorscale\":[[0.0,\"#0d0887\"],[0.1111111111111111,\"#46039f\"],[0.2222222222222222,\"#7201a8\"],[0.3333333333333333,\"#9c179e\"],[0.4444444444444444,\"#bd3786\"],[0.5555555555555556,\"#d8576b\"],[0.6666666666666666,\"#ed7953\"],[0.7777777777777778,\"#fb9f3a\"],[0.8888888888888888,\"#fdca26\"],[1.0,\"#f0f921\"]]}],\"contourcarpet\":[{\"type\":\"contourcarpet\",\"colorbar\":{\"outlinewidth\":0,\"ticks\":\"\"}}],\"contour\":[{\"type\":\"contour\",\"colorbar\":{\"outlinewidth\":0,\"ticks\":\"\"},\"colorscale\":[[0.0,\"#0d0887\"],[0.1111111111111111,\"#46039f\"],[0.2222222222222222,\"#7201a8\"],[0.3333333333333333,\"#9c179e\"],[0.4444444444444444,\"#bd3786\"],[0.5555555555555556,\"#d8576b\"],[0.6666666666666666,\"#ed7953\"],[0.7777777777777778,\"#fb9f3a\"],[0.8888888888888888,\"#fdca26\"],[1.0,\"#f0f921\"]]}],\"surface\":[{\"type\":\"surface\",\"colorbar\":{\"outlinewidth\":0,\"ticks\":\"\"},\"colorscale\":[[0.0,\"#0d0887\"],[0.1111111111111111,\"#46039f\"],[0.2222222222222222,\"#7201a8\"],[0.3333333333333333,\"#9c179e\"],[0.4444444444444444,\"#bd3786\"],[0.5555555555555556,\"#d8576b\"],[0.6666666666666666,\"#ed7953\"],[0.7777777777777778,\"#fb9f3a\"],[0.8888888888888888,\"#fdca26\"],[1.0,\"#f0f921\"]]}],\"mesh3d\":[{\"type\":\"mesh3d\",\"colorbar\":{\"outlinewidth\":0,\"ticks\":\"\"}}],\"scatter\":[{\"fillpattern\":{\"fillmode\":\"overlay\",\"size\":10,\"solidity\":0.2},\"type\":\"scatter\"}],\"parcoords\":[{\"type\":\"parcoords\",\"line\":{\"colorbar\":{\"outlinewidth\":0,\"ticks\":\"\"}}}],\"scatterpolargl\":[{\"type\":\"scatterpolargl\",\"marker\":{\"colorbar\":{\"outlinewidth\":0,\"ticks\":\"\"}}}],\"bar\":[{\"error_x\":{\"color\":\"#2a3f5f\"},\"error_y\":{\"color\":\"#2a3f5f\"},\"marker\":{\"line\":{\"color\":\"#E5ECF6\",\"width\":0.5},\"pattern\":{\"fillmode\":\"overlay\",\"size\":10,\"solidity\":0.2}},\"type\":\"bar\"}],\"scattergeo\":[{\"type\":\"scattergeo\",\"marker\":{\"colorbar\":{\"outlinewidth\":0,\"ticks\":\"\"}}}],\"scatterpolar\":[{\"type\":\"scatterpolar\",\"marker\":{\"colorbar\":{\"outlinewidth\":0,\"ticks\":\"\"}}}],\"histogram\":[{\"marker\":{\"pattern\":{\"fillmode\":\"overlay\",\"size\":10,\"solidity\":0.2}},\"type\":\"histogram\"}],\"scattergl\":[{\"type\":\"scattergl\",\"marker\":{\"colorbar\":{\"outlinewidth\":0,\"ticks\":\"\"}}}],\"scatter3d\":[{\"type\":\"scatter3d\",\"line\":{\"colorbar\":{\"outlinewidth\":0,\"ticks\":\"\"}},\"marker\":{\"colorbar\":{\"outlinewidth\":0,\"ticks\":\"\"}}}],\"scattermapbox\":[{\"type\":\"scattermapbox\",\"marker\":{\"colorbar\":{\"outlinewidth\":0,\"ticks\":\"\"}}}],\"scatterternary\":[{\"type\":\"scatterternary\",\"marker\":{\"colorbar\":{\"outlinewidth\":0,\"ticks\":\"\"}}}],\"scattercarpet\":[{\"type\":\"scattercarpet\",\"marker\":{\"colorbar\":{\"outlinewidth\":0,\"ticks\":\"\"}}}],\"carpet\":[{\"aaxis\":{\"endlinecolor\":\"#2a3f5f\",\"gridcolor\":\"white\",\"linecolor\":\"white\",\"minorgridcolor\":\"white\",\"startlinecolor\":\"#2a3f5f\"},\"baxis\":{\"endlinecolor\":\"#2a3f5f\",\"gridcolor\":\"white\",\"linecolor\":\"white\",\"minorgridcolor\":\"white\",\"startlinecolor\":\"#2a3f5f\"},\"type\":\"carpet\"}],\"table\":[{\"cells\":{\"fill\":{\"color\":\"#EBF0F8\"},\"line\":{\"color\":\"white\"}},\"header\":{\"fill\":{\"color\":\"#C8D4E3\"},\"line\":{\"color\":\"white\"}},\"type\":\"table\"}],\"barpolar\":[{\"marker\":{\"line\":{\"color\":\"#E5ECF6\",\"width\":0.5},\"pattern\":{\"fillmode\":\"overlay\",\"size\":10,\"solidity\":0.2}},\"type\":\"barpolar\"}],\"pie\":[{\"automargin\":true,\"type\":\"pie\"}]},\"layout\":{\"autotypenumbers\":\"strict\",\"colorway\":[\"#636efa\",\"#EF553B\",\"#00cc96\",\"#ab63fa\",\"#FFA15A\",\"#19d3f3\",\"#FF6692\",\"#B6E880\",\"#FF97FF\",\"#FECB52\"],\"font\":{\"color\":\"#2a3f5f\"},\"hovermode\":\"closest\",\"hoverlabel\":{\"align\":\"left\"},\"paper_bgcolor\":\"white\",\"plot_bgcolor\":\"#E5ECF6\",\"polar\":{\"bgcolor\":\"#E5ECF6\",\"angularaxis\":{\"gridcolor\":\"white\",\"linecolor\":\"white\",\"ticks\":\"\"},\"radialaxis\":{\"gridcolor\":\"white\",\"linecolor\":\"white\",\"ticks\":\"\"}},\"ternary\":{\"bgcolor\":\"#E5ECF6\",\"aaxis\":{\"gridcolor\":\"white\",\"linecolor\":\"white\",\"ticks\":\"\"},\"baxis\":{\"gridcolor\":\"white\",\"linecolor\":\"white\",\"ticks\":\"\"},\"caxis\":{\"gridcolor\":\"white\",\"linecolor\":\"white\",\"ticks\":\"\"}},\"coloraxis\":{\"colorbar\":{\"outlinewidth\":0,\"ticks\":\"\"}},\"colorscale\":{\"sequential\":[[0.0,\"#0d0887\"],[0.1111111111111111,\"#46039f\"],[0.2222222222222222,\"#7201a8\"],[0.3333333333333333,\"#9c179e\"],[0.4444444444444444,\"#bd3786\"],[0.5555555555555556,\"#d8576b\"],[0.6666666666666666,\"#ed7953\"],[0.7777777777777778,\"#fb9f3a\"],[0.8888888888888888,\"#fdca26\"],[1.0,\"#f0f921\"]],\"sequentialminus\":[[0.0,\"#0d0887\"],[0.1111111111111111,\"#46039f\"],[0.2222222222222222,\"#7201a8\"],[0.3333333333333333,\"#9c179e\"],[0.4444444444444444,\"#bd3786\"],[0.5555555555555556,\"#d8576b\"],[0.6666666666666666,\"#ed7953\"],[0.7777777777777778,\"#fb9f3a\"],[0.8888888888888888,\"#fdca26\"],[1.0,\"#f0f921\"]],\"diverging\":[[0,\"#8e0152\"],[0.1,\"#c51b7d\"],[0.2,\"#de77ae\"],[0.3,\"#f1b6da\"],[0.4,\"#fde0ef\"],[0.5,\"#f7f7f7\"],[0.6,\"#e6f5d0\"],[0.7,\"#b8e186\"],[0.8,\"#7fbc41\"],[0.9,\"#4d9221\"],[1,\"#276419\"]]},\"xaxis\":{\"gridcolor\":\"white\",\"linecolor\":\"white\",\"ticks\":\"\",\"title\":{\"standoff\":15},\"zerolinecolor\":\"white\",\"automargin\":true,\"zerolinewidth\":2},\"yaxis\":{\"gridcolor\":\"white\",\"linecolor\":\"white\",\"ticks\":\"\",\"title\":{\"standoff\":15},\"zerolinecolor\":\"white\",\"automargin\":true,\"zerolinewidth\":2},\"scene\":{\"xaxis\":{\"backgroundcolor\":\"#E5ECF6\",\"gridcolor\":\"white\",\"linecolor\":\"white\",\"showbackground\":true,\"ticks\":\"\",\"zerolinecolor\":\"white\",\"gridwidth\":2},\"yaxis\":{\"backgroundcolor\":\"#E5ECF6\",\"gridcolor\":\"white\",\"linecolor\":\"white\",\"showbackground\":true,\"ticks\":\"\",\"zerolinecolor\":\"white\",\"gridwidth\":2},\"zaxis\":{\"backgroundcolor\":\"#E5ECF6\",\"gridcolor\":\"white\",\"linecolor\":\"white\",\"showbackground\":true,\"ticks\":\"\",\"zerolinecolor\":\"white\",\"gridwidth\":2}},\"shapedefaults\":{\"line\":{\"color\":\"#2a3f5f\"}},\"annotationdefaults\":{\"arrowcolor\":\"#2a3f5f\",\"arrowhead\":0,\"arrowwidth\":1},\"geo\":{\"bgcolor\":\"white\",\"landcolor\":\"#E5ECF6\",\"subunitcolor\":\"white\",\"showland\":true,\"showlakes\":true,\"lakecolor\":\"white\"},\"title\":{\"x\":0.05},\"mapbox\":{\"style\":\"light\"}}}},                        {\"responsive\": true}                    ).then(function(){\n",
       "                            \n",
       "var gd = document.getElementById('745262d1-9e53-49f6-bcc4-99fb7868bf4a');\n",
       "var x = new MutationObserver(function (mutations, observer) {{\n",
       "        var display = window.getComputedStyle(gd).display;\n",
       "        if (!display || display === 'none') {{\n",
       "            console.log([gd, 'removed!']);\n",
       "            Plotly.purge(gd);\n",
       "            observer.disconnect();\n",
       "        }}\n",
       "}});\n",
       "\n",
       "// Listen for the removal of the full notebook cells\n",
       "var notebookContainer = gd.closest('#notebook-container');\n",
       "if (notebookContainer) {{\n",
       "    x.observe(notebookContainer, {childList: true});\n",
       "}}\n",
       "\n",
       "// Listen for the clearing of the current output cell\n",
       "var outputEl = gd.closest('.output');\n",
       "if (outputEl) {{\n",
       "    x.observe(outputEl, {childList: true});\n",
       "}}\n",
       "\n",
       "                        })                };                });            </script>        </div>"
      ]
     },
     "metadata": {},
     "output_type": "display_data"
    }
   ],
   "source": [
    "plot_plotly(model, train_forecasts)"
   ]
  },
  {
   "cell_type": "code",
   "execution_count": 206,
   "metadata": {
    "colab": {
     "base_uri": "https://localhost:8080/",
     "height": 1000
    },
    "id": "DwQc5KQvezuZ",
    "outputId": "5c57352c-90f6-44a9-fc9a-553477720932"
   },
   "outputs": [
    {
     "data": {
      "image/png": "[encoded data removed]",
      "text/plain": [
       "<Figure size 900x900 with 3 Axes>"
      ]
     },
     "execution_count": 206,
     "metadata": {},
     "output_type": "execute_result"
    },
    {
     "data": {
      "image/png": "[encoded data removed]",
      "text/plain": [
       "<Figure size 900x900 with 3 Axes>"
      ]
     },
     "metadata": {},
     "output_type": "display_data"
    }
   ],
   "source": [
    "model.plot_components(train_forecasts)"
   ]
  },
  {
   "cell_type": "code",
   "execution_count": 207,
   "metadata": {},
   "outputs": [
    {
     "data": {
      "text/plain": [
       "(0.012472543216885483,\n",
       " 0.11168054090523327,\n",
       " 0.06975526619363527,\n",
       " 0.013643187079573333)"
      ]
     },
     "execution_count": 207,
     "metadata": {},
     "output_type": "execute_result"
    }
   ],
   "source": [
    "mse = mean_squared_error(train_forecasts['yhat'], train['y'])\n",
    "rmse = math.sqrt(mse)\n",
    "mae = mean_absolute_error(train_forecasts['yhat'], train['y'])\n",
    "mape = mean_absolute_percentage_error(train_forecasts['yhat'], train['y'])\n",
    "mse, rmse, mae, mape"
   ]
  },
  {
   "cell_type": "code",
   "execution_count": 208,
   "metadata": {
    "collapsed": true
   },
   "outputs": [
    {
     "data": {
      "text/html": [
       "<div>\n",
       "<style scoped>\n",
       "    .dataframe tbody tr th:only-of-type {\n",
       "        vertical-align: middle;\n",
       "    }\n",
       "\n",
       "    .dataframe tbody tr th {\n",
       "        vertical-align: top;\n",
       "    }\n",
       "\n",
       "    .dataframe thead th {\n",
       "        text-align: right;\n",
       "    }\n",
       "</style>\n",
       "<table border=\"1\" class=\"dataframe\">\n",
       "  <thead>\n",
       "    <tr style=\"text-align: right;\">\n",
       "      <th></th>\n",
       "      <th>ds</th>\n",
       "      <th>GDP_Construction_Rs_Crs</th>\n",
       "      <th>GDP_Realestate_Rs_Crs</th>\n",
       "      <th>Oveall_GDP_Growth%</th>\n",
       "      <th>Water_Source</th>\n",
       "      <th>Limestone</th>\n",
       "      <th>Coal_Milliontonne</th>\n",
       "      <th>Home_Interest_Rate</th>\n",
       "      <th>Trasportation_Cost</th>\n",
       "      <th>Order_Quantity_Milliontonnes</th>\n",
       "      <th>Unit_Price</th>\n",
       "    </tr>\n",
       "  </thead>\n",
       "  <tbody>\n",
       "    <tr>\n",
       "      <th>84</th>\n",
       "      <td>2022-01-31</td>\n",
       "      <td>0.634891</td>\n",
       "      <td>0.901016</td>\n",
       "      <td>1.000000</td>\n",
       "      <td>0.876267</td>\n",
       "      <td>0.626013</td>\n",
       "      <td>0.844162</td>\n",
       "      <td>0.000000</td>\n",
       "      <td>0.908302</td>\n",
       "      <td>0.979028</td>\n",
       "      <td>0.540459</td>\n",
       "    </tr>\n",
       "    <tr>\n",
       "      <th>85</th>\n",
       "      <td>2022-02-28</td>\n",
       "      <td>0.634891</td>\n",
       "      <td>0.901016</td>\n",
       "      <td>1.000000</td>\n",
       "      <td>0.189694</td>\n",
       "      <td>0.671638</td>\n",
       "      <td>0.737339</td>\n",
       "      <td>0.000000</td>\n",
       "      <td>0.818004</td>\n",
       "      <td>0.899800</td>\n",
       "      <td>0.556159</td>\n",
       "    </tr>\n",
       "    <tr>\n",
       "      <th>86</th>\n",
       "      <td>2022-03-31</td>\n",
       "      <td>0.634891</td>\n",
       "      <td>0.901016</td>\n",
       "      <td>1.000000</td>\n",
       "      <td>0.892693</td>\n",
       "      <td>0.160708</td>\n",
       "      <td>0.607067</td>\n",
       "      <td>0.000000</td>\n",
       "      <td>0.689291</td>\n",
       "      <td>0.832057</td>\n",
       "      <td>0.142110</td>\n",
       "    </tr>\n",
       "    <tr>\n",
       "      <th>87</th>\n",
       "      <td>2022-04-30</td>\n",
       "      <td>0.608789</td>\n",
       "      <td>1.000000</td>\n",
       "      <td>0.737069</td>\n",
       "      <td>0.805803</td>\n",
       "      <td>0.321961</td>\n",
       "      <td>0.488520</td>\n",
       "      <td>0.026273</td>\n",
       "      <td>0.710374</td>\n",
       "      <td>0.747170</td>\n",
       "      <td>0.785024</td>\n",
       "    </tr>\n",
       "    <tr>\n",
       "      <th>88</th>\n",
       "      <td>2022-05-31</td>\n",
       "      <td>0.608789</td>\n",
       "      <td>1.000000</td>\n",
       "      <td>0.564655</td>\n",
       "      <td>0.556340</td>\n",
       "      <td>0.104528</td>\n",
       "      <td>0.412571</td>\n",
       "      <td>0.052545</td>\n",
       "      <td>0.660733</td>\n",
       "      <td>0.797603</td>\n",
       "      <td>0.175926</td>\n",
       "    </tr>\n",
       "    <tr>\n",
       "      <th>89</th>\n",
       "      <td>2022-06-30</td>\n",
       "      <td>0.608789</td>\n",
       "      <td>1.000000</td>\n",
       "      <td>0.650862</td>\n",
       "      <td>0.953485</td>\n",
       "      <td>0.808989</td>\n",
       "      <td>0.347826</td>\n",
       "      <td>0.105090</td>\n",
       "      <td>0.867589</td>\n",
       "      <td>0.890979</td>\n",
       "      <td>0.958937</td>\n",
       "    </tr>\n",
       "    <tr>\n",
       "      <th>90</th>\n",
       "      <td>2022-07-31</td>\n",
       "      <td>0.707109</td>\n",
       "      <td>0.756814</td>\n",
       "      <td>0.581897</td>\n",
       "      <td>0.172961</td>\n",
       "      <td>0.221859</td>\n",
       "      <td>0.057320</td>\n",
       "      <td>0.131363</td>\n",
       "      <td>0.392432</td>\n",
       "      <td>0.507989</td>\n",
       "      <td>0.305556</td>\n",
       "    </tr>\n",
       "    <tr>\n",
       "      <th>91</th>\n",
       "      <td>2022-08-31</td>\n",
       "      <td>0.707109</td>\n",
       "      <td>0.756814</td>\n",
       "      <td>0.659483</td>\n",
       "      <td>0.093696</td>\n",
       "      <td>0.281307</td>\n",
       "      <td>0.177170</td>\n",
       "      <td>0.183908</td>\n",
       "      <td>0.527387</td>\n",
       "      <td>0.545606</td>\n",
       "      <td>0.928140</td>\n",
       "    </tr>\n",
       "    <tr>\n",
       "      <th>92</th>\n",
       "      <td>2022-09-30</td>\n",
       "      <td>0.707109</td>\n",
       "      <td>0.756814</td>\n",
       "      <td>0.642241</td>\n",
       "      <td>0.739331</td>\n",
       "      <td>0.463126</td>\n",
       "      <td>0.384302</td>\n",
       "      <td>0.183908</td>\n",
       "      <td>0.582014</td>\n",
       "      <td>0.680260</td>\n",
       "      <td>0.418277</td>\n",
       "    </tr>\n",
       "    <tr>\n",
       "      <th>93</th>\n",
       "      <td>2022-10-31</td>\n",
       "      <td>1.000000</td>\n",
       "      <td>0.817232</td>\n",
       "      <td>0.581897</td>\n",
       "      <td>0.814809</td>\n",
       "      <td>0.314130</td>\n",
       "      <td>0.884546</td>\n",
       "      <td>0.249589</td>\n",
       "      <td>0.576512</td>\n",
       "      <td>0.696405</td>\n",
       "      <td>0.239130</td>\n",
       "    </tr>\n",
       "    <tr>\n",
       "      <th>94</th>\n",
       "      <td>2022-11-30</td>\n",
       "      <td>1.000000</td>\n",
       "      <td>0.817232</td>\n",
       "      <td>0.693966</td>\n",
       "      <td>0.244243</td>\n",
       "      <td>0.404086</td>\n",
       "      <td>0.842859</td>\n",
       "      <td>0.288998</td>\n",
       "      <td>0.712178</td>\n",
       "      <td>0.863848</td>\n",
       "      <td>0.151369</td>\n",
       "    </tr>\n",
       "    <tr>\n",
       "      <th>95</th>\n",
       "      <td>2022-12-31</td>\n",
       "      <td>1.000000</td>\n",
       "      <td>0.817232</td>\n",
       "      <td>0.599138</td>\n",
       "      <td>0.247569</td>\n",
       "      <td>0.646987</td>\n",
       "      <td>0.978342</td>\n",
       "      <td>0.354680</td>\n",
       "      <td>0.946915</td>\n",
       "      <td>0.942410</td>\n",
       "      <td>0.714976</td>\n",
       "    </tr>\n",
       "  </tbody>\n",
       "</table>\n",
       "</div>"
      ],
      "text/plain": [
       "           ds  GDP_Construction_Rs_Crs  GDP_Realestate_Rs_Crs  \\\n",
       "84 2022-01-31                 0.634891               0.901016   \n",
       "85 2022-02-28                 0.634891               0.901016   \n",
       "86 2022-03-31                 0.634891               0.901016   \n",
       "87 2022-04-30                 0.608789               1.000000   \n",
       "88 2022-05-31                 0.608789               1.000000   \n",
       "89 2022-06-30                 0.608789               1.000000   \n",
       "90 2022-07-31                 0.707109               0.756814   \n",
       "91 2022-08-31                 0.707109               0.756814   \n",
       "92 2022-09-30                 0.707109               0.756814   \n",
       "93 2022-10-31                 1.000000               0.817232   \n",
       "94 2022-11-30                 1.000000               0.817232   \n",
       "95 2022-12-31                 1.000000               0.817232   \n",
       "\n",
       "    Oveall_GDP_Growth%  Water_Source  Limestone  Coal_Milliontonne  \\\n",
       "84            1.000000      0.876267   0.626013           0.844162   \n",
       "85            1.000000      0.189694   0.671638           0.737339   \n",
       "86            1.000000      0.892693   0.160708           0.607067   \n",
       "87            0.737069      0.805803   0.321961           0.488520   \n",
       "88            0.564655      0.556340   0.104528           0.412571   \n",
       "89            0.650862      0.953485   0.808989           0.347826   \n",
       "90            0.581897      0.172961   0.221859           0.057320   \n",
       "91            0.659483      0.093696   0.281307           0.177170   \n",
       "92            0.642241      0.739331   0.463126           0.384302   \n",
       "93            0.581897      0.814809   0.314130           0.884546   \n",
       "94            0.693966      0.244243   0.404086           0.842859   \n",
       "95            0.599138      0.247569   0.646987           0.978342   \n",
       "\n",
       "    Home_Interest_Rate  Trasportation_Cost  Order_Quantity_Milliontonnes  \\\n",
       "84            0.000000            0.908302                      0.979028   \n",
       "85            0.000000            0.818004                      0.899800   \n",
       "86            0.000000            0.689291                      0.832057   \n",
       "87            0.026273            0.710374                      0.747170   \n",
       "88            0.052545            0.660733                      0.797603   \n",
       "89            0.105090            0.867589                      0.890979   \n",
       "90            0.131363            0.392432                      0.507989   \n",
       "91            0.183908            0.527387                      0.545606   \n",
       "92            0.183908            0.582014                      0.680260   \n",
       "93            0.249589            0.576512                      0.696405   \n",
       "94            0.288998            0.712178                      0.863848   \n",
       "95            0.354680            0.946915                      0.942410   \n",
       "\n",
       "    Unit_Price  \n",
       "84    0.540459  \n",
       "85    0.556159  \n",
       "86    0.142110  \n",
       "87    0.785024  \n",
       "88    0.175926  \n",
       "89    0.958937  \n",
       "90    0.305556  \n",
       "91    0.928140  \n",
       "92    0.418277  \n",
       "93    0.239130  \n",
       "94    0.151369  \n",
       "95    0.714976  "
      ]
     },
     "execution_count": 208,
     "metadata": {},
     "output_type": "execute_result"
    }
   ],
   "source": [
    "test_df = test.drop(['y'], axis=1)\n",
    "test_df"
   ]
  },
  {
   "cell_type": "code",
   "execution_count": 209,
   "metadata": {
    "collapsed": true
   },
   "outputs": [
    {
     "data": {
      "text/html": [
       "<div>\n",
       "<style scoped>\n",
       "    .dataframe tbody tr th:only-of-type {\n",
       "        vertical-align: middle;\n",
       "    }\n",
       "\n",
       "    .dataframe tbody tr th {\n",
       "        vertical-align: top;\n",
       "    }\n",
       "\n",
       "    .dataframe thead th {\n",
       "        text-align: right;\n",
       "    }\n",
       "</style>\n",
       "<table border=\"1\" class=\"dataframe\">\n",
       "  <thead>\n",
       "    <tr style=\"text-align: right;\">\n",
       "      <th></th>\n",
       "      <th>ds</th>\n",
       "      <th>trend</th>\n",
       "      <th>yhat_lower</th>\n",
       "      <th>yhat_upper</th>\n",
       "      <th>trend_lower</th>\n",
       "      <th>trend_upper</th>\n",
       "      <th>Coal_Milliontonne</th>\n",
       "      <th>Coal_Milliontonne_lower</th>\n",
       "      <th>Coal_Milliontonne_upper</th>\n",
       "      <th>GDP_Construction_Rs_Crs</th>\n",
       "      <th>...</th>\n",
       "      <th>extra_regressors_additive</th>\n",
       "      <th>extra_regressors_additive_lower</th>\n",
       "      <th>extra_regressors_additive_upper</th>\n",
       "      <th>yearly</th>\n",
       "      <th>yearly_lower</th>\n",
       "      <th>yearly_upper</th>\n",
       "      <th>multiplicative_terms</th>\n",
       "      <th>multiplicative_terms_lower</th>\n",
       "      <th>multiplicative_terms_upper</th>\n",
       "      <th>yhat</th>\n",
       "    </tr>\n",
       "  </thead>\n",
       "  <tbody>\n",
       "    <tr>\n",
       "      <th>0</th>\n",
       "      <td>2022-01-31</td>\n",
       "      <td>5.544762</td>\n",
       "      <td>8.487165</td>\n",
       "      <td>8.785436</td>\n",
       "      <td>5.544680</td>\n",
       "      <td>5.544832</td>\n",
       "      <td>0.013516</td>\n",
       "      <td>0.013516</td>\n",
       "      <td>0.013516</td>\n",
       "      <td>-0.015282</td>\n",
       "      <td>...</td>\n",
       "      <td>3.013099</td>\n",
       "      <td>3.013099</td>\n",
       "      <td>3.013099</td>\n",
       "      <td>0.079289</td>\n",
       "      <td>0.079289</td>\n",
       "      <td>0.079289</td>\n",
       "      <td>0.0</td>\n",
       "      <td>0.0</td>\n",
       "      <td>0.0</td>\n",
       "      <td>8.637150</td>\n",
       "    </tr>\n",
       "    <tr>\n",
       "      <th>1</th>\n",
       "      <td>2022-02-28</td>\n",
       "      <td>5.547226</td>\n",
       "      <td>8.058821</td>\n",
       "      <td>8.350849</td>\n",
       "      <td>5.546894</td>\n",
       "      <td>5.547579</td>\n",
       "      <td>0.010532</td>\n",
       "      <td>0.010532</td>\n",
       "      <td>0.010532</td>\n",
       "      <td>-0.015282</td>\n",
       "      <td>...</td>\n",
       "      <td>2.504602</td>\n",
       "      <td>2.504602</td>\n",
       "      <td>2.504602</td>\n",
       "      <td>0.151841</td>\n",
       "      <td>0.151841</td>\n",
       "      <td>0.151841</td>\n",
       "      <td>0.0</td>\n",
       "      <td>0.0</td>\n",
       "      <td>0.0</td>\n",
       "      <td>8.203669</td>\n",
       "    </tr>\n",
       "    <tr>\n",
       "      <th>2</th>\n",
       "      <td>2022-03-31</td>\n",
       "      <td>5.549952</td>\n",
       "      <td>7.726486</td>\n",
       "      <td>8.014079</td>\n",
       "      <td>5.549260</td>\n",
       "      <td>5.550778</td>\n",
       "      <td>0.006894</td>\n",
       "      <td>0.006894</td>\n",
       "      <td>0.006894</td>\n",
       "      <td>-0.015282</td>\n",
       "      <td>...</td>\n",
       "      <td>2.238205</td>\n",
       "      <td>2.238205</td>\n",
       "      <td>2.238205</td>\n",
       "      <td>0.076591</td>\n",
       "      <td>0.076591</td>\n",
       "      <td>0.076591</td>\n",
       "      <td>0.0</td>\n",
       "      <td>0.0</td>\n",
       "      <td>0.0</td>\n",
       "      <td>7.864749</td>\n",
       "    </tr>\n",
       "    <tr>\n",
       "      <th>3</th>\n",
       "      <td>2022-04-30</td>\n",
       "      <td>5.552591</td>\n",
       "      <td>7.207001</td>\n",
       "      <td>7.491569</td>\n",
       "      <td>5.551439</td>\n",
       "      <td>5.553951</td>\n",
       "      <td>0.003583</td>\n",
       "      <td>0.003583</td>\n",
       "      <td>0.003583</td>\n",
       "      <td>-0.012765</td>\n",
       "      <td>...</td>\n",
       "      <td>1.776174</td>\n",
       "      <td>1.776174</td>\n",
       "      <td>1.776174</td>\n",
       "      <td>0.013521</td>\n",
       "      <td>0.013521</td>\n",
       "      <td>0.013521</td>\n",
       "      <td>0.0</td>\n",
       "      <td>0.0</td>\n",
       "      <td>0.0</td>\n",
       "      <td>7.342287</td>\n",
       "    </tr>\n",
       "    <tr>\n",
       "      <th>4</th>\n",
       "      <td>2022-05-31</td>\n",
       "      <td>5.555318</td>\n",
       "      <td>7.560834</td>\n",
       "      <td>7.842698</td>\n",
       "      <td>5.553540</td>\n",
       "      <td>5.557290</td>\n",
       "      <td>0.001461</td>\n",
       "      <td>0.001461</td>\n",
       "      <td>0.001461</td>\n",
       "      <td>-0.012765</td>\n",
       "      <td>...</td>\n",
       "      <td>2.094830</td>\n",
       "      <td>2.094830</td>\n",
       "      <td>2.094830</td>\n",
       "      <td>0.052124</td>\n",
       "      <td>0.052124</td>\n",
       "      <td>0.052124</td>\n",
       "      <td>0.0</td>\n",
       "      <td>0.0</td>\n",
       "      <td>0.0</td>\n",
       "      <td>7.702272</td>\n",
       "    </tr>\n",
       "    <tr>\n",
       "      <th>5</th>\n",
       "      <td>2022-06-30</td>\n",
       "      <td>5.557957</td>\n",
       "      <td>7.959498</td>\n",
       "      <td>8.246653</td>\n",
       "      <td>5.555541</td>\n",
       "      <td>5.560595</td>\n",
       "      <td>-0.000347</td>\n",
       "      <td>-0.000347</td>\n",
       "      <td>-0.000347</td>\n",
       "      <td>-0.012765</td>\n",
       "      <td>...</td>\n",
       "      <td>2.520335</td>\n",
       "      <td>2.520335</td>\n",
       "      <td>2.520335</td>\n",
       "      <td>0.032628</td>\n",
       "      <td>0.032628</td>\n",
       "      <td>0.032628</td>\n",
       "      <td>0.0</td>\n",
       "      <td>0.0</td>\n",
       "      <td>0.0</td>\n",
       "      <td>8.110921</td>\n",
       "    </tr>\n",
       "    <tr>\n",
       "      <th>6</th>\n",
       "      <td>2022-07-31</td>\n",
       "      <td>5.560684</td>\n",
       "      <td>5.895913</td>\n",
       "      <td>6.188223</td>\n",
       "      <td>5.557530</td>\n",
       "      <td>5.564014</td>\n",
       "      <td>-0.008462</td>\n",
       "      <td>-0.008462</td>\n",
       "      <td>-0.008462</td>\n",
       "      <td>-0.022243</td>\n",
       "      <td>...</td>\n",
       "      <td>0.478512</td>\n",
       "      <td>0.478512</td>\n",
       "      <td>0.478512</td>\n",
       "      <td>-0.002294</td>\n",
       "      <td>-0.002294</td>\n",
       "      <td>-0.002294</td>\n",
       "      <td>0.0</td>\n",
       "      <td>0.0</td>\n",
       "      <td>0.0</td>\n",
       "      <td>6.036902</td>\n",
       "    </tr>\n",
       "    <tr>\n",
       "      <th>7</th>\n",
       "      <td>2022-08-31</td>\n",
       "      <td>5.563411</td>\n",
       "      <td>6.075432</td>\n",
       "      <td>6.368823</td>\n",
       "      <td>5.559456</td>\n",
       "      <td>5.567578</td>\n",
       "      <td>-0.005114</td>\n",
       "      <td>-0.005114</td>\n",
       "      <td>-0.005114</td>\n",
       "      <td>-0.022243</td>\n",
       "      <td>...</td>\n",
       "      <td>0.673170</td>\n",
       "      <td>0.673170</td>\n",
       "      <td>0.673170</td>\n",
       "      <td>-0.012244</td>\n",
       "      <td>-0.012244</td>\n",
       "      <td>-0.012244</td>\n",
       "      <td>0.0</td>\n",
       "      <td>0.0</td>\n",
       "      <td>0.0</td>\n",
       "      <td>6.224338</td>\n",
       "    </tr>\n",
       "    <tr>\n",
       "      <th>8</th>\n",
       "      <td>2022-09-30</td>\n",
       "      <td>5.566050</td>\n",
       "      <td>6.836876</td>\n",
       "      <td>7.124485</td>\n",
       "      <td>5.561316</td>\n",
       "      <td>5.571052</td>\n",
       "      <td>0.000672</td>\n",
       "      <td>0.000672</td>\n",
       "      <td>0.000672</td>\n",
       "      <td>-0.022243</td>\n",
       "      <td>...</td>\n",
       "      <td>1.444833</td>\n",
       "      <td>1.444833</td>\n",
       "      <td>1.444833</td>\n",
       "      <td>-0.033219</td>\n",
       "      <td>-0.033219</td>\n",
       "      <td>-0.033219</td>\n",
       "      <td>0.0</td>\n",
       "      <td>0.0</td>\n",
       "      <td>0.0</td>\n",
       "      <td>6.977664</td>\n",
       "    </tr>\n",
       "    <tr>\n",
       "      <th>9</th>\n",
       "      <td>2022-10-31</td>\n",
       "      <td>5.568777</td>\n",
       "      <td>6.980844</td>\n",
       "      <td>7.270556</td>\n",
       "      <td>5.563136</td>\n",
       "      <td>5.574613</td>\n",
       "      <td>0.014644</td>\n",
       "      <td>0.014644</td>\n",
       "      <td>0.014644</td>\n",
       "      <td>-0.050477</td>\n",
       "      <td>...</td>\n",
       "      <td>1.573294</td>\n",
       "      <td>1.573294</td>\n",
       "      <td>1.573294</td>\n",
       "      <td>-0.021868</td>\n",
       "      <td>-0.021868</td>\n",
       "      <td>-0.021868</td>\n",
       "      <td>0.0</td>\n",
       "      <td>0.0</td>\n",
       "      <td>0.0</td>\n",
       "      <td>7.120203</td>\n",
       "    </tr>\n",
       "    <tr>\n",
       "      <th>10</th>\n",
       "      <td>2022-11-30</td>\n",
       "      <td>5.571416</td>\n",
       "      <td>7.864481</td>\n",
       "      <td>8.140437</td>\n",
       "      <td>5.564605</td>\n",
       "      <td>5.578075</td>\n",
       "      <td>0.013480</td>\n",
       "      <td>0.013480</td>\n",
       "      <td>0.013480</td>\n",
       "      <td>-0.050477</td>\n",
       "      <td>...</td>\n",
       "      <td>2.420845</td>\n",
       "      <td>2.420845</td>\n",
       "      <td>2.420845</td>\n",
       "      <td>0.005487</td>\n",
       "      <td>0.005487</td>\n",
       "      <td>0.005487</td>\n",
       "      <td>0.0</td>\n",
       "      <td>0.0</td>\n",
       "      <td>0.0</td>\n",
       "      <td>7.997748</td>\n",
       "    </tr>\n",
       "    <tr>\n",
       "      <th>11</th>\n",
       "      <td>2022-12-31</td>\n",
       "      <td>5.574143</td>\n",
       "      <td>8.461986</td>\n",
       "      <td>8.743809</td>\n",
       "      <td>5.566160</td>\n",
       "      <td>5.581812</td>\n",
       "      <td>0.017264</td>\n",
       "      <td>0.017264</td>\n",
       "      <td>0.017264</td>\n",
       "      <td>-0.050477</td>\n",
       "      <td>...</td>\n",
       "      <td>2.972513</td>\n",
       "      <td>2.972513</td>\n",
       "      <td>2.972513</td>\n",
       "      <td>0.057110</td>\n",
       "      <td>0.057110</td>\n",
       "      <td>0.057110</td>\n",
       "      <td>0.0</td>\n",
       "      <td>0.0</td>\n",
       "      <td>0.0</td>\n",
       "      <td>8.603766</td>\n",
       "    </tr>\n",
       "  </tbody>\n",
       "</table>\n",
       "<p>12 rows × 49 columns</p>\n",
       "</div>"
      ],
      "text/plain": [
       "           ds     trend  yhat_lower  yhat_upper  trend_lower  trend_upper  \\\n",
       "0  2022-01-31  5.544762    8.487165    8.785436     5.544680     5.544832   \n",
       "1  2022-02-28  5.547226    8.058821    8.350849     5.546894     5.547579   \n",
       "2  2022-03-31  5.549952    7.726486    8.014079     5.549260     5.550778   \n",
       "3  2022-04-30  5.552591    7.207001    7.491569     5.551439     5.553951   \n",
       "4  2022-05-31  5.555318    7.560834    7.842698     5.553540     5.557290   \n",
       "5  2022-06-30  5.557957    7.959498    8.246653     5.555541     5.560595   \n",
       "6  2022-07-31  5.560684    5.895913    6.188223     5.557530     5.564014   \n",
       "7  2022-08-31  5.563411    6.075432    6.368823     5.559456     5.567578   \n",
       "8  2022-09-30  5.566050    6.836876    7.124485     5.561316     5.571052   \n",
       "9  2022-10-31  5.568777    6.980844    7.270556     5.563136     5.574613   \n",
       "10 2022-11-30  5.571416    7.864481    8.140437     5.564605     5.578075   \n",
       "11 2022-12-31  5.574143    8.461986    8.743809     5.566160     5.581812   \n",
       "\n",
       "    Coal_Milliontonne  Coal_Milliontonne_lower  Coal_Milliontonne_upper  \\\n",
       "0            0.013516                 0.013516                 0.013516   \n",
       "1            0.010532                 0.010532                 0.010532   \n",
       "2            0.006894                 0.006894                 0.006894   \n",
       "3            0.003583                 0.003583                 0.003583   \n",
       "4            0.001461                 0.001461                 0.001461   \n",
       "5           -0.000347                -0.000347                -0.000347   \n",
       "6           -0.008462                -0.008462                -0.008462   \n",
       "7           -0.005114                -0.005114                -0.005114   \n",
       "8            0.000672                 0.000672                 0.000672   \n",
       "9            0.014644                 0.014644                 0.014644   \n",
       "10           0.013480                 0.013480                 0.013480   \n",
       "11           0.017264                 0.017264                 0.017264   \n",
       "\n",
       "    GDP_Construction_Rs_Crs  ...  extra_regressors_additive  \\\n",
       "0                 -0.015282  ...                   3.013099   \n",
       "1                 -0.015282  ...                   2.504602   \n",
       "2                 -0.015282  ...                   2.238205   \n",
       "3                 -0.012765  ...                   1.776174   \n",
       "4                 -0.012765  ...                   2.094830   \n",
       "5                 -0.012765  ...                   2.520335   \n",
       "6                 -0.022243  ...                   0.478512   \n",
       "7                 -0.022243  ...                   0.673170   \n",
       "8                 -0.022243  ...                   1.444833   \n",
       "9                 -0.050477  ...                   1.573294   \n",
       "10                -0.050477  ...                   2.420845   \n",
       "11                -0.050477  ...                   2.972513   \n",
       "\n",
       "    extra_regressors_additive_lower  extra_regressors_additive_upper  \\\n",
       "0                          3.013099                         3.013099   \n",
       "1                          2.504602                         2.504602   \n",
       "2                          2.238205                         2.238205   \n",
       "3                          1.776174                         1.776174   \n",
       "4                          2.094830                         2.094830   \n",
       "5                          2.520335                         2.520335   \n",
       "6                          0.478512                         0.478512   \n",
       "7                          0.673170                         0.673170   \n",
       "8                          1.444833                         1.444833   \n",
       "9                          1.573294                         1.573294   \n",
       "10                         2.420845                         2.420845   \n",
       "11                         2.972513                         2.972513   \n",
       "\n",
       "      yearly  yearly_lower  yearly_upper  multiplicative_terms  \\\n",
       "0   0.079289      0.079289      0.079289                   0.0   \n",
       "1   0.151841      0.151841      0.151841                   0.0   \n",
       "2   0.076591      0.076591      0.076591                   0.0   \n",
       "3   0.013521      0.013521      0.013521                   0.0   \n",
       "4   0.052124      0.052124      0.052124                   0.0   \n",
       "5   0.032628      0.032628      0.032628                   0.0   \n",
       "6  -0.002294     -0.002294     -0.002294                   0.0   \n",
       "7  -0.012244     -0.012244     -0.012244                   0.0   \n",
       "8  -0.033219     -0.033219     -0.033219                   0.0   \n",
       "9  -0.021868     -0.021868     -0.021868                   0.0   \n",
       "10  0.005487      0.005487      0.005487                   0.0   \n",
       "11  0.057110      0.057110      0.057110                   0.0   \n",
       "\n",
       "    multiplicative_terms_lower  multiplicative_terms_upper      yhat  \n",
       "0                          0.0                         0.0  8.637150  \n",
       "1                          0.0                         0.0  8.203669  \n",
       "2                          0.0                         0.0  7.864749  \n",
       "3                          0.0                         0.0  7.342287  \n",
       "4                          0.0                         0.0  7.702272  \n",
       "5                          0.0                         0.0  8.110921  \n",
       "6                          0.0                         0.0  6.036902  \n",
       "7                          0.0                         0.0  6.224338  \n",
       "8                          0.0                         0.0  6.977664  \n",
       "9                          0.0                         0.0  7.120203  \n",
       "10                         0.0                         0.0  7.997748  \n",
       "11                         0.0                         0.0  8.603766  \n",
       "\n",
       "[12 rows x 49 columns]"
      ]
     },
     "execution_count": 209,
     "metadata": {},
     "output_type": "execute_result"
    }
   ],
   "source": [
    "test_forecasts = model.predict(test_df)\n",
    "test_forecasts"
   ]
  },
  {
   "cell_type": "code",
   "execution_count": 210,
   "metadata": {
    "collapsed": true
   },
   "outputs": [
    {
     "data": {
      "application/vnd.plotly.v1+json": {
       "config": {
        "plotlyServerURL": "https://plot.ly"
       },
       "data": [
        {
         "marker": {
          "color": "black",
          "size": 4
         },
         "mode": "markers",
         "name": "Actual",
         "type": "scatter",
         "x": [
          "2015-01-31T00:00:00",
          "2015-02-28T00:00:00",
          "2015-03-31T00:00:00",
          "2015-04-30T00:00:00",
          "2015-05-31T00:00:00",
          "2015-06-30T00:00:00",
          "2015-07-31T00:00:00",
          "2015-08-31T00:00:00",
          "2015-09-30T00:00:00",
          "2015-10-31T00:00:00",
          "2015-11-30T00:00:00",
          "2015-12-31T00:00:00",
          "2016-01-31T00:00:00",
          "2016-02-29T00:00:00",
          "2016-03-31T00:00:00",
          "2016-04-30T00:00:00",
          "2016-05-31T00:00:00",
          "2016-06-30T00:00:00",
          "2016-07-31T00:00:00",
          "2016-08-31T00:00:00",
          "2016-09-30T00:00:00",
          "2016-10-31T00:00:00",
          "2016-11-30T00:00:00",
          "2016-12-31T00:00:00",
          "2017-01-31T00:00:00",
          "2017-02-28T00:00:00",
          "2017-03-31T00:00:00",
          "2017-04-30T00:00:00",
          "2017-05-31T00:00:00",
          "2017-06-30T00:00:00",
          "2017-07-31T00:00:00",
          "2017-08-31T00:00:00",
          "2017-09-30T00:00:00",
          "2017-10-31T00:00:00",
          "2017-11-30T00:00:00",
          "2017-12-31T00:00:00",
          "2018-01-31T00:00:00",
          "2018-02-28T00:00:00",
          "2018-03-31T00:00:00",
          "2018-04-30T00:00:00",
          "2018-05-31T00:00:00",
          "2018-06-30T00:00:00",
          "2018-07-31T00:00:00",
          "2018-08-31T00:00:00",
          "2018-09-30T00:00:00",
          "2018-10-31T00:00:00",
          "2018-11-30T00:00:00",
          "2018-12-31T00:00:00",
          "2019-01-31T00:00:00",
          "2019-02-28T00:00:00",
          "2019-03-31T00:00:00",
          "2019-04-30T00:00:00",
          "2019-05-31T00:00:00",
          "2019-06-30T00:00:00",
          "2019-07-31T00:00:00",
          "2019-08-31T00:00:00",
          "2019-09-30T00:00:00",
          "2019-10-31T00:00:00",
          "2019-11-30T00:00:00",
          "2019-12-31T00:00:00",
          "2020-01-31T00:00:00",
          "2020-02-29T00:00:00",
          "2020-03-31T00:00:00",
          "2020-04-30T00:00:00",
          "2020-05-31T00:00:00",
          "2020-06-30T00:00:00",
          "2020-07-31T00:00:00",
          "2020-08-31T00:00:00",
          "2020-09-30T00:00:00",
          "2020-10-31T00:00:00",
          "2020-11-30T00:00:00",
          "2020-12-31T00:00:00",
          "2021-01-31T00:00:00",
          "2021-02-28T00:00:00",
          "2021-03-31T00:00:00",
          "2021-04-30T00:00:00",
          "2021-05-31T00:00:00",
          "2021-06-30T00:00:00",
          "2021-07-31T00:00:00",
          "2021-08-31T00:00:00",
          "2021-09-30T00:00:00",
          "2021-10-31T00:00:00",
          "2021-11-30T00:00:00",
          "2021-12-31T00:00:00"
         ],
         "y": [
          4.598,
          4.308,
          3.659,
          3.51,
          3.541,
          3.976,
          3.021,
          3.148,
          3.158,
          3.21,
          4.127,
          4.439,
          5.856,
          4.876,
          3.865,
          3.872,
          4.051,
          4.131,
          3.527,
          3.347,
          3.408,
          3.491,
          4.588,
          5.126,
          5.615,
          4.715,
          4.121,
          3.978,
          3.981,
          4.302,
          3.428,
          3.401,
          3.299,
          3.552,
          4.316,
          5.286,
          6.989,
          5.678,
          4.715,
          4.189,
          4.465,
          5.316,
          3.791,
          3.799,
          3.915,
          4.142,
          4.842,
          6.509,
          7.491,
          7.289,
          6.544,
          6.001,
          6.215,
          7.101,
          5.199,
          6.012,
          5.701,
          6.376,
          6.587,
          7.481,
          8.226,
          7.216,
          6.245,
          5.925,
          5.984,
          6.891,
          4.875,
          5.615,
          5.842,
          5.912,
          6.016,
          8.124,
          8.954,
          7.864,
          6.915,
          6.873,
          6.946,
          7.245,
          5.543,
          5.915,
          6.542,
          6.781,
          6.872,
          8.011
         ]
        },
        {
         "hoverinfo": "skip",
         "line": {
          "width": 0
         },
         "mode": "lines",
         "type": "scatter",
         "x": [
          "2022-01-31T00:00:00",
          "2022-02-28T00:00:00",
          "2022-03-31T00:00:00",
          "2022-04-30T00:00:00",
          "2022-05-31T00:00:00",
          "2022-06-30T00:00:00",
          "2022-07-31T00:00:00",
          "2022-08-31T00:00:00",
          "2022-09-30T00:00:00",
          "2022-10-31T00:00:00",
          "2022-11-30T00:00:00",
          "2022-12-31T00:00:00"
         ],
         "y": [
          8.48716523304871,
          8.058821138183333,
          7.726485874824148,
          7.207000711859847,
          7.560833922064992,
          7.959498434986239,
          5.895912743613068,
          6.075431781063285,
          6.8368758152678115,
          6.980844418777002,
          7.864481211834091,
          8.461986256086403
         ]
        },
        {
         "fill": "tonexty",
         "fillcolor": "rgba(0, 114, 178, 0.2)",
         "line": {
          "color": "#0072B2",
          "width": 2
         },
         "mode": "lines",
         "name": "Predicted",
         "type": "scatter",
         "x": [
          "2022-01-31T00:00:00",
          "2022-02-28T00:00:00",
          "2022-03-31T00:00:00",
          "2022-04-30T00:00:00",
          "2022-05-31T00:00:00",
          "2022-06-30T00:00:00",
          "2022-07-31T00:00:00",
          "2022-08-31T00:00:00",
          "2022-09-30T00:00:00",
          "2022-10-31T00:00:00",
          "2022-11-30T00:00:00",
          "2022-12-31T00:00:00"
         ],
         "y": [
          8.63715010904621,
          8.203668524048464,
          7.864748599348967,
          7.342287089644574,
          7.702272077902441,
          8.110920800996551,
          6.036901863988618,
          6.224337604404576,
          6.977663573716668,
          7.120203407935179,
          7.9977478680737395,
          8.603765840389578
         ]
        },
        {
         "fill": "tonexty",
         "fillcolor": "rgba(0, 114, 178, 0.2)",
         "hoverinfo": "skip",
         "line": {
          "width": 0
         },
         "mode": "lines",
         "type": "scatter",
         "x": [
          "2022-01-31T00:00:00",
          "2022-02-28T00:00:00",
          "2022-03-31T00:00:00",
          "2022-04-30T00:00:00",
          "2022-05-31T00:00:00",
          "2022-06-30T00:00:00",
          "2022-07-31T00:00:00",
          "2022-08-31T00:00:00",
          "2022-09-30T00:00:00",
          "2022-10-31T00:00:00",
          "2022-11-30T00:00:00",
          "2022-12-31T00:00:00"
         ],
         "y": [
          8.785436278965125,
          8.350849296631225,
          8.014079169932042,
          7.491568616170478,
          7.842698499211052,
          8.246653304838931,
          6.188222961460071,
          6.368822955517862,
          7.124484501243398,
          7.270555969673174,
          8.140436528428985,
          8.743809096239714
         ]
        }
       ],
       "layout": {
        "height": 600,
        "showlegend": false,
        "template": {
         "data": {
          "bar": [
           {
            "error_x": {
             "color": "#2a3f5f"
            },
            "error_y": {
             "color": "#2a3f5f"
            },
            "marker": {
             "line": {
              "color": "#E5ECF6",
              "width": 0.5
             },
             "pattern": {
              "fillmode": "overlay",
              "size": 10,
              "solidity": 0.2
             }
            },
            "type": "bar"
           }
          ],
          "barpolar": [
           {
            "marker": {
             "line": {
              "color": "#E5ECF6",
              "width": 0.5
             },
             "pattern": {
              "fillmode": "overlay",
              "size": 10,
              "solidity": 0.2
             }
            },
            "type": "barpolar"
           }
          ],
          "carpet": [
           {
            "aaxis": {
             "endlinecolor": "#2a3f5f",
             "gridcolor": "white",
             "linecolor": "white",
             "minorgridcolor": "white",
             "startlinecolor": "#2a3f5f"
            },
            "baxis": {
             "endlinecolor": "#2a3f5f",
             "gridcolor": "white",
             "linecolor": "white",
             "minorgridcolor": "white",
             "startlinecolor": "#2a3f5f"
            },
            "type": "carpet"
           }
          ],
          "choropleth": [
           {
            "colorbar": {
             "outlinewidth": 0,
             "ticks": ""
            },
            "type": "choropleth"
           }
          ],
          "contour": [
           {
            "colorbar": {
             "outlinewidth": 0,
             "ticks": ""
            },
            "colorscale": [
             [
              0,
              "#0d0887"
             ],
             [
              0.1111111111111111,
              "#46039f"
             ],
             [
              0.2222222222222222,
              "#7201a8"
             ],
             [
              0.3333333333333333,
              "#9c179e"
             ],
             [
              0.4444444444444444,
              "#bd3786"
             ],
             [
              0.5555555555555556,
              "#d8576b"
             ],
             [
              0.6666666666666666,
              "#ed7953"
             ],
             [
              0.7777777777777778,
              "#fb9f3a"
             ],
             [
              0.8888888888888888,
              "#fdca26"
             ],
             [
              1,
              "#f0f921"
             ]
            ],
            "type": "contour"
           }
          ],
          "contourcarpet": [
           {
            "colorbar": {
             "outlinewidth": 0,
             "ticks": ""
            },
            "type": "contourcarpet"
           }
          ],
          "heatmap": [
           {
            "colorbar": {
             "outlinewidth": 0,
             "ticks": ""
            },
            "colorscale": [
             [
              0,
              "#0d0887"
             ],
             [
              0.1111111111111111,
              "#46039f"
             ],
             [
              0.2222222222222222,
              "#7201a8"
             ],
             [
              0.3333333333333333,
              "#9c179e"
             ],
             [
              0.4444444444444444,
              "#bd3786"
             ],
             [
              0.5555555555555556,
              "#d8576b"
             ],
             [
              0.6666666666666666,
              "#ed7953"
             ],
             [
              0.7777777777777778,
              "#fb9f3a"
             ],
             [
              0.8888888888888888,
              "#fdca26"
             ],
             [
              1,
              "#f0f921"
             ]
            ],
            "type": "heatmap"
           }
          ],
          "heatmapgl": [
           {
            "colorbar": {
             "outlinewidth": 0,
             "ticks": ""
            },
            "colorscale": [
             [
              0,
              "#0d0887"
             ],
             [
              0.1111111111111111,
              "#46039f"
             ],
             [
              0.2222222222222222,
              "#7201a8"
             ],
             [
              0.3333333333333333,
              "#9c179e"
             ],
             [
              0.4444444444444444,
              "#bd3786"
             ],
             [
              0.5555555555555556,
              "#d8576b"
             ],
             [
              0.6666666666666666,
              "#ed7953"
             ],
             [
              0.7777777777777778,
              "#fb9f3a"
             ],
             [
              0.8888888888888888,
              "#fdca26"
             ],
             [
              1,
              "#f0f921"
             ]
            ],
            "type": "heatmapgl"
           }
          ],
          "histogram": [
           {
            "marker": {
             "pattern": {
              "fillmode": "overlay",
              "size": 10,
              "solidity": 0.2
             }
            },
            "type": "histogram"
           }
          ],
          "histogram2d": [
           {
            "colorbar": {
             "outlinewidth": 0,
             "ticks": ""
            },
            "colorscale": [
             [
              0,
              "#0d0887"
             ],
             [
              0.1111111111111111,
              "#46039f"
             ],
             [
              0.2222222222222222,
              "#7201a8"
             ],
             [
              0.3333333333333333,
              "#9c179e"
             ],
             [
              0.4444444444444444,
              "#bd3786"
             ],
             [
              0.5555555555555556,
              "#d8576b"
             ],
             [
              0.6666666666666666,
              "#ed7953"
             ],
             [
              0.7777777777777778,
              "#fb9f3a"
             ],
             [
              0.8888888888888888,
              "#fdca26"
             ],
             [
              1,
              "#f0f921"
             ]
            ],
            "type": "histogram2d"
           }
          ],
          "histogram2dcontour": [
           {
            "colorbar": {
             "outlinewidth": 0,
             "ticks": ""
            },
            "colorscale": [
             [
              0,
              "#0d0887"
             ],
             [
              0.1111111111111111,
              "#46039f"
             ],
             [
              0.2222222222222222,
              "#7201a8"
             ],
             [
              0.3333333333333333,
              "#9c179e"
             ],
             [
              0.4444444444444444,
              "#bd3786"
             ],
             [
              0.5555555555555556,
              "#d8576b"
             ],
             [
              0.6666666666666666,
              "#ed7953"
             ],
             [
              0.7777777777777778,
              "#fb9f3a"
             ],
             [
              0.8888888888888888,
              "#fdca26"
             ],
             [
              1,
              "#f0f921"
             ]
            ],
            "type": "histogram2dcontour"
           }
          ],
          "mesh3d": [
           {
            "colorbar": {
             "outlinewidth": 0,
             "ticks": ""
            },
            "type": "mesh3d"
           }
          ],
          "parcoords": [
           {
            "line": {
             "colorbar": {
              "outlinewidth": 0,
              "ticks": ""
             }
            },
            "type": "parcoords"
           }
          ],
          "pie": [
           {
            "automargin": true,
            "type": "pie"
           }
          ],
          "scatter": [
           {
            "fillpattern": {
             "fillmode": "overlay",
             "size": 10,
             "solidity": 0.2
            },
            "type": "scatter"
           }
          ],
          "scatter3d": [
           {
            "line": {
             "colorbar": {
              "outlinewidth": 0,
              "ticks": ""
             }
            },
            "marker": {
             "colorbar": {
              "outlinewidth": 0,
              "ticks": ""
             }
            },
            "type": "scatter3d"
           }
          ],
          "scattercarpet": [
           {
            "marker": {
             "colorbar": {
              "outlinewidth": 0,
              "ticks": ""
             }
            },
            "type": "scattercarpet"
           }
          ],
          "scattergeo": [
           {
            "marker": {
             "colorbar": {
              "outlinewidth": 0,
              "ticks": ""
             }
            },
            "type": "scattergeo"
           }
          ],
          "scattergl": [
           {
            "marker": {
             "colorbar": {
              "outlinewidth": 0,
              "ticks": ""
             }
            },
            "type": "scattergl"
           }
          ],
          "scattermapbox": [
           {
            "marker": {
             "colorbar": {
              "outlinewidth": 0,
              "ticks": ""
             }
            },
            "type": "scattermapbox"
           }
          ],
          "scatterpolar": [
           {
            "marker": {
             "colorbar": {
              "outlinewidth": 0,
              "ticks": ""
             }
            },
            "type": "scatterpolar"
           }
          ],
          "scatterpolargl": [
           {
            "marker": {
             "colorbar": {
              "outlinewidth": 0,
              "ticks": ""
             }
            },
            "type": "scatterpolargl"
           }
          ],
          "scatterternary": [
           {
            "marker": {
             "colorbar": {
              "outlinewidth": 0,
              "ticks": ""
             }
            },
            "type": "scatterternary"
           }
          ],
          "surface": [
           {
            "colorbar": {
             "outlinewidth": 0,
             "ticks": ""
            },
            "colorscale": [
             [
              0,
              "#0d0887"
             ],
             [
              0.1111111111111111,
              "#46039f"
             ],
             [
              0.2222222222222222,
              "#7201a8"
             ],
             [
              0.3333333333333333,
              "#9c179e"
             ],
             [
              0.4444444444444444,
              "#bd3786"
             ],
             [
              0.5555555555555556,
              "#d8576b"
             ],
             [
              0.6666666666666666,
              "#ed7953"
             ],
             [
              0.7777777777777778,
              "#fb9f3a"
             ],
             [
              0.8888888888888888,
              "#fdca26"
             ],
             [
              1,
              "#f0f921"
             ]
            ],
            "type": "surface"
           }
          ],
          "table": [
           {
            "cells": {
             "fill": {
              "color": "#EBF0F8"
             },
             "line": {
              "color": "white"
             }
            },
            "header": {
             "fill": {
              "color": "#C8D4E3"
             },
             "line": {
              "color": "white"
             }
            },
            "type": "table"
           }
          ]
         },
         "layout": {
          "annotationdefaults": {
           "arrowcolor": "#2a3f5f",
           "arrowhead": 0,
           "arrowwidth": 1
          },
          "autotypenumbers": "strict",
          "coloraxis": {
           "colorbar": {
            "outlinewidth": 0,
            "ticks": ""
           }
          },
          "colorscale": {
           "diverging": [
            [
             0,
             "#8e0152"
            ],
            [
             0.1,
             "#c51b7d"
            ],
            [
             0.2,
             "#de77ae"
            ],
            [
             0.3,
             "#f1b6da"
            ],
            [
             0.4,
             "#fde0ef"
            ],
            [
             0.5,
             "#f7f7f7"
            ],
            [
             0.6,
             "#e6f5d0"
            ],
            [
             0.7,
             "#b8e186"
            ],
            [
             0.8,
             "#7fbc41"
            ],
            [
             0.9,
             "#4d9221"
            ],
            [
             1,
             "#276419"
            ]
           ],
           "sequential": [
            [
             0,
             "#0d0887"
            ],
            [
             0.1111111111111111,
             "#46039f"
            ],
            [
             0.2222222222222222,
             "#7201a8"
            ],
            [
             0.3333333333333333,
             "#9c179e"
            ],
            [
             0.4444444444444444,
             "#bd3786"
            ],
            [
             0.5555555555555556,
             "#d8576b"
            ],
            [
             0.6666666666666666,
             "#ed7953"
            ],
            [
             0.7777777777777778,
             "#fb9f3a"
            ],
            [
             0.8888888888888888,
             "#fdca26"
            ],
            [
             1,
             "#f0f921"
            ]
           ],
           "sequentialminus": [
            [
             0,
             "#0d0887"
            ],
            [
             0.1111111111111111,
             "#46039f"
            ],
            [
             0.2222222222222222,
             "#7201a8"
            ],
            [
             0.3333333333333333,
             "#9c179e"
            ],
            [
             0.4444444444444444,
             "#bd3786"
            ],
            [
             0.5555555555555556,
             "#d8576b"
            ],
            [
             0.6666666666666666,
             "#ed7953"
            ],
            [
             0.7777777777777778,
             "#fb9f3a"
            ],
            [
             0.8888888888888888,
             "#fdca26"
            ],
            [
             1,
             "#f0f921"
            ]
           ]
          },
          "colorway": [
           "#636efa",
           "#EF553B",
           "#00cc96",
           "#ab63fa",
           "#FFA15A",
           "#19d3f3",
           "#FF6692",
           "#B6E880",
           "#FF97FF",
           "#FECB52"
          ],
          "font": {
           "color": "#2a3f5f"
          },
          "geo": {
           "bgcolor": "white",
           "lakecolor": "white",
           "landcolor": "#E5ECF6",
           "showlakes": true,
           "showland": true,
           "subunitcolor": "white"
          },
          "hoverlabel": {
           "align": "left"
          },
          "hovermode": "closest",
          "mapbox": {
           "style": "light"
          },
          "paper_bgcolor": "white",
          "plot_bgcolor": "#E5ECF6",
          "polar": {
           "angularaxis": {
            "gridcolor": "white",
            "linecolor": "white",
            "ticks": ""
           },
           "bgcolor": "#E5ECF6",
           "radialaxis": {
            "gridcolor": "white",
            "linecolor": "white",
            "ticks": ""
           }
          },
          "scene": {
           "xaxis": {
            "backgroundcolor": "#E5ECF6",
            "gridcolor": "white",
            "gridwidth": 2,
            "linecolor": "white",
            "showbackground": true,
            "ticks": "",
            "zerolinecolor": "white"
           },
           "yaxis": {
            "backgroundcolor": "#E5ECF6",
            "gridcolor": "white",
            "gridwidth": 2,
            "linecolor": "white",
            "showbackground": true,
            "ticks": "",
            "zerolinecolor": "white"
           },
           "zaxis": {
            "backgroundcolor": "#E5ECF6",
            "gridcolor": "white",
            "gridwidth": 2,
            "linecolor": "white",
            "showbackground": true,
            "ticks": "",
            "zerolinecolor": "white"
           }
          },
          "shapedefaults": {
           "line": {
            "color": "#2a3f5f"
           }
          },
          "ternary": {
           "aaxis": {
            "gridcolor": "white",
            "linecolor": "white",
            "ticks": ""
           },
           "baxis": {
            "gridcolor": "white",
            "linecolor": "white",
            "ticks": ""
           },
           "bgcolor": "#E5ECF6",
           "caxis": {
            "gridcolor": "white",
            "linecolor": "white",
            "ticks": ""
           }
          },
          "title": {
           "x": 0.05
          },
          "xaxis": {
           "automargin": true,
           "gridcolor": "white",
           "linecolor": "white",
           "ticks": "",
           "title": {
            "standoff": 15
           },
           "zerolinecolor": "white",
           "zerolinewidth": 2
          },
          "yaxis": {
           "automargin": true,
           "gridcolor": "white",
           "linecolor": "white",
           "ticks": "",
           "title": {
            "standoff": 15
           },
           "zerolinecolor": "white",
           "zerolinewidth": 2
          }
         }
        },
        "width": 900,
        "xaxis": {
         "rangeselector": {
          "buttons": [
           {
            "count": 7,
            "label": "1w",
            "step": "day",
            "stepmode": "backward"
           },
           {
            "count": 1,
            "label": "1m",
            "step": "month",
            "stepmode": "backward"
           },
           {
            "count": 6,
            "label": "6m",
            "step": "month",
            "stepmode": "backward"
           },
           {
            "count": 1,
            "label": "1y",
            "step": "year",
            "stepmode": "backward"
           },
           {
            "step": "all"
           }
          ]
         },
         "rangeslider": {
          "visible": true
         },
         "title": {
          "text": "ds"
         },
         "type": "date"
        },
        "yaxis": {
         "title": {
          "text": "y"
         }
        }
       }
      },
      "text/html": [
       "<div>                            <div id=\"32a46e78-236f-434d-b567-30925c45b8b4\" class=\"plotly-graph-div\" style=\"height:600px; width:900px;\"></div>            <script type=\"text/javascript\">                require([\"plotly\"], function(Plotly) {                    window.PLOTLYENV=window.PLOTLYENV || {};                                    if (document.getElementById(\"32a46e78-236f-434d-b567-30925c45b8b4\")) {                    Plotly.newPlot(                        \"32a46e78-236f-434d-b567-30925c45b8b4\",                        [{\"marker\":{\"color\":\"black\",\"size\":4},\"mode\":\"markers\",\"name\":\"Actual\",\"x\":[\"2015-01-31T00:00:00\",\"2015-02-28T00:00:00\",\"2015-03-31T00:00:00\",\"2015-04-30T00:00:00\",\"2015-05-31T00:00:00\",\"2015-06-30T00:00:00\",\"2015-07-31T00:00:00\",\"2015-08-31T00:00:00\",\"2015-09-30T00:00:00\",\"2015-10-31T00:00:00\",\"2015-11-30T00:00:00\",\"2015-12-31T00:00:00\",\"2016-01-31T00:00:00\",\"2016-02-29T00:00:00\",\"2016-03-31T00:00:00\",\"2016-04-30T00:00:00\",\"2016-05-31T00:00:00\",\"2016-06-30T00:00:00\",\"2016-07-31T00:00:00\",\"2016-08-31T00:00:00\",\"2016-09-30T00:00:00\",\"2016-10-31T00:00:00\",\"2016-11-30T00:00:00\",\"2016-12-31T00:00:00\",\"2017-01-31T00:00:00\",\"2017-02-28T00:00:00\",\"2017-03-31T00:00:00\",\"2017-04-30T00:00:00\",\"2017-05-31T00:00:00\",\"2017-06-30T00:00:00\",\"2017-07-31T00:00:00\",\"2017-08-31T00:00:00\",\"2017-09-30T00:00:00\",\"2017-10-31T00:00:00\",\"2017-11-30T00:00:00\",\"2017-12-31T00:00:00\",\"2018-01-31T00:00:00\",\"2018-02-28T00:00:00\",\"2018-03-31T00:00:00\",\"2018-04-30T00:00:00\",\"2018-05-31T00:00:00\",\"2018-06-30T00:00:00\",\"2018-07-31T00:00:00\",\"2018-08-31T00:00:00\",\"2018-09-30T00:00:00\",\"2018-10-31T00:00:00\",\"2018-11-30T00:00:00\",\"2018-12-31T00:00:00\",\"2019-01-31T00:00:00\",\"2019-02-28T00:00:00\",\"2019-03-31T00:00:00\",\"2019-04-30T00:00:00\",\"2019-05-31T00:00:00\",\"2019-06-30T00:00:00\",\"2019-07-31T00:00:00\",\"2019-08-31T00:00:00\",\"2019-09-30T00:00:00\",\"2019-10-31T00:00:00\",\"2019-11-30T00:00:00\",\"2019-12-31T00:00:00\",\"2020-01-31T00:00:00\",\"2020-02-29T00:00:00\",\"2020-03-31T00:00:00\",\"2020-04-30T00:00:00\",\"2020-05-31T00:00:00\",\"2020-06-30T00:00:00\",\"2020-07-31T00:00:00\",\"2020-08-31T00:00:00\",\"2020-09-30T00:00:00\",\"2020-10-31T00:00:00\",\"2020-11-30T00:00:00\",\"2020-12-31T00:00:00\",\"2021-01-31T00:00:00\",\"2021-02-28T00:00:00\",\"2021-03-31T00:00:00\",\"2021-04-30T00:00:00\",\"2021-05-31T00:00:00\",\"2021-06-30T00:00:00\",\"2021-07-31T00:00:00\",\"2021-08-31T00:00:00\",\"2021-09-30T00:00:00\",\"2021-10-31T00:00:00\",\"2021-11-30T00:00:00\",\"2021-12-31T00:00:00\"],\"y\":[4.598,4.308,3.659,3.51,3.541,3.976,3.021,3.148,3.158,3.21,4.127,4.439,5.856,4.876,3.865,3.872,4.051,4.131,3.527,3.347,3.408,3.491,4.588,5.126,5.615,4.715,4.121,3.978,3.981,4.302,3.428,3.401,3.299,3.552,4.316,5.286,6.989,5.678,4.715,4.189,4.465,5.316,3.791,3.799,3.915,4.142,4.842,6.509,7.491,7.289,6.544,6.001,6.215,7.101,5.199,6.012,5.701,6.376,6.587,7.481,8.226,7.216,6.245,5.925,5.984,6.891,4.875,5.615,5.842,5.912,6.016,8.124,8.954,7.864,6.915,6.873,6.946,7.245,5.543,5.915,6.542,6.781,6.872,8.011],\"type\":\"scatter\"},{\"hoverinfo\":\"skip\",\"line\":{\"width\":0},\"mode\":\"lines\",\"x\":[\"2022-01-31T00:00:00\",\"2022-02-28T00:00:00\",\"2022-03-31T00:00:00\",\"2022-04-30T00:00:00\",\"2022-05-31T00:00:00\",\"2022-06-30T00:00:00\",\"2022-07-31T00:00:00\",\"2022-08-31T00:00:00\",\"2022-09-30T00:00:00\",\"2022-10-31T00:00:00\",\"2022-11-30T00:00:00\",\"2022-12-31T00:00:00\"],\"y\":[8.48716523304871,8.058821138183333,7.726485874824148,7.207000711859847,7.560833922064992,7.959498434986239,5.895912743613068,6.075431781063285,6.8368758152678115,6.980844418777002,7.864481211834091,8.461986256086403],\"type\":\"scatter\"},{\"fill\":\"tonexty\",\"fillcolor\":\"rgba(0, 114, 178, 0.2)\",\"line\":{\"color\":\"#0072B2\",\"width\":2},\"mode\":\"lines\",\"name\":\"Predicted\",\"x\":[\"2022-01-31T00:00:00\",\"2022-02-28T00:00:00\",\"2022-03-31T00:00:00\",\"2022-04-30T00:00:00\",\"2022-05-31T00:00:00\",\"2022-06-30T00:00:00\",\"2022-07-31T00:00:00\",\"2022-08-31T00:00:00\",\"2022-09-30T00:00:00\",\"2022-10-31T00:00:00\",\"2022-11-30T00:00:00\",\"2022-12-31T00:00:00\"],\"y\":[8.63715010904621,8.203668524048464,7.864748599348967,7.342287089644574,7.702272077902441,8.110920800996551,6.036901863988618,6.224337604404576,6.977663573716668,7.120203407935179,7.9977478680737395,8.603765840389578],\"type\":\"scatter\"},{\"fill\":\"tonexty\",\"fillcolor\":\"rgba(0, 114, 178, 0.2)\",\"hoverinfo\":\"skip\",\"line\":{\"width\":0},\"mode\":\"lines\",\"x\":[\"2022-01-31T00:00:00\",\"2022-02-28T00:00:00\",\"2022-03-31T00:00:00\",\"2022-04-30T00:00:00\",\"2022-05-31T00:00:00\",\"2022-06-30T00:00:00\",\"2022-07-31T00:00:00\",\"2022-08-31T00:00:00\",\"2022-09-30T00:00:00\",\"2022-10-31T00:00:00\",\"2022-11-30T00:00:00\",\"2022-12-31T00:00:00\"],\"y\":[8.785436278965125,8.350849296631225,8.014079169932042,7.491568616170478,7.842698499211052,8.246653304838931,6.188222961460071,6.368822955517862,7.124484501243398,7.270555969673174,8.140436528428985,8.743809096239714],\"type\":\"scatter\"}],                        {\"height\":600,\"showlegend\":false,\"width\":900,\"xaxis\":{\"rangeselector\":{\"buttons\":[{\"count\":7,\"label\":\"1w\",\"step\":\"day\",\"stepmode\":\"backward\"},{\"count\":1,\"label\":\"1m\",\"step\":\"month\",\"stepmode\":\"backward\"},{\"count\":6,\"label\":\"6m\",\"step\":\"month\",\"stepmode\":\"backward\"},{\"count\":1,\"label\":\"1y\",\"step\":\"year\",\"stepmode\":\"backward\"},{\"step\":\"all\"}]},\"rangeslider\":{\"visible\":true},\"title\":{\"text\":\"ds\"},\"type\":\"date\"},\"yaxis\":{\"title\":{\"text\":\"y\"}},\"template\":{\"data\":{\"histogram2dcontour\":[{\"type\":\"histogram2dcontour\",\"colorbar\":{\"outlinewidth\":0,\"ticks\":\"\"},\"colorscale\":[[0.0,\"#0d0887\"],[0.1111111111111111,\"#46039f\"],[0.2222222222222222,\"#7201a8\"],[0.3333333333333333,\"#9c179e\"],[0.4444444444444444,\"#bd3786\"],[0.5555555555555556,\"#d8576b\"],[0.6666666666666666,\"#ed7953\"],[0.7777777777777778,\"#fb9f3a\"],[0.8888888888888888,\"#fdca26\"],[1.0,\"#f0f921\"]]}],\"choropleth\":[{\"type\":\"choropleth\",\"colorbar\":{\"outlinewidth\":0,\"ticks\":\"\"}}],\"histogram2d\":[{\"type\":\"histogram2d\",\"colorbar\":{\"outlinewidth\":0,\"ticks\":\"\"},\"colorscale\":[[0.0,\"#0d0887\"],[0.1111111111111111,\"#46039f\"],[0.2222222222222222,\"#7201a8\"],[0.3333333333333333,\"#9c179e\"],[0.4444444444444444,\"#bd3786\"],[0.5555555555555556,\"#d8576b\"],[0.6666666666666666,\"#ed7953\"],[0.7777777777777778,\"#fb9f3a\"],[0.8888888888888888,\"#fdca26\"],[1.0,\"#f0f921\"]]}],\"heatmap\":[{\"type\":\"heatmap\",\"colorbar\":{\"outlinewidth\":0,\"ticks\":\"\"},\"colorscale\":[[0.0,\"#0d0887\"],[0.1111111111111111,\"#46039f\"],[0.2222222222222222,\"#7201a8\"],[0.3333333333333333,\"#9c179e\"],[0.4444444444444444,\"#bd3786\"],[0.5555555555555556,\"#d8576b\"],[0.6666666666666666,\"#ed7953\"],[0.7777777777777778,\"#fb9f3a\"],[0.8888888888888888,\"#fdca26\"],[1.0,\"#f0f921\"]]}],\"heatmapgl\":[{\"type\":\"heatmapgl\",\"colorbar\":{\"outlinewidth\":0,\"ticks\":\"\"},\"colorscale\":[[0.0,\"#0d0887\"],[0.1111111111111111,\"#46039f\"],[0.2222222222222222,\"#7201a8\"],[0.3333333333333333,\"#9c179e\"],[0.4444444444444444,\"#bd3786\"],[0.5555555555555556,\"#d8576b\"],[0.6666666666666666,\"#ed7953\"],[0.7777777777777778,\"#fb9f3a\"],[0.8888888888888888,\"#fdca26\"],[1.0,\"#f0f921\"]]}],\"contourcarpet\":[{\"type\":\"contourcarpet\",\"colorbar\":{\"outlinewidth\":0,\"ticks\":\"\"}}],\"contour\":[{\"type\":\"contour\",\"colorbar\":{\"outlinewidth\":0,\"ticks\":\"\"},\"colorscale\":[[0.0,\"#0d0887\"],[0.1111111111111111,\"#46039f\"],[0.2222222222222222,\"#7201a8\"],[0.3333333333333333,\"#9c179e\"],[0.4444444444444444,\"#bd3786\"],[0.5555555555555556,\"#d8576b\"],[0.6666666666666666,\"#ed7953\"],[0.7777777777777778,\"#fb9f3a\"],[0.8888888888888888,\"#fdca26\"],[1.0,\"#f0f921\"]]}],\"surface\":[{\"type\":\"surface\",\"colorbar\":{\"outlinewidth\":0,\"ticks\":\"\"},\"colorscale\":[[0.0,\"#0d0887\"],[0.1111111111111111,\"#46039f\"],[0.2222222222222222,\"#7201a8\"],[0.3333333333333333,\"#9c179e\"],[0.4444444444444444,\"#bd3786\"],[0.5555555555555556,\"#d8576b\"],[0.6666666666666666,\"#ed7953\"],[0.7777777777777778,\"#fb9f3a\"],[0.8888888888888888,\"#fdca26\"],[1.0,\"#f0f921\"]]}],\"mesh3d\":[{\"type\":\"mesh3d\",\"colorbar\":{\"outlinewidth\":0,\"ticks\":\"\"}}],\"scatter\":[{\"fillpattern\":{\"fillmode\":\"overlay\",\"size\":10,\"solidity\":0.2},\"type\":\"scatter\"}],\"parcoords\":[{\"type\":\"parcoords\",\"line\":{\"colorbar\":{\"outlinewidth\":0,\"ticks\":\"\"}}}],\"scatterpolargl\":[{\"type\":\"scatterpolargl\",\"marker\":{\"colorbar\":{\"outlinewidth\":0,\"ticks\":\"\"}}}],\"bar\":[{\"error_x\":{\"color\":\"#2a3f5f\"},\"error_y\":{\"color\":\"#2a3f5f\"},\"marker\":{\"line\":{\"color\":\"#E5ECF6\",\"width\":0.5},\"pattern\":{\"fillmode\":\"overlay\",\"size\":10,\"solidity\":0.2}},\"type\":\"bar\"}],\"scattergeo\":[{\"type\":\"scattergeo\",\"marker\":{\"colorbar\":{\"outlinewidth\":0,\"ticks\":\"\"}}}],\"scatterpolar\":[{\"type\":\"scatterpolar\",\"marker\":{\"colorbar\":{\"outlinewidth\":0,\"ticks\":\"\"}}}],\"histogram\":[{\"marker\":{\"pattern\":{\"fillmode\":\"overlay\",\"size\":10,\"solidity\":0.2}},\"type\":\"histogram\"}],\"scattergl\":[{\"type\":\"scattergl\",\"marker\":{\"colorbar\":{\"outlinewidth\":0,\"ticks\":\"\"}}}],\"scatter3d\":[{\"type\":\"scatter3d\",\"line\":{\"colorbar\":{\"outlinewidth\":0,\"ticks\":\"\"}},\"marker\":{\"colorbar\":{\"outlinewidth\":0,\"ticks\":\"\"}}}],\"scattermapbox\":[{\"type\":\"scattermapbox\",\"marker\":{\"colorbar\":{\"outlinewidth\":0,\"ticks\":\"\"}}}],\"scatterternary\":[{\"type\":\"scatterternary\",\"marker\":{\"colorbar\":{\"outlinewidth\":0,\"ticks\":\"\"}}}],\"scattercarpet\":[{\"type\":\"scattercarpet\",\"marker\":{\"colorbar\":{\"outlinewidth\":0,\"ticks\":\"\"}}}],\"carpet\":[{\"aaxis\":{\"endlinecolor\":\"#2a3f5f\",\"gridcolor\":\"white\",\"linecolor\":\"white\",\"minorgridcolor\":\"white\",\"startlinecolor\":\"#2a3f5f\"},\"baxis\":{\"endlinecolor\":\"#2a3f5f\",\"gridcolor\":\"white\",\"linecolor\":\"white\",\"minorgridcolor\":\"white\",\"startlinecolor\":\"#2a3f5f\"},\"type\":\"carpet\"}],\"table\":[{\"cells\":{\"fill\":{\"color\":\"#EBF0F8\"},\"line\":{\"color\":\"white\"}},\"header\":{\"fill\":{\"color\":\"#C8D4E3\"},\"line\":{\"color\":\"white\"}},\"type\":\"table\"}],\"barpolar\":[{\"marker\":{\"line\":{\"color\":\"#E5ECF6\",\"width\":0.5},\"pattern\":{\"fillmode\":\"overlay\",\"size\":10,\"solidity\":0.2}},\"type\":\"barpolar\"}],\"pie\":[{\"automargin\":true,\"type\":\"pie\"}]},\"layout\":{\"autotypenumbers\":\"strict\",\"colorway\":[\"#636efa\",\"#EF553B\",\"#00cc96\",\"#ab63fa\",\"#FFA15A\",\"#19d3f3\",\"#FF6692\",\"#B6E880\",\"#FF97FF\",\"#FECB52\"],\"font\":{\"color\":\"#2a3f5f\"},\"hovermode\":\"closest\",\"hoverlabel\":{\"align\":\"left\"},\"paper_bgcolor\":\"white\",\"plot_bgcolor\":\"#E5ECF6\",\"polar\":{\"bgcolor\":\"#E5ECF6\",\"angularaxis\":{\"gridcolor\":\"white\",\"linecolor\":\"white\",\"ticks\":\"\"},\"radialaxis\":{\"gridcolor\":\"white\",\"linecolor\":\"white\",\"ticks\":\"\"}},\"ternary\":{\"bgcolor\":\"#E5ECF6\",\"aaxis\":{\"gridcolor\":\"white\",\"linecolor\":\"white\",\"ticks\":\"\"},\"baxis\":{\"gridcolor\":\"white\",\"linecolor\":\"white\",\"ticks\":\"\"},\"caxis\":{\"gridcolor\":\"white\",\"linecolor\":\"white\",\"ticks\":\"\"}},\"coloraxis\":{\"colorbar\":{\"outlinewidth\":0,\"ticks\":\"\"}},\"colorscale\":{\"sequential\":[[0.0,\"#0d0887\"],[0.1111111111111111,\"#46039f\"],[0.2222222222222222,\"#7201a8\"],[0.3333333333333333,\"#9c179e\"],[0.4444444444444444,\"#bd3786\"],[0.5555555555555556,\"#d8576b\"],[0.6666666666666666,\"#ed7953\"],[0.7777777777777778,\"#fb9f3a\"],[0.8888888888888888,\"#fdca26\"],[1.0,\"#f0f921\"]],\"sequentialminus\":[[0.0,\"#0d0887\"],[0.1111111111111111,\"#46039f\"],[0.2222222222222222,\"#7201a8\"],[0.3333333333333333,\"#9c179e\"],[0.4444444444444444,\"#bd3786\"],[0.5555555555555556,\"#d8576b\"],[0.6666666666666666,\"#ed7953\"],[0.7777777777777778,\"#fb9f3a\"],[0.8888888888888888,\"#fdca26\"],[1.0,\"#f0f921\"]],\"diverging\":[[0,\"#8e0152\"],[0.1,\"#c51b7d\"],[0.2,\"#de77ae\"],[0.3,\"#f1b6da\"],[0.4,\"#fde0ef\"],[0.5,\"#f7f7f7\"],[0.6,\"#e6f5d0\"],[0.7,\"#b8e186\"],[0.8,\"#7fbc41\"],[0.9,\"#4d9221\"],[1,\"#276419\"]]},\"xaxis\":{\"gridcolor\":\"white\",\"linecolor\":\"white\",\"ticks\":\"\",\"title\":{\"standoff\":15},\"zerolinecolor\":\"white\",\"automargin\":true,\"zerolinewidth\":2},\"yaxis\":{\"gridcolor\":\"white\",\"linecolor\":\"white\",\"ticks\":\"\",\"title\":{\"standoff\":15},\"zerolinecolor\":\"white\",\"automargin\":true,\"zerolinewidth\":2},\"scene\":{\"xaxis\":{\"backgroundcolor\":\"#E5ECF6\",\"gridcolor\":\"white\",\"linecolor\":\"white\",\"showbackground\":true,\"ticks\":\"\",\"zerolinecolor\":\"white\",\"gridwidth\":2},\"yaxis\":{\"backgroundcolor\":\"#E5ECF6\",\"gridcolor\":\"white\",\"linecolor\":\"white\",\"showbackground\":true,\"ticks\":\"\",\"zerolinecolor\":\"white\",\"gridwidth\":2},\"zaxis\":{\"backgroundcolor\":\"#E5ECF6\",\"gridcolor\":\"white\",\"linecolor\":\"white\",\"showbackground\":true,\"ticks\":\"\",\"zerolinecolor\":\"white\",\"gridwidth\":2}},\"shapedefaults\":{\"line\":{\"color\":\"#2a3f5f\"}},\"annotationdefaults\":{\"arrowcolor\":\"#2a3f5f\",\"arrowhead\":0,\"arrowwidth\":1},\"geo\":{\"bgcolor\":\"white\",\"landcolor\":\"#E5ECF6\",\"subunitcolor\":\"white\",\"showland\":true,\"showlakes\":true,\"lakecolor\":\"white\"},\"title\":{\"x\":0.05},\"mapbox\":{\"style\":\"light\"}}}},                        {\"responsive\": true}                    ).then(function(){\n",
       "                            \n",
       "var gd = document.getElementById('32a46e78-236f-434d-b567-30925c45b8b4');\n",
       "var x = new MutationObserver(function (mutations, observer) {{\n",
       "        var display = window.getComputedStyle(gd).display;\n",
       "        if (!display || display === 'none') {{\n",
       "            console.log([gd, 'removed!']);\n",
       "            Plotly.purge(gd);\n",
       "            observer.disconnect();\n",
       "        }}\n",
       "}});\n",
       "\n",
       "// Listen for the removal of the full notebook cells\n",
       "var notebookContainer = gd.closest('#notebook-container');\n",
       "if (notebookContainer) {{\n",
       "    x.observe(notebookContainer, {childList: true});\n",
       "}}\n",
       "\n",
       "// Listen for the clearing of the current output cell\n",
       "var outputEl = gd.closest('.output');\n",
       "if (outputEl) {{\n",
       "    x.observe(outputEl, {childList: true});\n",
       "}}\n",
       "\n",
       "                        })                };                });            </script>        </div>"
      ]
     },
     "metadata": {},
     "output_type": "display_data"
    }
   ],
   "source": [
    "plot_plotly(model, test_forecasts)"
   ]
  },
  {
   "cell_type": "code",
   "execution_count": 211,
   "metadata": {
    "collapsed": true
   },
   "outputs": [
    {
     "data": {
      "image/png": "[encoded data removed]",
      "text/plain": [
       "<Figure size 900x900 with 3 Axes>"
      ]
     },
     "execution_count": 211,
     "metadata": {},
     "output_type": "execute_result"
    },
    {
     "data": {
      "image/png": "[encoded data removed]",
      "text/plain": [
       "<Figure size 900x900 with 3 Axes>"
      ]
     },
     "metadata": {},
     "output_type": "display_data"
    }
   ],
   "source": [
    "model.plot_components(test_forecasts)"
   ]
  },
  {
   "cell_type": "code",
   "execution_count": 212,
   "metadata": {
    "collapsed": true
   },
   "outputs": [
    {
     "data": {
      "text/html": [
       "<div>\n",
       "<style scoped>\n",
       "    .dataframe tbody tr th:only-of-type {\n",
       "        vertical-align: middle;\n",
       "    }\n",
       "\n",
       "    .dataframe tbody tr th {\n",
       "        vertical-align: top;\n",
       "    }\n",
       "\n",
       "    .dataframe thead th {\n",
       "        text-align: right;\n",
       "    }\n",
       "</style>\n",
       "<table border=\"1\" class=\"dataframe\">\n",
       "  <thead>\n",
       "    <tr style=\"text-align: right;\">\n",
       "      <th></th>\n",
       "      <th>yhat</th>\n",
       "      <th>yhat_upper</th>\n",
       "      <th>yhat_lower</th>\n",
       "      <th>Order_Quantity_Milliontonnes</th>\n",
       "    </tr>\n",
       "  </thead>\n",
       "  <tbody>\n",
       "    <tr>\n",
       "      <th>0</th>\n",
       "      <td>8.637150</td>\n",
       "      <td>8.785436</td>\n",
       "      <td>8.487165</td>\n",
       "      <td>2.254189</td>\n",
       "    </tr>\n",
       "    <tr>\n",
       "      <th>1</th>\n",
       "      <td>8.203669</td>\n",
       "      <td>8.350849</td>\n",
       "      <td>8.058821</td>\n",
       "      <td>1.956234</td>\n",
       "    </tr>\n",
       "    <tr>\n",
       "      <th>2</th>\n",
       "      <td>7.864749</td>\n",
       "      <td>8.014079</td>\n",
       "      <td>7.726486</td>\n",
       "      <td>1.701471</td>\n",
       "    </tr>\n",
       "    <tr>\n",
       "      <th>3</th>\n",
       "      <td>7.342287</td>\n",
       "      <td>7.491569</td>\n",
       "      <td>7.207001</td>\n",
       "      <td>1.382234</td>\n",
       "    </tr>\n",
       "    <tr>\n",
       "      <th>4</th>\n",
       "      <td>7.702272</td>\n",
       "      <td>7.842698</td>\n",
       "      <td>7.560834</td>\n",
       "      <td>1.571898</td>\n",
       "    </tr>\n",
       "    <tr>\n",
       "      <th>5</th>\n",
       "      <td>8.110921</td>\n",
       "      <td>8.246653</td>\n",
       "      <td>7.959498</td>\n",
       "      <td>1.923059</td>\n",
       "    </tr>\n",
       "    <tr>\n",
       "      <th>6</th>\n",
       "      <td>6.036902</td>\n",
       "      <td>6.188223</td>\n",
       "      <td>5.895913</td>\n",
       "      <td>0.482738</td>\n",
       "    </tr>\n",
       "    <tr>\n",
       "      <th>7</th>\n",
       "      <td>6.224338</td>\n",
       "      <td>6.368823</td>\n",
       "      <td>6.075432</td>\n",
       "      <td>0.624203</td>\n",
       "    </tr>\n",
       "    <tr>\n",
       "      <th>8</th>\n",
       "      <td>6.977664</td>\n",
       "      <td>7.124485</td>\n",
       "      <td>6.836876</td>\n",
       "      <td>1.130600</td>\n",
       "    </tr>\n",
       "    <tr>\n",
       "      <th>9</th>\n",
       "      <td>7.120203</td>\n",
       "      <td>7.270556</td>\n",
       "      <td>6.980844</td>\n",
       "      <td>1.191318</td>\n",
       "    </tr>\n",
       "    <tr>\n",
       "      <th>10</th>\n",
       "      <td>7.997748</td>\n",
       "      <td>8.140437</td>\n",
       "      <td>7.864481</td>\n",
       "      <td>1.821028</td>\n",
       "    </tr>\n",
       "    <tr>\n",
       "      <th>11</th>\n",
       "      <td>8.603766</td>\n",
       "      <td>8.743809</td>\n",
       "      <td>8.461986</td>\n",
       "      <td>2.116479</td>\n",
       "    </tr>\n",
       "  </tbody>\n",
       "</table>\n",
       "</div>"
      ],
      "text/plain": [
       "        yhat  yhat_upper  yhat_lower  Order_Quantity_Milliontonnes\n",
       "0   8.637150    8.785436    8.487165                      2.254189\n",
       "1   8.203669    8.350849    8.058821                      1.956234\n",
       "2   7.864749    8.014079    7.726486                      1.701471\n",
       "3   7.342287    7.491569    7.207001                      1.382234\n",
       "4   7.702272    7.842698    7.560834                      1.571898\n",
       "5   8.110921    8.246653    7.959498                      1.923059\n",
       "6   6.036902    6.188223    5.895913                      0.482738\n",
       "7   6.224338    6.368823    6.075432                      0.624203\n",
       "8   6.977664    7.124485    6.836876                      1.130600\n",
       "9   7.120203    7.270556    6.980844                      1.191318\n",
       "10  7.997748    8.140437    7.864481                      1.821028\n",
       "11  8.603766    8.743809    8.461986                      2.116479"
      ]
     },
     "execution_count": 212,
     "metadata": {},
     "output_type": "execute_result"
    }
   ],
   "source": [
    "test_forecasts = pd.DataFrame(test_forecasts[['yhat', 'yhat_upper', 'yhat_lower', 'Order_Quantity_Milliontonnes']])\n",
    "test_forecasts"
   ]
  },
  {
   "cell_type": "code",
   "execution_count": 213,
   "metadata": {},
   "outputs": [
    {
     "data": {
      "text/plain": [
       "(0.024965120363209848,\n",
       " 0.15800354541341738,\n",
       " 0.12626136404013924,\n",
       " 0.015991480712809456)"
      ]
     },
     "execution_count": 213,
     "metadata": {},
     "output_type": "execute_result"
    }
   ],
   "source": [
    "mse = mean_squared_error(test_forecasts['yhat'], test['y'])\n",
    "rmse = math.sqrt(mse)\n",
    "mae = mean_absolute_error(test_forecasts['yhat'], test['y'])\n",
    "mape = mean_absolute_percentage_error(test_forecasts['yhat'], test['y'])\n",
    "mse, rmse, mae, mape"
   ]
  },
  {
   "cell_type": "code",
   "execution_count": 175,
   "metadata": {
    "collapsed": true
   },
   "outputs": [
    {
     "data": {
      "text/html": [
       "<div>\n",
       "<style scoped>\n",
       "    .dataframe tbody tr th:only-of-type {\n",
       "        vertical-align: middle;\n",
       "    }\n",
       "\n",
       "    .dataframe tbody tr th {\n",
       "        vertical-align: top;\n",
       "    }\n",
       "\n",
       "    .dataframe thead th {\n",
       "        text-align: right;\n",
       "    }\n",
       "</style>\n",
       "<table border=\"1\" class=\"dataframe\">\n",
       "  <thead>\n",
       "    <tr style=\"text-align: right;\">\n",
       "      <th></th>\n",
       "      <th>yhat</th>\n",
       "      <th>y</th>\n",
       "    </tr>\n",
       "  </thead>\n",
       "  <tbody>\n",
       "    <tr>\n",
       "      <th>0</th>\n",
       "      <td>8.637150</td>\n",
       "      <td>NaN</td>\n",
       "    </tr>\n",
       "    <tr>\n",
       "      <th>1</th>\n",
       "      <td>8.203669</td>\n",
       "      <td>NaN</td>\n",
       "    </tr>\n",
       "    <tr>\n",
       "      <th>2</th>\n",
       "      <td>7.864749</td>\n",
       "      <td>NaN</td>\n",
       "    </tr>\n",
       "    <tr>\n",
       "      <th>3</th>\n",
       "      <td>7.342287</td>\n",
       "      <td>NaN</td>\n",
       "    </tr>\n",
       "    <tr>\n",
       "      <th>4</th>\n",
       "      <td>7.702272</td>\n",
       "      <td>NaN</td>\n",
       "    </tr>\n",
       "    <tr>\n",
       "      <th>5</th>\n",
       "      <td>8.110921</td>\n",
       "      <td>NaN</td>\n",
       "    </tr>\n",
       "    <tr>\n",
       "      <th>6</th>\n",
       "      <td>6.036902</td>\n",
       "      <td>NaN</td>\n",
       "    </tr>\n",
       "    <tr>\n",
       "      <th>7</th>\n",
       "      <td>6.224338</td>\n",
       "      <td>NaN</td>\n",
       "    </tr>\n",
       "    <tr>\n",
       "      <th>8</th>\n",
       "      <td>6.977664</td>\n",
       "      <td>NaN</td>\n",
       "    </tr>\n",
       "    <tr>\n",
       "      <th>9</th>\n",
       "      <td>7.120203</td>\n",
       "      <td>NaN</td>\n",
       "    </tr>\n",
       "    <tr>\n",
       "      <th>10</th>\n",
       "      <td>7.997748</td>\n",
       "      <td>NaN</td>\n",
       "    </tr>\n",
       "    <tr>\n",
       "      <th>11</th>\n",
       "      <td>8.603766</td>\n",
       "      <td>NaN</td>\n",
       "    </tr>\n",
       "    <tr>\n",
       "      <th>84</th>\n",
       "      <td>NaN</td>\n",
       "      <td>8.921</td>\n",
       "    </tr>\n",
       "    <tr>\n",
       "      <th>85</th>\n",
       "      <td>NaN</td>\n",
       "      <td>8.345</td>\n",
       "    </tr>\n",
       "    <tr>\n",
       "      <th>86</th>\n",
       "      <td>NaN</td>\n",
       "      <td>7.985</td>\n",
       "    </tr>\n",
       "    <tr>\n",
       "      <th>87</th>\n",
       "      <td>NaN</td>\n",
       "      <td>7.456</td>\n",
       "    </tr>\n",
       "    <tr>\n",
       "      <th>88</th>\n",
       "      <td>NaN</td>\n",
       "      <td>7.762</td>\n",
       "    </tr>\n",
       "    <tr>\n",
       "      <th>89</th>\n",
       "      <td>NaN</td>\n",
       "      <td>8.216</td>\n",
       "    </tr>\n",
       "    <tr>\n",
       "      <th>90</th>\n",
       "      <td>NaN</td>\n",
       "      <td>5.912</td>\n",
       "    </tr>\n",
       "    <tr>\n",
       "      <th>91</th>\n",
       "      <td>NaN</td>\n",
       "      <td>6.245</td>\n",
       "    </tr>\n",
       "    <tr>\n",
       "      <th>92</th>\n",
       "      <td>NaN</td>\n",
       "      <td>7.015</td>\n",
       "    </tr>\n",
       "    <tr>\n",
       "      <th>93</th>\n",
       "      <td>NaN</td>\n",
       "      <td>7.152</td>\n",
       "    </tr>\n",
       "    <tr>\n",
       "      <th>94</th>\n",
       "      <td>NaN</td>\n",
       "      <td>8.124</td>\n",
       "    </tr>\n",
       "    <tr>\n",
       "      <th>95</th>\n",
       "      <td>NaN</td>\n",
       "      <td>8.954</td>\n",
       "    </tr>\n",
       "  </tbody>\n",
       "</table>\n",
       "</div>"
      ],
      "text/plain": [
       "        yhat      y\n",
       "0   8.637150    NaN\n",
       "1   8.203669    NaN\n",
       "2   7.864749    NaN\n",
       "3   7.342287    NaN\n",
       "4   7.702272    NaN\n",
       "5   8.110921    NaN\n",
       "6   6.036902    NaN\n",
       "7   6.224338    NaN\n",
       "8   6.977664    NaN\n",
       "9   7.120203    NaN\n",
       "10  7.997748    NaN\n",
       "11  8.603766    NaN\n",
       "84       NaN  8.921\n",
       "85       NaN  8.345\n",
       "86       NaN  7.985\n",
       "87       NaN  7.456\n",
       "88       NaN  7.762\n",
       "89       NaN  8.216\n",
       "90       NaN  5.912\n",
       "91       NaN  6.245\n",
       "92       NaN  7.015\n",
       "93       NaN  7.152\n",
       "94       NaN  8.124\n",
       "95       NaN  8.954"
      ]
     },
     "execution_count": 175,
     "metadata": {},
     "output_type": "execute_result"
    }
   ],
   "source": [
    "final_df = pd.concat((test_forecasts['yhat'], test['y']), axis = 1)\n",
    "final_df"
   ]
  },
  {
   "cell_type": "code",
   "execution_count": 214,
   "metadata": {},
   "outputs": [],
   "source": [
    "import pickle\n",
    "with open('Prophet.pkl', \"wb\") as f:\n",
    "    pickle.dump(model, f)"
   ]
  },
  {
   "cell_type": "code",
   "execution_count": null,
   "metadata": {},
   "outputs": [],
   "source": []
  }
 ],
 "metadata": {
  "colab": {
   "collapsed_sections": [],
   "name": "FB Prophet - Uni & Multi.ipynb",
   "provenance": []
  },
  "kernelspec": {
   "display_name": "Python 3 (ipykernel)",
   "language": "python",
   "name": "python3"
  },
  "language_info": {
   "codemirror_mode": {
    "name": "ipython",
    "version": 3
   },
   "file_extension": ".py",
   "mimetype": "text/x-python",
   "name": "python",
   "nbconvert_exporter": "python",
   "pygments_lexer": "ipython3",
   "version": "3.9.13"
  }
 },
 "nbformat": 4,
 "nbformat_minor": 1
}
